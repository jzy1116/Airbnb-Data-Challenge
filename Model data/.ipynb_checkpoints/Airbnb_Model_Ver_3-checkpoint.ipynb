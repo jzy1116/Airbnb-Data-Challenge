{
 "cells": [
  {
   "cell_type": "markdown",
   "metadata": {
    "colab_type": "text",
    "id": "jIEJCJ4Sj5Xw"
   },
   "source": [
    "# Introduction \n",
    "\n",
    "This project is to find the opportunities​ ​to​ ​increase​ ​successful​ ​guest-host​ ​matching​ ​using the datasets of Airbnb's inquiry records. According to the exploratory analysis results of the datasets, inquiries usually follow the steps of receiving reply from hosts, acceptance from hosts, and confirmation from guests to be successfully booked. This notebook aims to find the drivers of the three steps. \n",
    "\n",
    "# Summary of results\n",
    "\n",
    "## Drivers of reply\n",
    "\n",
    "Important drivers of reply are:\n",
    "*   Number of reviews for the listing\n",
    "*   First message length\n",
    "*   Lead time\n",
    "\n",
    "More specifically:\n",
    "\n",
    "*   Having more than 10 reviews significantly increases the probability of reply\n",
    "*   Messages with more than 150 characters are likely to be replied, messages too short(0-150 characters) have a lower chance to be replied.\n",
    "*   Inquiries with long lead time (>90d) have a lower chance to be replied.\n",
    "\n",
    "\n",
    "### Business understanding\n",
    "\n",
    "Following actions could be useful to drive up reply rate:\n",
    "\n",
    "*   Can consider to promote new hosts so that they can have more chance to get reviews and increase bookings\n",
    "*   Can encourage guests to send longer message (>150 characters) and prompt for desired information of hosts \n",
    "\n",
    "## Drivers of acceptance\n",
    "\n",
    "Important drivers of acceptance are:\n",
    "*   Number of interactions\n",
    "*   Number of reviews\n",
    "*   Lead time\n",
    "*   Days of stay\n",
    "*   Reply time\n",
    "*   First message length\n",
    "*   Guest size\n",
    "\n",
    "\n",
    "More specifically:\n",
    "\n",
    "\n",
    "*   More than 20 interactions significantly increases the probability of acceptance, and having less than 10 interactions decreases it\n",
    "*   Hosts whose listings have more than 10 reviews are more likely to accept the inquiries than those whose listings have less than 10 reviews\n",
    "*   Inquiries made less than 90 days before check-in are more likely to be accepted\n",
    "*   Inquiries for less than 15 days of stay are likely to be accepted\n",
    "*   Hosts who reply sooner are more likely to accept the inquiries\n",
    "*   Inquiries with message between 150 and 450 characters are more likely to be accepted\n",
    "*   Inquiries for single guest are most likely to be accepted, and inquiries for more than 2 guests are less likely to be booked\n",
    "\n",
    "\n",
    "And there are some interesting findings about interaction features:\n",
    "\n",
    "*   Having more than 10 interactions drives up the probability of acceptance from negative to positive for lead times < 90 days. For inquiries with lead time >90 days, need more than 20 interactions to drive acceptance.\n",
    "\n",
    "*   When lead time between 31 - 60 days, sending long messages(> 450 char) drags down acceptance rate. When lead time between 61 - 90 days, sending short messages(< 150 char) drags down acceptance rate.\n",
    "\n",
    "*   Having less than 10 interactions decreases the probability of acceptance across all lengths of stay. When stay <= 5 days, interaction between 11 - 20 benefits acceptance the most. When stay between 6 - 15 days, interaction between 21 - 30 benefits acceptance the most. When stay > 15 days, need more than 30 interactions to drive acceptance.\n",
    "\n",
    "*   When guest size = 1, inquiries for a shared room are most likely to be accepted; when guest size = 2, inquiries for an entire_home/apt are less likely to be accepted; when guest size between 3 - 4 or > 6, inquiries for an entire_home/apt are most likely to be accepted; when guest size between 5 - 6, inquiries for an entire_home/apt are less likely to be accepted.\n",
    "\n",
    "*   Inquiries made within 30 days before check-in are more likely to be accepted in Book it channel. Inquiries made more than 30 days before check-in are more likely to be accepted in Contact Me channel\n",
    "\n",
    "\n",
    "### Business understanding\n",
    "\n",
    "Following actions could be useful to drive up acceptance rate:\n",
    "\n",
    "*   Encouraging interactions between hosts and guests, especially when they interact less than 10 times.\n",
    "*   Promote new host's listings so that they have higher chance to receive reviews, and encourage guests to leave a review after completing their stays. \n",
    "*   Encourage hosts to reply sooner after receiving the inquiries.\n",
    "*   Make different recommandations (on channel, interaction frequency, message length, and/or room types)  in different cirsumstances (lead time, days of stay, and/or guest size) of inquiries according to the results of interaction features above.\n",
    "\n",
    "\n",
    "## Drivers of confirmation for booking\n",
    "\n",
    "Important drivers of reply are:\n",
    "*   Number of interactions\n",
    "*   Number of reviews\n",
    "*   Accept time\n",
    "*   User stage\n",
    "*   Days of stay\n",
    "*   Lead time\n",
    "\n",
    "More specifically:\n",
    "\n",
    "*   More than 20 interactions significantly increases the probability of confirmation from hosts, and having less than 10 interactions decreases it.\n",
    "*   Guests are less likely to confirm the booking if the listings have 0 reviews but more likely to confirm those with more 30 reviews.\n",
    "*   Past bookers are more likely to confirm bookings after the inquiries are accepted.\n",
    "*   Longer accept time increases the probability of confirmation.\n",
    "*   Inquiries for less than 10 days of stays are more likely to be confirmed, but inquiries for more than 15 days of stays are less likely to be confirmed.\n",
    "*   Guests are less likely to confirm accepted inquiries if they are made more than 90 days before checkin. \n",
    "\n",
    "And there are some interesting findings about interaction features:\n",
    "*   Having more than 10 interactions drives up the probability of confirmation from negative to positive for lead time within 90 days; for inquiries with lead time >90 days, need more than 20 interactions to drive confirmation.\n",
    "*   When message length <= 150 char, 21-30 interactions benefits confirmation the most; when message length between 151 - 300 char, > 30 interactions benefits confirmation the most; when message length between 301 - 450 char, need more than 20 interactions to drive confirmation; when message length > 450 char, 21-30 interactions doesn't benefit confirmation but 11 - 20 does the most. \n",
    "*   When lead_time <= 60 days, long messages(>450 char) benefits confirmation; when lead_time between 60 - 90 days, long messages(>450 char) don't benefits confirmation, but intermediate length messages (301- 450 char) do; when lead_time >90 days, only messages between 150 - 300 char benefit confirmation.\n",
    "\n",
    "### Business understanding\n",
    "\n",
    "Following actions could be useful to drive up confirmation rate:\n",
    "\n",
    "*   Encourage hosts to interact more with guest before accepting the inquiry, and interactions overall.\n",
    "*   Promote new host's listings so that they have higher chance to receive reviews, and encourage guests to leave a review after completing their stays. \n",
    "*   Make different recommandations (on interaction frequency, message length)  in different cirsumstances (lead time and/or message length) of inquiries according to the results of interaction features above.\n",
    "\n"
   ]
  },
  {
   "cell_type": "markdown",
   "metadata": {
    "colab_type": "text",
    "id": "89lNdo2G2iAY"
   },
   "source": [
    "# Load Data and Packages"
   ]
  },
  {
   "cell_type": "code",
   "execution_count": null,
   "metadata": {
    "colab": {
     "base_uri": "https://localhost:8080/",
     "height": 74
    },
    "colab_type": "code",
    "id": "c6v8XmXC2p4s",
    "outputId": "fe619722-0997-4b13-ef72-16126bbfedbb"
   },
   "outputs": [
    {
     "name": "stderr",
     "output_type": "stream",
     "text": [
      "/usr/local/lib/python3.6/dist-packages/statsmodels/tools/_testing.py:19: FutureWarning: pandas.util.testing is deprecated. Use the functions in the public API at pandas.testing instead.\n",
      "  import pandas.util.testing as tm\n"
     ]
    }
   ],
   "source": [
    "# load packages\n",
    "%matplotlib inline\n",
    "import io\n",
    "import numpy as np\n",
    "import scipy\n",
    "import pandas as pd\n",
    "import matplotlib.pyplot as plt\n",
    "import statsmodels.formula.api as sm\n",
    "import seaborn as sns\n",
    "import sklearn as sl\n",
    "from sklearn import preprocessing\n",
    "pd.set_option('display.float_format', lambda x: '%.3f' % x)"
   ]
  },
  {
   "cell_type": "code",
   "execution_count": null,
   "metadata": {
    "colab": {
     "base_uri": "https://localhost:8080/",
     "height": 73,
     "resources": {
      "http://localhost:8080/nbextensions/google.colab/files.js": {
       "data": "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",
       "headers": [
        [
         "content-type",
         "application/javascript"
        ]
       ],
       "ok": true,
       "status": 200,
       "status_text": ""
      }
     }
    },
    "colab_type": "code",
    "id": "VJoJOtpd-y8x",
    "outputId": "0dec3bdd-8e6f-4620-aabb-942380672657"
   },
   "outputs": [
    {
     "data": {
      "text/html": [
       "\n",
       "     <input type=\"file\" id=\"files-7fe5f953-4ad9-40d7-95b0-4d89b0fc4611\" name=\"files[]\" multiple disabled\n",
       "        style=\"border:none\" />\n",
       "     <output id=\"result-7fe5f953-4ad9-40d7-95b0-4d89b0fc4611\">\n",
       "      Upload widget is only available when the cell has been executed in the\n",
       "      current browser session. Please rerun this cell to enable.\n",
       "      </output>\n",
       "      <script src=\"/nbextensions/google.colab/files.js\"></script> "
      ],
      "text/plain": [
       "<IPython.core.display.HTML object>"
      ]
     },
     "metadata": {
      "tags": []
     },
     "output_type": "display_data"
    },
    {
     "name": "stdout",
     "output_type": "stream",
     "text": [
      "Saving accepted_inquiries.csv to accepted_inquiries.csv\n"
     ]
    }
   ],
   "source": [
    "from google.colab import files\n",
    "uploaded = files.upload()"
   ]
  },
  {
   "cell_type": "code",
   "execution_count": null,
   "metadata": {
    "colab": {},
    "colab_type": "code",
    "id": "VFItugOI21xP"
   },
   "outputs": [],
   "source": [
    "import io\n",
    "import pandas as pd\n",
    "all_inquiries_df = pd.read_csv(io.BytesIO(uploaded['all_inquiries.csv']))"
   ]
  },
  {
   "cell_type": "code",
   "execution_count": null,
   "metadata": {
    "colab": {},
    "colab_type": "code",
    "id": "InDXQzOOIHFf"
   },
   "outputs": [],
   "source": [
    "replied_inquiries_df = pd.read_csv(io.BytesIO(uploaded['replied_inquiries.csv']))"
   ]
  },
  {
   "cell_type": "code",
   "execution_count": null,
   "metadata": {
    "colab": {},
    "colab_type": "code",
    "id": "7M5ZRF33HyGS"
   },
   "outputs": [],
   "source": [
    "accepted_inquiries_df = pd.read_csv(io.BytesIO(uploaded['accepted_inquiries.csv']))"
   ]
  },
  {
   "cell_type": "code",
   "execution_count": null,
   "metadata": {
    "colab": {},
    "colab_type": "code",
    "id": "_P3dW0ICuUzM"
   },
   "outputs": [],
   "source": [
    "# from google.colab import files\n",
    "\n",
    "# accepted_inquiries.to_csv('accepted_inquiries.csv')\n",
    "# files.download('accepted_inquiries.csv')"
   ]
  },
  {
   "cell_type": "markdown",
   "metadata": {
    "colab_type": "text",
    "id": "WmZvJ1q-CNjH"
   },
   "source": [
    "# All inquiries"
   ]
  },
  {
   "cell_type": "markdown",
   "metadata": {
    "colab_type": "text",
    "id": "UuUAmNlUBsp7"
   },
   "source": [
    "The goal in this section is to find **what drives hosts' reply** for all inquiries in Contact Me and Book It channel using ML models.\n",
    "\n",
    "Inquiries in **Instant Book channel** and inquiries where **reply timestamp equals accept timestamp** are **excluded**."
   ]
  },
  {
   "cell_type": "code",
   "execution_count": null,
   "metadata": {
    "colab": {
     "base_uri": "https://localhost:8080/",
     "height": 35
    },
    "colab_type": "code",
    "id": "-79jsux8EsLU",
    "outputId": "4036b039-fc10-4a7e-b9c4-48aae4d9463d"
   },
   "outputs": [
    {
     "name": "stdout",
     "output_type": "stream",
     "text": [
      "[87.8505254]\n"
     ]
    }
   ],
   "source": [
    "# check the propotion of replied = 1\n",
    "y = all_inquiries_df['replied']\n",
    "print(y.sum() / y.shape * 100)"
   ]
  },
  {
   "cell_type": "markdown",
   "metadata": {
    "colab_type": "text",
    "id": "w8AMQ5EhE_7M"
   },
   "source": [
    "Since most of the inquiries are replied, we are interested in what causes inquitires to be not replied."
   ]
  },
  {
   "cell_type": "markdown",
   "metadata": {
    "colab_type": "text",
    "id": "ZURrQ22g-SzC"
   },
   "source": [
    "## Results form previous models"
   ]
  },
  {
   "cell_type": "markdown",
   "metadata": {
    "colab_type": "text",
    "id": "mvC5rh2kYg7S"
   },
   "source": [
    "* RF model results: **message_length**, **total_reviews**, and **lead_time** are the most important features\n",
    "\n",
    "* Logistic regression model with numerical features results: **total_reviews**, **channel(contact_me)**, **message_length**, and **lead_time** are the most important features\n",
    "\n",
    "* Logistic regression model for binned numerical features results: **total_reviews**, **channel(contact_me)**, **message_length**, and **lead_time** are the most important features\n",
    "\n",
    "RF model(AUC score: 0.65) and logistic regression model with binned numerical features(AUC score: 0.63) has similar performance, and in order to see the interactions between features more clearly, I would still use the later model."
   ]
  },
  {
   "cell_type": "markdown",
   "metadata": {
    "colab_type": "text",
    "id": "fP69vMLk-fwx"
   },
   "source": [
    "## Final model"
   ]
  },
  {
   "cell_type": "code",
   "execution_count": null,
   "metadata": {
    "colab": {
     "base_uri": "https://localhost:8080/",
     "height": 235
    },
    "colab_type": "code",
    "id": "_FNm5lVTaAzt",
    "outputId": "609afe2e-184c-46aa-c61b-e2f923fa2d19"
   },
   "outputs": [
    {
     "name": "stdout",
     "output_type": "stream",
     "text": [
      "<class 'pandas.core.frame.DataFrame'>\n",
      "RangeIndex: 16083 entries, 0 to 16082\n",
      "Data columns (total 5 columns):\n",
      " #   Column          Non-Null Count  Dtype  \n",
      "---  ------          --------------  -----  \n",
      " 0   not_replied     16083 non-null  int64  \n",
      " 1   message_length  16083 non-null  float64\n",
      " 2   total_reviews   16083 non-null  float64\n",
      " 3   contact_me      16083 non-null  int64  \n",
      " 4   lead_time       16083 non-null  int64  \n",
      "dtypes: float64(2), int64(3)\n",
      "memory usage: 628.4 KB\n"
     ]
    }
   ],
   "source": [
    "# Check what features are included\n",
    "all_inquiries = all_inquiries_df.copy()\n",
    "all_inquiries = all_inquiries[['not_replied', 'message_length', 'total_reviews', 'contact_me', 'lead_time']]\n",
    "\n",
    "all_inquiries.info()"
   ]
  },
  {
   "cell_type": "markdown",
   "metadata": {
    "colab_type": "text",
    "id": "bWMANfGe_E5j"
   },
   "source": [
    "### Feature Preprocessing"
   ]
  },
  {
   "cell_type": "markdown",
   "metadata": {
    "colab_type": "text",
    "id": "gUZpxpMhabS4"
   },
   "source": [
    "#### Feature encoding"
   ]
  },
  {
   "cell_type": "code",
   "execution_count": null,
   "metadata": {
    "colab": {},
    "colab_type": "code",
    "id": "pw4N4Upvadfv"
   },
   "outputs": [],
   "source": [
    "# Binning reviews\n",
    "review = [-1,0,10,20,30,1000]\n",
    "review_range = ['0','1-10','11-20','21-30','>30']\n",
    "reviews_bin = pd.cut(all_inquiries['total_reviews'], bins = review, labels=review_range)\n",
    "all_inquiries['reviews'] = reviews_bin\n",
    "all_inquiries = all_inquiries.drop(columns=['total_reviews'])\n",
    "\n",
    "# Binning message_length\n",
    "length = [-1,150,300,450,3000]\n",
    "length_range = ['0-150','151-300','301-450','>450']\n",
    "length_bin = pd.cut(all_inquiries['message_length'], bins = length, labels=length_range)\n",
    "all_inquiries['message_length'] = length_bin\n",
    "\n",
    "# Binning lead time\n",
    "lead = [-1,30,60,90,1000]\n",
    "lead_range = ['1-30d','31-60d','61-90d', '>90d']\n",
    "lead_bin = pd.cut(all_inquiries['lead_time'], bins = lead, labels=lead_range)\n",
    "all_inquiries['lead_time'] = lead_bin"
   ]
  },
  {
   "cell_type": "code",
   "execution_count": null,
   "metadata": {
    "colab": {
     "base_uri": "https://localhost:8080/",
     "height": 417
    },
    "colab_type": "code",
    "id": "pfquz_78a4ml",
    "outputId": "06857edc-59a0-4f7b-9cfb-52fc8c29670f"
   },
   "outputs": [
    {
     "name": "stdout",
     "output_type": "stream",
     "text": [
      "<class 'pandas.core.frame.DataFrame'>\n",
      "RangeIndex: 16083 entries, 0 to 16082\n",
      "Data columns (total 15 columns):\n",
      " #   Column                  Non-Null Count  Dtype\n",
      "---  ------                  --------------  -----\n",
      " 0   not_replied             16083 non-null  int64\n",
      " 1   contact_me              16083 non-null  int64\n",
      " 2   reviews_0               16083 non-null  uint8\n",
      " 3   reviews_1-10            16083 non-null  uint8\n",
      " 4   reviews_11-20           16083 non-null  uint8\n",
      " 5   reviews_21-30           16083 non-null  uint8\n",
      " 6   reviews_>30             16083 non-null  uint8\n",
      " 7   message_length_0-150    16083 non-null  uint8\n",
      " 8   message_length_151-300  16083 non-null  uint8\n",
      " 9   message_length_301-450  16083 non-null  uint8\n",
      " 10  message_length_>450     16083 non-null  uint8\n",
      " 11  lead_time_1-30d         16083 non-null  uint8\n",
      " 12  lead_time_31-60d        16083 non-null  uint8\n",
      " 13  lead_time_61-90d        16083 non-null  uint8\n",
      " 14  lead_time_>90d          16083 non-null  uint8\n",
      "dtypes: int64(2), uint8(13)\n",
      "memory usage: 455.6 KB\n"
     ]
    }
   ],
   "source": [
    "# generate binary values using get_dummies\n",
    "all_inquiries = pd.get_dummies(all_inquiries, columns=[\"reviews\", \"message_length\", \"lead_time\"] )\n",
    "\n",
    "all_inquiries.info()"
   ]
  },
  {
   "cell_type": "markdown",
   "metadata": {
    "colab_type": "text",
    "id": "blol-bf8cFPI"
   },
   "source": [
    "#### Split training and test data"
   ]
  },
  {
   "cell_type": "code",
   "execution_count": null,
   "metadata": {
    "colab": {},
    "colab_type": "code",
    "id": "Ivgzc-fwKqtE"
   },
   "outputs": [],
   "source": [
    "from sklearn.model_selection import train_test_split\n",
    "\n",
    "# Not_replied is the positive behavior that we are observing\n",
    "X = all_inquiries.drop(['not_replied'], axis = 1)\n",
    "y = all_inquiries['not_replied']\n",
    "\n",
    "model_train_x, model_test_x, model_train_y, model_test_y = train_test_split(X, y, stratify=y, test_size=0.15, random_state = 3) \n",
    "# model_train, model_test = train_test_split(all_inquiries, test_size=0.15, random_state = 3)\n",
    "# model_train_x = model_train.drop(['replied', 'not_replied'], axis = 1)\n",
    "# model_test_x = model_test.drop(['replied', 'not_replied'], axis = 1)\n",
    "# model_train_y = model_train['not_replied']\n",
    "# model_test_y = model_test['not_replied']"
   ]
  },
  {
   "cell_type": "markdown",
   "metadata": {
    "colab_type": "text",
    "id": "ekMadH2wbLqi"
   },
   "source": [
    "### Train model and find optimal hypermarameters"
   ]
  },
  {
   "cell_type": "code",
   "execution_count": null,
   "metadata": {
    "colab": {},
    "colab_type": "code",
    "id": "o6d86dZ3d0st"
   },
   "outputs": [],
   "source": [
    "from sklearn.model_selection import GridSearchCV\n",
    "\n",
    "# helper function for printing out grid search results \n",
    "def print_grid_search_metrics(gs):\n",
    "    print (\"Best score: %0.3f\" % gs.best_score_)\n",
    "    print (\"Best parameters set:\")\n",
    "    best_parameters = gs.best_params_\n",
    "    for param_name in sorted(parameters.keys()):\n",
    "        print(\"\\t%s: %r\" % (param_name, best_parameters[param_name]))"
   ]
  },
  {
   "cell_type": "code",
   "execution_count": null,
   "metadata": {
    "colab": {
     "base_uri": "https://localhost:8080/",
     "height": 363
    },
    "colab_type": "code",
    "id": "2arp2Hc8CAhR",
    "outputId": "b72e4c1e-ee2c-41dd-8d22-36be95c881f7",
    "scrolled": true
   },
   "outputs": [
    {
     "data": {
      "text/plain": [
       "GridSearchCV(cv=5, error_score=nan,\n",
       "             estimator=LogisticRegression(C=1.0, class_weight=None, dual=False,\n",
       "                                          fit_intercept=True,\n",
       "                                          intercept_scaling=1, l1_ratio=None,\n",
       "                                          max_iter=100, multi_class='auto',\n",
       "                                          n_jobs=None, penalty='l2',\n",
       "                                          random_state=None, solver='lbfgs',\n",
       "                                          tol=0.0001, verbose=0,\n",
       "                                          warm_start=False),\n",
       "             iid='deprecated', n_jobs=None,\n",
       "             param_grid={'C': array([1.00000000e-02, 1.1...\n",
       "       8.69749003e+03, 1.02353102e+04, 1.20450354e+04, 1.41747416e+04,\n",
       "       1.66810054e+04, 1.96304065e+04, 2.31012970e+04, 2.71858824e+04,\n",
       "       3.19926714e+04, 3.76493581e+04, 4.43062146e+04, 5.21400829e+04,\n",
       "       6.13590727e+04, 7.22080902e+04, 8.49753436e+04, 1.00000000e+05]),\n",
       "                         'class_weight': ['balanced', None],\n",
       "                         'penalty': ['l2']},\n",
       "             pre_dispatch='2*n_jobs', refit=True, return_train_score=False,\n",
       "             scoring=None, verbose=0)"
      ]
     },
     "execution_count": 16,
     "metadata": {
      "tags": []
     },
     "output_type": "execute_result"
    }
   ],
   "source": [
    "from sklearn.linear_model import LogisticRegression\n",
    "# Possible hyperparamter options for Logistic Regression Regularization\n",
    "# Penalty is choosed from L1 or L2\n",
    "# C is the lambda value(weight) for L1 and L2\n",
    "\n",
    "parameters = {\n",
    "    # ('l1', 'l2')\n",
    "    'penalty':['l2'],\n",
    "    'class_weight' : [\"balanced\", None],\n",
    "    'C':np.logspace (-2, 5, num=100)\n",
    "}\n",
    "Grid_LR = GridSearchCV(LogisticRegression(),parameters, cv=5)\n",
    "Grid_LR.fit(model_train_x, model_train_y)"
   ]
  },
  {
   "cell_type": "code",
   "execution_count": null,
   "metadata": {
    "colab": {
     "base_uri": "https://localhost:8080/",
     "height": 108
    },
    "colab_type": "code",
    "id": "ECLgSXPlCI6G",
    "outputId": "11aa4635-e83e-46ee-f822-e57734161923"
   },
   "outputs": [
    {
     "name": "stdout",
     "output_type": "stream",
     "text": [
      "Best score: 0.878\n",
      "Best parameters set:\n",
      "\tC: 0.01\n",
      "\tclass_weight: None\n",
      "\tpenalty: 'l2'\n"
     ]
    }
   ],
   "source": [
    "# the best hyperparameter combination\n",
    "print_grid_search_metrics(Grid_LR)"
   ]
  },
  {
   "cell_type": "code",
   "execution_count": null,
   "metadata": {
    "colab": {},
    "colab_type": "code",
    "id": "IMjCN2sJCNiw"
   },
   "outputs": [],
   "source": [
    "# best model\n",
    "best_LR_model = Grid_LR.best_estimator_"
   ]
  },
  {
   "cell_type": "markdown",
   "metadata": {
    "colab_type": "text",
    "id": "G1VA0r12bXOL"
   },
   "source": [
    "### Model evaluation"
   ]
  },
  {
   "cell_type": "markdown",
   "metadata": {
    "colab_type": "text",
    "id": "NHe5SMmrbZOT"
   },
   "source": [
    "#### Confusion matrix"
   ]
  },
  {
   "cell_type": "code",
   "execution_count": null,
   "metadata": {
    "colab": {},
    "colab_type": "code",
    "id": "dVD5weg8bbN2"
   },
   "outputs": [],
   "source": [
    "from sklearn.metrics import confusion_matrix\n",
    "from sklearn.metrics import classification_report\n",
    "from sklearn.metrics import precision_score\n",
    "from sklearn.metrics import recall_score\n",
    "\n",
    "# calculate accuracy, precision and recall, [[tn, fp],[]]\n",
    "def cal_evaluation(classifier, cm):\n",
    "    tn = cm[0][0]\n",
    "    fp = cm[0][1]\n",
    "    fn = cm[1][0]\n",
    "    tp = cm[1][1]\n",
    "    accuracy  = (tp + tn) / (tp + fp + fn + tn + 0.0)\n",
    "    precision = tp / (tp + fp + 0.0)\n",
    "    recall = tp / (tp + fn + 0.0)\n",
    "    print (classifier)\n",
    "    print (\"Accuracy is: %0.3f\" % accuracy)\n",
    "    print (\"precision is: %0.3f\" % precision)\n",
    "    print (\"recall is: %0.3f\" % recall)\n",
    "\n",
    "# print out confusion matrices\n",
    "def draw_confusion_matrices(confusion_matricies):\n",
    "    class_names = ['Replied','Not_Replied']\n",
    "    for cm in confusion_matrices:\n",
    "        classifier, cm = cm[0], cm[1]\n",
    "        cal_evaluation(classifier, cm)\n",
    "        fig = plt.figure()\n",
    "        ax = fig.add_subplot(111)\n",
    "        cax = ax.matshow(cm, interpolation='nearest',cmap=plt.get_cmap('Reds'))\n",
    "        plt.title('Confusion matrix for %s' % classifier)\n",
    "        fig.colorbar(cax)\n",
    "        ax.set_xticklabels([''] + class_names)\n",
    "        ax.set_yticklabels([''] + class_names)\n",
    "        plt.xlabel('Predicted')\n",
    "        plt.ylabel('True')\n",
    "        plt.show()"
   ]
  },
  {
   "cell_type": "code",
   "execution_count": null,
   "metadata": {
    "colab": {
     "base_uri": "https://localhost:8080/",
     "height": 54
    },
    "colab_type": "code",
    "id": "7URTVkJWbdkv",
    "outputId": "1204112e-c58f-4e25-dd69-5ef9b293ace5"
   },
   "outputs": [
    {
     "data": {
      "text/plain": [
       "array([[2120,    0],\n",
       "       [ 293,    0]])"
      ]
     },
     "execution_count": 20,
     "metadata": {
      "tags": []
     },
     "output_type": "execute_result"
    }
   ],
   "source": [
    "confusion_matrix(model_test_y, best_LR_model.predict(model_test_x))"
   ]
  },
  {
   "cell_type": "code",
   "execution_count": null,
   "metadata": {
    "colab": {
     "base_uri": "https://localhost:8080/",
     "height": 398
    },
    "colab_type": "code",
    "id": "UPYC_T6DbgEh",
    "outputId": "5c5ae2ea-0fdc-48d8-a199-381a54ba01a9"
   },
   "outputs": [
    {
     "name": "stdout",
     "output_type": "stream",
     "text": [
      "Logistic Regression\n",
      "Accuracy is: 0.879\n",
      "precision is: nan\n",
      "recall is: 0.000\n"
     ]
    },
    {
     "name": "stderr",
     "output_type": "stream",
     "text": [
      "/usr/local/lib/python3.6/dist-packages/ipykernel_launcher.py:13: RuntimeWarning: invalid value encountered in true_divide\n",
      "  del sys.path[0]\n"
     ]
    },
    {
     "data": {
      "image/png": "[encoded data removed]",
      "text/plain": [
       "<Figure size 432x288 with 2 Axes>"
      ]
     },
     "metadata": {
      "needs_background": "light",
      "tags": []
     },
     "output_type": "display_data"
    }
   ],
   "source": [
    "%matplotlib inline\n",
    "\n",
    "# Confusion matrix, accuracy, precison and recall for random forest and logistic regression\n",
    "confusion_matrices = [\n",
    "    (\"Logistic Regression\", confusion_matrix(model_test_y, best_LR_model.predict(model_test_x))),\n",
    "    #(\"Logistic Regression\", confusion_matrix(yc_test,best_LR_model.predict(Xc_test))),\n",
    "]\n",
    "\n",
    "draw_confusion_matrices(confusion_matrices)"
   ]
  },
  {
   "cell_type": "markdown",
   "metadata": {
    "colab_type": "text",
    "id": "yAawEMyJbis0"
   },
   "source": [
    "#### ROC & AUC"
   ]
  },
  {
   "cell_type": "code",
   "execution_count": null,
   "metadata": {
    "colab": {},
    "colab_type": "code",
    "id": "za3zCPjdbk1A"
   },
   "outputs": [],
   "source": [
    "from sklearn.metrics import roc_curve\n",
    "from sklearn import metrics\n",
    "\n",
    "# Use predict_proba to get the probability results of Logistic Regression\n",
    "y_pred_lr = best_LR_model.predict_proba(model_test_x)[:, 1]\n",
    "fpr_lr, tpr_lr, _ = roc_curve(model_test_y, y_pred_lr)"
   ]
  },
  {
   "cell_type": "code",
   "execution_count": null,
   "metadata": {
    "colab": {
     "base_uri": "https://localhost:8080/",
     "height": 295
    },
    "colab_type": "code",
    "id": "0167OuHDbmZ1",
    "outputId": "f12d171c-04fd-449a-9f4b-9696fdfed141"
   },
   "outputs": [
    {
     "data": {
      "image/png": "[encoded data removed]",
      "text/plain": [
       "<Figure size 432x288 with 1 Axes>"
      ]
     },
     "metadata": {
      "needs_background": "light",
      "tags": []
     },
     "output_type": "display_data"
    }
   ],
   "source": [
    "# ROC Curve\n",
    "plt.figure(1)\n",
    "plt.plot([0, 1], [0, 1], 'k--')\n",
    "plt.plot(fpr_lr, tpr_lr, label='LR')\n",
    "plt.xlabel('False positive rate')\n",
    "plt.ylabel('True positive rate')\n",
    "plt.title('ROC curve - LR Model')\n",
    "plt.legend(loc='best')\n",
    "plt.show()"
   ]
  },
  {
   "cell_type": "code",
   "execution_count": null,
   "metadata": {
    "colab": {
     "base_uri": "https://localhost:8080/",
     "height": 35
    },
    "colab_type": "code",
    "id": "-rbeM4VVbosl",
    "outputId": "2b12e047-c721-4599-aceb-67dd43233d1d"
   },
   "outputs": [
    {
     "data": {
      "text/plain": [
       "0.6412615107218752"
      ]
     },
     "execution_count": 24,
     "metadata": {
      "tags": []
     },
     "output_type": "execute_result"
    }
   ],
   "source": [
    "# AUC score\n",
    "metrics.auc(fpr_lr,tpr_lr)"
   ]
  },
  {
   "cell_type": "markdown",
   "metadata": {
    "colab_type": "text",
    "id": "pbB3Ajusb1Ba"
   },
   "source": [
    "### Results interpretation"
   ]
  },
  {
   "cell_type": "code",
   "execution_count": null,
   "metadata": {
    "colab": {
     "base_uri": "https://localhost:8080/",
     "height": 272
    },
    "colab_type": "code",
    "id": "Xr_OPPvhb3TM",
    "outputId": "6a58cd18-e4c9-4371-f12a-83a0ee786e0f",
    "scrolled": true
   },
   "outputs": [
    {
     "name": "stdout",
     "output_type": "stream",
     "text": [
      "reviews_0: 0.6224\n",
      "reviews_>30: -0.355\n",
      "contact_me: -0.267\n",
      "reviews_11-20: -0.2322\n",
      "message_length_0-150: 0.1788\n",
      "reviews_21-30: -0.1698\n",
      "reviews_1-10: 0.1344\n",
      "lead_time_>90d: 0.1183\n",
      "lead_time_31-60d: -0.1063\n",
      "message_length_>450: -0.0792\n",
      "message_length_301-450: -0.0668\n",
      "message_length_151-300: -0.033\n",
      "lead_time_61-90d: -0.0256\n",
      "lead_time_1-30d: 0.0135\n"
     ]
    }
   ],
   "source": [
    "# Store the coef for results interpretation\n",
    "res = pd.DataFrame(columns=['Feature', 'Coef'])\n",
    "\n",
    "for k,v in sorted(zip(map(lambda x: round(x, 4), best_LR_model.fit(model_train_x, model_train_y).coef_[0]), \\\n",
    "                      model_train_x.columns), key=lambda k_v:(-abs(k_v[0]),k_v[1])):\n",
    "    print (v + \": \" + str(k))\n",
    "    res = res.append({'Feature': v, 'Coef': k}, ignore_index=True)\n"
   ]
  },
  {
   "cell_type": "code",
   "execution_count": null,
   "metadata": {
    "colab": {
     "base_uri": "https://localhost:8080/",
     "height": 272
    },
    "colab_type": "code",
    "id": "cWukJ6SsWUN9",
    "outputId": "c4c7b0a8-09ae-447f-e7e3-aae369f34c70"
   },
   "outputs": [
    {
     "name": "stdout",
     "output_type": "stream",
     "text": [
      "contact_me: -0.267\n",
      "reviews_0: 0.6224\n",
      "reviews_1-10: 0.1344\n",
      "reviews_11-20: -0.2322\n",
      "reviews_21-30: -0.1698\n",
      "reviews_>30: -0.355\n",
      "message_length_0-150: 0.1788\n",
      "message_length_151-300: -0.033\n",
      "message_length_301-450: -0.0668\n",
      "message_length_>450: -0.0792\n",
      "lead_time_1-30d: 0.0135\n",
      "lead_time_31-60d: -0.1063\n",
      "lead_time_61-90d: -0.0256\n",
      "lead_time_>90d: 0.1183\n"
     ]
    }
   ],
   "source": [
    "reviews = all_inquiries.columns[2:7]\n",
    "message_lengths = all_inquiries.columns[7:11]\n",
    "lead_times = all_inquiries.columns[11:15]\n",
    "\n",
    "res = res.set_index('Feature')\n",
    "\n",
    "print('contact_me: ' + str(res.Coef.loc['contact_me'])) \n",
    "\n",
    "for i in list(reviews):\n",
    "  print(i + \": \" + str(res.Coef.loc[i]))\n",
    "\n",
    "for i in list(message_lengths):\n",
    "  print(i + \": \" + str(res.Coef.loc[i]))\n",
    "\n",
    "for i in list(lead_times):\n",
    "  print(i + \": \" + str(res.Coef.loc[i]))"
   ]
  },
  {
   "cell_type": "markdown",
   "metadata": {
    "colab_type": "text",
    "id": "W3phHcmQdYCq"
   },
   "source": [
    "*   Inquiries in contact me channel are more likely to be replied.\n",
    "*   0 review is associated with non-replies, and >10 reviews drives reply\n",
    "*   Messages with more than 150 characters are likely to be replied, messages too short(0-150 characters) have a lower chance to be replied.\n",
    "*   Lead time too short(1-30d) or too long(>90d) both have a lower chance to be replied.\n",
    "\n",
    "\n"
   ]
  },
  {
   "cell_type": "code",
   "execution_count": null,
   "metadata": {
    "colab": {
     "base_uri": "https://localhost:8080/",
     "height": 17
    },
    "colab_type": "code",
    "id": "rG0IaIqmoOJr",
    "outputId": "78123679-46e4-466e-a064-2b5fcac1d3e2"
   },
   "outputs": [
    {
     "data": {
      "application/javascript": [
       "\n",
       "    async function download(id, filename, size) {\n",
       "      if (!google.colab.kernel.accessAllowed) {\n",
       "        return;\n",
       "      }\n",
       "      const div = document.createElement('div');\n",
       "      const label = document.createElement('label');\n",
       "      label.textContent = `Downloading \"${filename}\": `;\n",
       "      div.appendChild(label);\n",
       "      const progress = document.createElement('progress');\n",
       "      progress.max = size;\n",
       "      div.appendChild(progress);\n",
       "      document.body.appendChild(div);\n",
       "\n",
       "      const buffers = [];\n",
       "      let downloaded = 0;\n",
       "\n",
       "      const channel = await google.colab.kernel.comms.open(id);\n",
       "      // Send a message to notify the kernel that we're ready.\n",
       "      channel.send({})\n",
       "\n",
       "      for await (const message of channel.messages) {\n",
       "        // Send a message to notify the kernel that we're ready.\n",
       "        channel.send({})\n",
       "        if (message.buffers) {\n",
       "          for (const buffer of message.buffers) {\n",
       "            buffers.push(buffer);\n",
       "            downloaded += buffer.byteLength;\n",
       "            progress.value = downloaded;\n",
       "          }\n",
       "        }\n",
       "      }\n",
       "      const blob = new Blob(buffers, {type: 'application/binary'});\n",
       "      const a = document.createElement('a');\n",
       "      a.href = window.URL.createObjectURL(blob);\n",
       "      a.download = filename;\n",
       "      div.appendChild(a);\n",
       "      a.click();\n",
       "      div.remove();\n",
       "    }\n",
       "  "
      ],
      "text/plain": [
       "<IPython.core.display.Javascript object>"
      ]
     },
     "metadata": {
      "tags": []
     },
     "output_type": "display_data"
    },
    {
     "data": {
      "application/javascript": [
       "download(\"download_81142325-4e8f-4c3e-a3c9-2bf9e937741b\", \"mod1_res.csv\", 343)"
      ],
      "text/plain": [
       "<IPython.core.display.Javascript object>"
      ]
     },
     "metadata": {
      "tags": []
     },
     "output_type": "display_data"
    }
   ],
   "source": [
    "from google.colab import files\n",
    "\n",
    "res.to_csv('mod1_res.csv')\n",
    "files.download('mod1_res.csv')"
   ]
  },
  {
   "cell_type": "markdown",
   "metadata": {
    "colab_type": "text",
    "id": "U1B0kqlQPRop"
   },
   "source": [
    "# Replied inquiries"
   ]
  },
  {
   "cell_type": "markdown",
   "metadata": {
    "colab_type": "text",
    "id": "xNaDWmQTPmp_"
   },
   "source": [
    "The goal in this section is to find **what drives hosts' acceptance** for replied inquiries in Contact Me and Book It channel using ML models.\n",
    "\n",
    "Inquiries where **reply timestamp equals accept timestamp** are **excluded**."
   ]
  },
  {
   "cell_type": "code",
   "execution_count": null,
   "metadata": {
    "colab": {
     "base_uri": "https://localhost:8080/",
     "height": 35
    },
    "colab_type": "code",
    "id": "I7htU_rhP0XM",
    "outputId": "157abedf-2c8d-43c3-ec50-557cfc32682c"
   },
   "outputs": [
    {
     "name": "stdout",
     "output_type": "stream",
     "text": [
      "[34.94231722]\n"
     ]
    }
   ],
   "source": [
    "# check the propotion of accepted = 1\n",
    "y = replied_inquiries_df['accepted']\n",
    "print(y.sum() / y.shape * 100)"
   ]
  },
  {
   "cell_type": "markdown",
   "metadata": {
    "colab_type": "text",
    "id": "vDlUyUmLQbkF"
   },
   "source": [
    "The number of inquiries that were accepted is less than those weren't"
   ]
  },
  {
   "cell_type": "markdown",
   "metadata": {
    "colab_type": "text",
    "id": "CqYlJh-Y-9BZ"
   },
   "source": [
    "## Results form previous models"
   ]
  },
  {
   "cell_type": "markdown",
   "metadata": {
    "colab_type": "text",
    "id": "QCzVUbTjd_1B"
   },
   "source": [
    "* RF model results: **interactions**, **reviews**, **reply_t**, **lead_time**, **message_length**, **days_of_stay**, **channel**, **guest_size** are the most important features\n",
    "\n",
    "* Logistic regression model with numerical features: **interactions**, **reviews**, **lead_time**, **reply_t**, **days_of_stay**, **guest size**, room type, user_stage are important features \n",
    "\n",
    "* Logistic regression model fore binned numerical features: **interactions**, **reviews**, **lead_time**, **channel(contact_me)**, **days_of_stay**, **message_length**, **room_type*guest_size** are the most important features\n",
    "\n",
    "RF model has the best performance(AUC score: 0.86), but in order to see the interactions between features more clearly, I would still use logistic regression model with binned numerical features(AUC score: 0.77) as the final model"
   ]
  },
  {
   "cell_type": "markdown",
   "metadata": {
    "colab_type": "text",
    "id": "VTdq4dM4dtIO"
   },
   "source": [
    "## Final model"
   ]
  },
  {
   "cell_type": "code",
   "execution_count": null,
   "metadata": {
    "colab": {
     "base_uri": "https://localhost:8080/",
     "height": 363
    },
    "colab_type": "code",
    "id": "BXiVu6f1hvo6",
    "outputId": "7abd219a-811e-4397-9935-816d19d184b3"
   },
   "outputs": [
    {
     "name": "stdout",
     "output_type": "stream",
     "text": [
      "<class 'pandas.core.frame.DataFrame'>\n",
      "RangeIndex: 14129 entries, 0 to 14128\n",
      "Data columns (total 12 columns):\n",
      " #   Column              Non-Null Count  Dtype  \n",
      "---  ------              --------------  -----  \n",
      " 0   total_interactions  14129 non-null  int64  \n",
      " 1   total_reviews       14129 non-null  float64\n",
      " 2   lead_time           14129 non-null  int64  \n",
      " 3   days_of_stay        14129 non-null  int64  \n",
      " 4   reply_t             14129 non-null  float64\n",
      " 5   message_length      14129 non-null  float64\n",
      " 6   guest_size          14129 non-null  float64\n",
      " 7   rt_Entire_home/apt  14129 non-null  int64  \n",
      " 8   rt_Private room     14129 non-null  int64  \n",
      " 9   rt_Shared room      14129 non-null  int64  \n",
      " 10  contact_me          14129 non-null  int64  \n",
      " 11  accepted            14129 non-null  int64  \n",
      "dtypes: float64(4), int64(8)\n",
      "memory usage: 1.3 MB\n"
     ]
    }
   ],
   "source": [
    "# Check what features are included\n",
    "replied_inquiries = replied_inquiries_df.copy()\n",
    "replied_inquiries = replied_inquiries[['total_interactions', 'total_reviews', 'lead_time', 'days_of_stay', 'reply_t', 'message_length', 'guest_size', 'rt_Entire_home/apt', 'rt_Private room', 'rt_Shared room', 'contact_me', 'accepted']]\n",
    "\n",
    "replied_inquiries.info()"
   ]
  },
  {
   "cell_type": "markdown",
   "metadata": {
    "colab_type": "text",
    "id": "UVYy59UyjaM7"
   },
   "source": [
    "### Feature Preprocessing"
   ]
  },
  {
   "cell_type": "markdown",
   "metadata": {
    "colab_type": "text",
    "id": "CLg6PXVZjaM8"
   },
   "source": [
    "#### Feature encoding"
   ]
  },
  {
   "cell_type": "code",
   "execution_count": null,
   "metadata": {
    "colab": {},
    "colab_type": "code",
    "id": "O0nEP_2qjaM9"
   },
   "outputs": [],
   "source": [
    "# Binning interactions\n",
    "interaction = [0,10,20,30,1000]\n",
    "interaction_range = ['1-10','11-20','21-30','>30']\n",
    "interactions_bin = pd.cut(replied_inquiries['total_interactions'], bins = interaction, labels= interaction_range)\n",
    "replied_inquiries['interactions'] = interactions_bin\n",
    "\n",
    "# Binning reviews\n",
    "review = [-1,0,10,20,30,1000]\n",
    "review_range = ['0','1-10','11-20','21-30','>30']\n",
    "reviews_bin = pd.cut(replied_inquiries['total_reviews'], bins = review, labels=review_range)\n",
    "replied_inquiries['reviews'] = reviews_bin\n",
    "\n",
    "# Binning lead time\n",
    "lead = [-1,30,60,90,1000]\n",
    "lead_range = ['1-30d','31-60d','61-90d', '>90d']\n",
    "lead_bin = pd.cut(replied_inquiries['lead_time'], bins = lead, labels=lead_range)\n",
    "replied_inquiries['lead_time'] = lead_bin\n",
    "\n",
    "# Binning days_of_stay\n",
    "stay = [-1,5,10,15,1000]\n",
    "stay_range = ['1-5d','6-10d','11-15d','>15d']\n",
    "stay_bin = pd.cut(replied_inquiries['days_of_stay'], bins = stay, labels=stay_range)\n",
    "replied_inquiries['days_of_stay'] = stay_bin\n",
    "\n",
    "# Binning message_length\n",
    "length = [-1,150,300,450,3000]\n",
    "length_range = ['0-150','151-300','301-450','>450']\n",
    "length_bin = pd.cut(replied_inquiries['message_length'], bins = length, labels=length_range)\n",
    "replied_inquiries['message_length'] = length_bin\n",
    "\n",
    "# Binning guest size\n",
    "size = [-1,1,2,4,6,30]\n",
    "size_range = ['1','2','3-4','5-6','>6']\n",
    "size_bin = pd.cut(replied_inquiries['guest_size'], bins = size, labels=size_range)\n",
    "replied_inquiries['guest_size'] = size_bin"
   ]
  },
  {
   "cell_type": "code",
   "execution_count": null,
   "metadata": {
    "colab": {},
    "colab_type": "code",
    "id": "_vge9ZOzjaNA"
   },
   "outputs": [],
   "source": [
    "# generate binary values using get_dummies\n",
    "replied_inquiries = pd.get_dummies(replied_inquiries, columns=[\"interactions\", \"reviews\", \"lead_time\", \"days_of_stay\", \"message_length\", \"guest_size\"] )"
   ]
  },
  {
   "cell_type": "code",
   "execution_count": null,
   "metadata": {
    "colab": {},
    "colab_type": "code",
    "id": "p5POXa3cjaNB"
   },
   "outputs": [],
   "source": [
    "# Drop columns not to be used\n",
    "replied_inquiries = replied_inquiries.drop(['total_interactions', 'total_reviews'], axis = 1)"
   ]
  },
  {
   "cell_type": "code",
   "execution_count": null,
   "metadata": {
    "colab": {
     "base_uri": "https://localhost:8080/",
     "height": 726
    },
    "colab_type": "code",
    "id": "uzlpoUl1jaND",
    "outputId": "8b7aaf10-2eb9-4d37-c020-4171f3c25557"
   },
   "outputs": [
    {
     "name": "stdout",
     "output_type": "stream",
     "text": [
      "<class 'pandas.core.frame.DataFrame'>\n",
      "RangeIndex: 14129 entries, 0 to 14128\n",
      "Data columns (total 32 columns):\n",
      " #   Column                  Non-Null Count  Dtype  \n",
      "---  ------                  --------------  -----  \n",
      " 0   reply_t                 14129 non-null  float64\n",
      " 1   rt_Entire_home/apt      14129 non-null  int64  \n",
      " 2   rt_Private room         14129 non-null  int64  \n",
      " 3   rt_Shared room          14129 non-null  int64  \n",
      " 4   contact_me              14129 non-null  int64  \n",
      " 5   accepted                14129 non-null  int64  \n",
      " 6   interactions_1-10       14129 non-null  uint8  \n",
      " 7   interactions_11-20      14129 non-null  uint8  \n",
      " 8   interactions_21-30      14129 non-null  uint8  \n",
      " 9   interactions_>30        14129 non-null  uint8  \n",
      " 10  reviews_0               14129 non-null  uint8  \n",
      " 11  reviews_1-10            14129 non-null  uint8  \n",
      " 12  reviews_11-20           14129 non-null  uint8  \n",
      " 13  reviews_21-30           14129 non-null  uint8  \n",
      " 14  reviews_>30             14129 non-null  uint8  \n",
      " 15  lead_time_1-30d         14129 non-null  uint8  \n",
      " 16  lead_time_31-60d        14129 non-null  uint8  \n",
      " 17  lead_time_61-90d        14129 non-null  uint8  \n",
      " 18  lead_time_>90d          14129 non-null  uint8  \n",
      " 19  days_of_stay_1-5d       14129 non-null  uint8  \n",
      " 20  days_of_stay_6-10d      14129 non-null  uint8  \n",
      " 21  days_of_stay_11-15d     14129 non-null  uint8  \n",
      " 22  days_of_stay_>15d       14129 non-null  uint8  \n",
      " 23  message_length_0-150    14129 non-null  uint8  \n",
      " 24  message_length_151-300  14129 non-null  uint8  \n",
      " 25  message_length_301-450  14129 non-null  uint8  \n",
      " 26  message_length_>450     14129 non-null  uint8  \n",
      " 27  guest_size_1            14129 non-null  uint8  \n",
      " 28  guest_size_2            14129 non-null  uint8  \n",
      " 29  guest_size_3-4          14129 non-null  uint8  \n",
      " 30  guest_size_5-6          14129 non-null  uint8  \n",
      " 31  guest_size_>6           14129 non-null  uint8  \n",
      "dtypes: float64(1), int64(5), uint8(26)\n",
      "memory usage: 1021.2 KB\n"
     ]
    }
   ],
   "source": [
    "replied_inquiries.info()"
   ]
  },
  {
   "cell_type": "markdown",
   "metadata": {
    "colab_type": "text",
    "id": "O1sAitGqjaNE"
   },
   "source": [
    "#### Interaction features"
   ]
  },
  {
   "cell_type": "markdown",
   "metadata": {
    "colab_type": "text",
    "id": "A9BadR1sjaNE"
   },
   "source": [
    "Creat interaction features to discover combined effects of independent variables"
   ]
  },
  {
   "cell_type": "code",
   "execution_count": null,
   "metadata": {
    "colab": {},
    "colab_type": "code",
    "id": "57yN72EvjaNF"
   },
   "outputs": [],
   "source": [
    "# Interaction features\n",
    "\n",
    "room_types = replied_inquiries.columns[1:4]\n",
    "interactions = replied_inquiries.columns[6:10]\n",
    "reviews = replied_inquiries.columns[10:15]\n",
    "lead_times = replied_inquiries.columns[15:19]\n",
    "stays = replied_inquiries.columns[19:23]\n",
    "message_lengths = replied_inquiries.columns[23:27]\n",
    "guest_sizes = replied_inquiries.columns[27:32]\n",
    "\n",
    "# Lead_time * interaction \n",
    "for i in lead_times:\n",
    "  for j in interactions:\n",
    "    replied_inquiries[i+'*'+j] = replied_inquiries[i] * replied_inquiries[j]\n",
    "\n",
    "# Days_of_stay * Interaction \n",
    "for i in stays:\n",
    "  for j in interactions:\n",
    "    replied_inquiries[i+'*'+j] = replied_inquiries[i] * replied_inquiries[j]\n",
    "\n",
    "# Channel * lead_time\n",
    "for i in lead_times:\n",
    "  replied_inquiries['contact_me'+'*'+i] = replied_inquiries['contact_me'] * replied_inquiries[i]\n",
    "\n",
    "# Lead_time * message_length\n",
    "for i in lead_times:\n",
    "  for j in message_lengths:\n",
    "    replied_inquiries[i+'*'+j] = replied_inquiries[i] * replied_inquiries[j]\n",
    "\n",
    "# Guest_size * room_type \n",
    "for i in guest_sizes:\n",
    "  for j in room_types:\n",
    "    replied_inquiries[i+'*'+j] = replied_inquiries[i] * replied_inquiries[j]\n"
   ]
  },
  {
   "cell_type": "code",
   "execution_count": null,
   "metadata": {
    "colab": {
     "base_uri": "https://localhost:8080/",
     "height": 1000
    },
    "colab_type": "code",
    "id": "rhWdRRXxjaNG",
    "outputId": "94d82655-321b-4766-923e-e16692e86ca1"
   },
   "outputs": [
    {
     "name": "stdout",
     "output_type": "stream",
     "text": [
      "<class 'pandas.core.frame.DataFrame'>\n",
      "RangeIndex: 14129 entries, 0 to 14128\n",
      "Data columns (total 99 columns):\n",
      " #   Column                                   Non-Null Count  Dtype  \n",
      "---  ------                                   --------------  -----  \n",
      " 0   reply_t                                  14129 non-null  float64\n",
      " 1   rt_Entire_home/apt                       14129 non-null  int64  \n",
      " 2   rt_Private room                          14129 non-null  int64  \n",
      " 3   rt_Shared room                           14129 non-null  int64  \n",
      " 4   contact_me                               14129 non-null  int64  \n",
      " 5   accepted                                 14129 non-null  int64  \n",
      " 6   interactions_1-10                        14129 non-null  uint8  \n",
      " 7   interactions_11-20                       14129 non-null  uint8  \n",
      " 8   interactions_21-30                       14129 non-null  uint8  \n",
      " 9   interactions_>30                         14129 non-null  uint8  \n",
      " 10  reviews_0                                14129 non-null  uint8  \n",
      " 11  reviews_1-10                             14129 non-null  uint8  \n",
      " 12  reviews_11-20                            14129 non-null  uint8  \n",
      " 13  reviews_21-30                            14129 non-null  uint8  \n",
      " 14  reviews_>30                              14129 non-null  uint8  \n",
      " 15  lead_time_1-30d                          14129 non-null  uint8  \n",
      " 16  lead_time_31-60d                         14129 non-null  uint8  \n",
      " 17  lead_time_61-90d                         14129 non-null  uint8  \n",
      " 18  lead_time_>90d                           14129 non-null  uint8  \n",
      " 19  days_of_stay_1-5d                        14129 non-null  uint8  \n",
      " 20  days_of_stay_6-10d                       14129 non-null  uint8  \n",
      " 21  days_of_stay_11-15d                      14129 non-null  uint8  \n",
      " 22  days_of_stay_>15d                        14129 non-null  uint8  \n",
      " 23  message_length_0-150                     14129 non-null  uint8  \n",
      " 24  message_length_151-300                   14129 non-null  uint8  \n",
      " 25  message_length_301-450                   14129 non-null  uint8  \n",
      " 26  message_length_>450                      14129 non-null  uint8  \n",
      " 27  guest_size_1                             14129 non-null  uint8  \n",
      " 28  guest_size_2                             14129 non-null  uint8  \n",
      " 29  guest_size_3-4                           14129 non-null  uint8  \n",
      " 30  guest_size_5-6                           14129 non-null  uint8  \n",
      " 31  guest_size_>6                            14129 non-null  uint8  \n",
      " 32  lead_time_1-30d*interactions_1-10        14129 non-null  uint8  \n",
      " 33  lead_time_1-30d*interactions_11-20       14129 non-null  uint8  \n",
      " 34  lead_time_1-30d*interactions_21-30       14129 non-null  uint8  \n",
      " 35  lead_time_1-30d*interactions_>30         14129 non-null  uint8  \n",
      " 36  lead_time_31-60d*interactions_1-10       14129 non-null  uint8  \n",
      " 37  lead_time_31-60d*interactions_11-20      14129 non-null  uint8  \n",
      " 38  lead_time_31-60d*interactions_21-30      14129 non-null  uint8  \n",
      " 39  lead_time_31-60d*interactions_>30        14129 non-null  uint8  \n",
      " 40  lead_time_61-90d*interactions_1-10       14129 non-null  uint8  \n",
      " 41  lead_time_61-90d*interactions_11-20      14129 non-null  uint8  \n",
      " 42  lead_time_61-90d*interactions_21-30      14129 non-null  uint8  \n",
      " 43  lead_time_61-90d*interactions_>30        14129 non-null  uint8  \n",
      " 44  lead_time_>90d*interactions_1-10         14129 non-null  uint8  \n",
      " 45  lead_time_>90d*interactions_11-20        14129 non-null  uint8  \n",
      " 46  lead_time_>90d*interactions_21-30        14129 non-null  uint8  \n",
      " 47  lead_time_>90d*interactions_>30          14129 non-null  uint8  \n",
      " 48  days_of_stay_1-5d*interactions_1-10      14129 non-null  uint8  \n",
      " 49  days_of_stay_1-5d*interactions_11-20     14129 non-null  uint8  \n",
      " 50  days_of_stay_1-5d*interactions_21-30     14129 non-null  uint8  \n",
      " 51  days_of_stay_1-5d*interactions_>30       14129 non-null  uint8  \n",
      " 52  days_of_stay_6-10d*interactions_1-10     14129 non-null  uint8  \n",
      " 53  days_of_stay_6-10d*interactions_11-20    14129 non-null  uint8  \n",
      " 54  days_of_stay_6-10d*interactions_21-30    14129 non-null  uint8  \n",
      " 55  days_of_stay_6-10d*interactions_>30      14129 non-null  uint8  \n",
      " 56  days_of_stay_11-15d*interactions_1-10    14129 non-null  uint8  \n",
      " 57  days_of_stay_11-15d*interactions_11-20   14129 non-null  uint8  \n",
      " 58  days_of_stay_11-15d*interactions_21-30   14129 non-null  uint8  \n",
      " 59  days_of_stay_11-15d*interactions_>30     14129 non-null  uint8  \n",
      " 60  days_of_stay_>15d*interactions_1-10      14129 non-null  uint8  \n",
      " 61  days_of_stay_>15d*interactions_11-20     14129 non-null  uint8  \n",
      " 62  days_of_stay_>15d*interactions_21-30     14129 non-null  uint8  \n",
      " 63  days_of_stay_>15d*interactions_>30       14129 non-null  uint8  \n",
      " 64  contact_me*lead_time_1-30d               14129 non-null  int64  \n",
      " 65  contact_me*lead_time_31-60d              14129 non-null  int64  \n",
      " 66  contact_me*lead_time_61-90d              14129 non-null  int64  \n",
      " 67  contact_me*lead_time_>90d                14129 non-null  int64  \n",
      " 68  lead_time_1-30d*message_length_0-150     14129 non-null  uint8  \n",
      " 69  lead_time_1-30d*message_length_151-300   14129 non-null  uint8  \n",
      " 70  lead_time_1-30d*message_length_301-450   14129 non-null  uint8  \n",
      " 71  lead_time_1-30d*message_length_>450      14129 non-null  uint8  \n",
      " 72  lead_time_31-60d*message_length_0-150    14129 non-null  uint8  \n",
      " 73  lead_time_31-60d*message_length_151-300  14129 non-null  uint8  \n",
      " 74  lead_time_31-60d*message_length_301-450  14129 non-null  uint8  \n",
      " 75  lead_time_31-60d*message_length_>450     14129 non-null  uint8  \n",
      " 76  lead_time_61-90d*message_length_0-150    14129 non-null  uint8  \n",
      " 77  lead_time_61-90d*message_length_151-300  14129 non-null  uint8  \n",
      " 78  lead_time_61-90d*message_length_301-450  14129 non-null  uint8  \n",
      " 79  lead_time_61-90d*message_length_>450     14129 non-null  uint8  \n",
      " 80  lead_time_>90d*message_length_0-150      14129 non-null  uint8  \n",
      " 81  lead_time_>90d*message_length_151-300    14129 non-null  uint8  \n",
      " 82  lead_time_>90d*message_length_301-450    14129 non-null  uint8  \n",
      " 83  lead_time_>90d*message_length_>450       14129 non-null  uint8  \n",
      " 84  guest_size_1*rt_Entire_home/apt          14129 non-null  int64  \n",
      " 85  guest_size_1*rt_Private room             14129 non-null  int64  \n",
      " 86  guest_size_1*rt_Shared room              14129 non-null  int64  \n",
      " 87  guest_size_2*rt_Entire_home/apt          14129 non-null  int64  \n",
      " 88  guest_size_2*rt_Private room             14129 non-null  int64  \n",
      " 89  guest_size_2*rt_Shared room              14129 non-null  int64  \n",
      " 90  guest_size_3-4*rt_Entire_home/apt        14129 non-null  int64  \n",
      " 91  guest_size_3-4*rt_Private room           14129 non-null  int64  \n",
      " 92  guest_size_3-4*rt_Shared room            14129 non-null  int64  \n",
      " 93  guest_size_5-6*rt_Entire_home/apt        14129 non-null  int64  \n",
      " 94  guest_size_5-6*rt_Private room           14129 non-null  int64  \n",
      " 95  guest_size_5-6*rt_Shared room            14129 non-null  int64  \n",
      " 96  guest_size_>6*rt_Entire_home/apt         14129 non-null  int64  \n",
      " 97  guest_size_>6*rt_Private room            14129 non-null  int64  \n",
      " 98  guest_size_>6*rt_Shared room             14129 non-null  int64  \n",
      "dtypes: float64(1), int64(24), uint8(74)\n",
      "memory usage: 3.7 MB\n"
     ]
    }
   ],
   "source": [
    "replied_inquiries.info()"
   ]
  },
  {
   "cell_type": "markdown",
   "metadata": {
    "colab_type": "text",
    "id": "638Br3I3jaNI"
   },
   "source": [
    "#### Feature scaling"
   ]
  },
  {
   "cell_type": "code",
   "execution_count": null,
   "metadata": {
    "colab": {},
    "colab_type": "code",
    "id": "Y8XHk4mBjaNI"
   },
   "outputs": [],
   "source": [
    "# Scale reply_t (MinMax scaling)\n",
    "sc_scale = preprocessing.MinMaxScaler().fit(replied_inquiries[['reply_t']])\n",
    "replied_inquiries[['reply_t']] = sc_scale.transform(replied_inquiries[['reply_t']])\n"
   ]
  },
  {
   "cell_type": "markdown",
   "metadata": {
    "colab_type": "text",
    "id": "gSR83gEGjaNL"
   },
   "source": [
    "#### Split training and test data"
   ]
  },
  {
   "cell_type": "code",
   "execution_count": null,
   "metadata": {
    "colab": {},
    "colab_type": "code",
    "id": "wGLPe76-rQct"
   },
   "outputs": [],
   "source": [
    "from sklearn.model_selection import train_test_split\n",
    "\n",
    "X = replied_inquiries.drop(['accepted'], axis = 1)\n",
    "y = replied_inquiries['accepted']\n",
    "\n",
    "model_train_x, model_test_x, model_train_y, model_test_y = train_test_split(X, y, stratify=y, test_size=0.15, random_state = 3) "
   ]
  },
  {
   "cell_type": "markdown",
   "metadata": {
    "colab_type": "text",
    "id": "J2ome4G1je2k"
   },
   "source": [
    "### Train model and find optimal hypermarameters"
   ]
  },
  {
   "cell_type": "code",
   "execution_count": null,
   "metadata": {
    "colab": {
     "base_uri": "https://localhost:8080/",
     "height": 1000
    },
    "colab_type": "code",
    "id": "B1zIPemIrVfr",
    "outputId": "dc9b3a62-197f-4ada-ffc9-a0ef21609995",
    "scrolled": true
   },
   "outputs": [
    {
     "name": "stderr",
     "output_type": "stream",
     "text": [
      "/usr/local/lib/python3.6/dist-packages/sklearn/linear_model/_logistic.py:940: ConvergenceWarning: lbfgs failed to converge (status=1):\n",
      "STOP: TOTAL NO. of ITERATIONS REACHED LIMIT.\n",
      "\n",
      "Increase the number of iterations (max_iter) or scale the data as shown in:\n",
      "    https://scikit-learn.org/stable/modules/preprocessing.html\n",
      "Please also refer to the documentation for alternative solver options:\n",
      "    https://scikit-learn.org/stable/modules/linear_model.html#logistic-regression\n",
      "  extra_warning_msg=_LOGISTIC_SOLVER_CONVERGENCE_MSG)\n",
      "/usr/local/lib/python3.6/dist-packages/sklearn/linear_model/_logistic.py:940: ConvergenceWarning: lbfgs failed to converge (status=1):\n",
      "STOP: TOTAL NO. of ITERATIONS REACHED LIMIT.\n",
      "\n",
      "Increase the number of iterations (max_iter) or scale the data as shown in:\n",
      "    https://scikit-learn.org/stable/modules/preprocessing.html\n",
      "Please also refer to the documentation for alternative solver options:\n",
      "    https://scikit-learn.org/stable/modules/linear_model.html#logistic-regression\n",
      "  extra_warning_msg=_LOGISTIC_SOLVER_CONVERGENCE_MSG)\n",
      "/usr/local/lib/python3.6/dist-packages/sklearn/linear_model/_logistic.py:940: ConvergenceWarning: lbfgs failed to converge (status=1):\n",
      "STOP: TOTAL NO. of ITERATIONS REACHED LIMIT.\n",
      "\n",
      "Increase the number of iterations (max_iter) or scale the data as shown in:\n",
      "    https://scikit-learn.org/stable/modules/preprocessing.html\n",
      "Please also refer to the documentation for alternative solver options:\n",
      "    https://scikit-learn.org/stable/modules/linear_model.html#logistic-regression\n",
      "  extra_warning_msg=_LOGISTIC_SOLVER_CONVERGENCE_MSG)\n",
      "/usr/local/lib/python3.6/dist-packages/sklearn/linear_model/_logistic.py:940: ConvergenceWarning: lbfgs failed to converge (status=1):\n",
      "STOP: TOTAL NO. of ITERATIONS REACHED LIMIT.\n",
      "\n",
      "Increase the number of iterations (max_iter) or scale the data as shown in:\n",
      "    https://scikit-learn.org/stable/modules/preprocessing.html\n",
      "Please also refer to the documentation for alternative solver options:\n",
      "    https://scikit-learn.org/stable/modules/linear_model.html#logistic-regression\n",
      "  extra_warning_msg=_LOGISTIC_SOLVER_CONVERGENCE_MSG)\n",
      "/usr/local/lib/python3.6/dist-packages/sklearn/linear_model/_logistic.py:940: ConvergenceWarning: lbfgs failed to converge (status=1):\n",
      "STOP: TOTAL NO. of ITERATIONS REACHED LIMIT.\n",
      "\n",
      "Increase the number of iterations (max_iter) or scale the data as shown in:\n",
      "    https://scikit-learn.org/stable/modules/preprocessing.html\n",
      "Please also refer to the documentation for alternative solver options:\n",
      "    https://scikit-learn.org/stable/modules/linear_model.html#logistic-regression\n",
      "  extra_warning_msg=_LOGISTIC_SOLVER_CONVERGENCE_MSG)\n",
      "/usr/local/lib/python3.6/dist-packages/sklearn/linear_model/_logistic.py:940: ConvergenceWarning: lbfgs failed to converge (status=1):\n",
      "STOP: TOTAL NO. of ITERATIONS REACHED LIMIT.\n",
      "\n",
      "Increase the number of iterations (max_iter) or scale the data as shown in:\n",
      "    https://scikit-learn.org/stable/modules/preprocessing.html\n",
      "Please also refer to the documentation for alternative solver options:\n",
      "    https://scikit-learn.org/stable/modules/linear_model.html#logistic-regression\n",
      "  extra_warning_msg=_LOGISTIC_SOLVER_CONVERGENCE_MSG)\n",
      "/usr/local/lib/python3.6/dist-packages/sklearn/linear_model/_logistic.py:940: ConvergenceWarning: lbfgs failed to converge (status=1):\n",
      "STOP: TOTAL NO. of ITERATIONS REACHED LIMIT.\n",
      "\n",
      "Increase the number of iterations (max_iter) or scale the data as shown in:\n",
      "    https://scikit-learn.org/stable/modules/preprocessing.html\n",
      "Please also refer to the documentation for alternative solver options:\n",
      "    https://scikit-learn.org/stable/modules/linear_model.html#logistic-regression\n",
      "  extra_warning_msg=_LOGISTIC_SOLVER_CONVERGENCE_MSG)\n",
      "/usr/local/lib/python3.6/dist-packages/sklearn/linear_model/_logistic.py:940: ConvergenceWarning: lbfgs failed to converge (status=1):\n",
      "STOP: TOTAL NO. of ITERATIONS REACHED LIMIT.\n",
      "\n",
      "Increase the number of iterations (max_iter) or scale the data as shown in:\n",
      "    https://scikit-learn.org/stable/modules/preprocessing.html\n",
      "Please also refer to the documentation for alternative solver options:\n",
      "    https://scikit-learn.org/stable/modules/linear_model.html#logistic-regression\n",
      "  extra_warning_msg=_LOGISTIC_SOLVER_CONVERGENCE_MSG)\n",
      "/usr/local/lib/python3.6/dist-packages/sklearn/linear_model/_logistic.py:940: ConvergenceWarning: lbfgs failed to converge (status=1):\n",
      "STOP: TOTAL NO. of ITERATIONS REACHED LIMIT.\n",
      "\n",
      "Increase the number of iterations (max_iter) or scale the data as shown in:\n",
      "    https://scikit-learn.org/stable/modules/preprocessing.html\n",
      "Please also refer to the documentation for alternative solver options:\n",
      "    https://scikit-learn.org/stable/modules/linear_model.html#logistic-regression\n",
      "  extra_warning_msg=_LOGISTIC_SOLVER_CONVERGENCE_MSG)\n",
      "/usr/local/lib/python3.6/dist-packages/sklearn/linear_model/_logistic.py:940: ConvergenceWarning: lbfgs failed to converge (status=1):\n",
      "STOP: TOTAL NO. of ITERATIONS REACHED LIMIT.\n",
      "\n",
      "Increase the number of iterations (max_iter) or scale the data as shown in:\n",
      "    https://scikit-learn.org/stable/modules/preprocessing.html\n",
      "Please also refer to the documentation for alternative solver options:\n",
      "    https://scikit-learn.org/stable/modules/linear_model.html#logistic-regression\n",
      "  extra_warning_msg=_LOGISTIC_SOLVER_CONVERGENCE_MSG)\n",
      "/usr/local/lib/python3.6/dist-packages/sklearn/linear_model/_logistic.py:940: ConvergenceWarning: lbfgs failed to converge (status=1):\n",
      "STOP: TOTAL NO. of ITERATIONS REACHED LIMIT.\n",
      "\n",
      "Increase the number of iterations (max_iter) or scale the data as shown in:\n",
      "    https://scikit-learn.org/stable/modules/preprocessing.html\n",
      "Please also refer to the documentation for alternative solver options:\n",
      "    https://scikit-learn.org/stable/modules/linear_model.html#logistic-regression\n",
      "  extra_warning_msg=_LOGISTIC_SOLVER_CONVERGENCE_MSG)\n",
      "/usr/local/lib/python3.6/dist-packages/sklearn/linear_model/_logistic.py:940: ConvergenceWarning: lbfgs failed to converge (status=1):\n",
      "STOP: TOTAL NO. of ITERATIONS REACHED LIMIT.\n",
      "\n",
      "Increase the number of iterations (max_iter) or scale the data as shown in:\n",
      "    https://scikit-learn.org/stable/modules/preprocessing.html\n",
      "Please also refer to the documentation for alternative solver options:\n",
      "    https://scikit-learn.org/stable/modules/linear_model.html#logistic-regression\n",
      "  extra_warning_msg=_LOGISTIC_SOLVER_CONVERGENCE_MSG)\n",
      "/usr/local/lib/python3.6/dist-packages/sklearn/linear_model/_logistic.py:940: ConvergenceWarning: lbfgs failed to converge (status=1):\n",
      "STOP: TOTAL NO. of ITERATIONS REACHED LIMIT.\n",
      "\n",
      "Increase the number of iterations (max_iter) or scale the data as shown in:\n",
      "    https://scikit-learn.org/stable/modules/preprocessing.html\n",
      "Please also refer to the documentation for alternative solver options:\n",
      "    https://scikit-learn.org/stable/modules/linear_model.html#logistic-regression\n",
      "  extra_warning_msg=_LOGISTIC_SOLVER_CONVERGENCE_MSG)\n",
      "/usr/local/lib/python3.6/dist-packages/sklearn/linear_model/_logistic.py:940: ConvergenceWarning: lbfgs failed to converge (status=1):\n",
      "STOP: TOTAL NO. of ITERATIONS REACHED LIMIT.\n",
      "\n",
      "Increase the number of iterations (max_iter) or scale the data as shown in:\n",
      "    https://scikit-learn.org/stable/modules/preprocessing.html\n",
      "Please also refer to the documentation for alternative solver options:\n",
      "    https://scikit-learn.org/stable/modules/linear_model.html#logistic-regression\n",
      "  extra_warning_msg=_LOGISTIC_SOLVER_CONVERGENCE_MSG)\n",
      "/usr/local/lib/python3.6/dist-packages/sklearn/linear_model/_logistic.py:940: ConvergenceWarning: lbfgs failed to converge (status=1):\n",
      "STOP: TOTAL NO. of ITERATIONS REACHED LIMIT.\n",
      "\n",
      "Increase the number of iterations (max_iter) or scale the data as shown in:\n",
      "    https://scikit-learn.org/stable/modules/preprocessing.html\n",
      "Please also refer to the documentation for alternative solver options:\n",
      "    https://scikit-learn.org/stable/modules/linear_model.html#logistic-regression\n",
      "  extra_warning_msg=_LOGISTIC_SOLVER_CONVERGENCE_MSG)\n",
      "/usr/local/lib/python3.6/dist-packages/sklearn/linear_model/_logistic.py:940: ConvergenceWarning: lbfgs failed to converge (status=1):\n",
      "STOP: TOTAL NO. of ITERATIONS REACHED LIMIT.\n",
      "\n",
      "Increase the number of iterations (max_iter) or scale the data as shown in:\n",
      "    https://scikit-learn.org/stable/modules/preprocessing.html\n",
      "Please also refer to the documentation for alternative solver options:\n",
      "    https://scikit-learn.org/stable/modules/linear_model.html#logistic-regression\n",
      "  extra_warning_msg=_LOGISTIC_SOLVER_CONVERGENCE_MSG)\n",
      "/usr/local/lib/python3.6/dist-packages/sklearn/linear_model/_logistic.py:940: ConvergenceWarning: lbfgs failed to converge (status=1):\n",
      "STOP: TOTAL NO. of ITERATIONS REACHED LIMIT.\n",
      "\n",
      "Increase the number of iterations (max_iter) or scale the data as shown in:\n",
      "    https://scikit-learn.org/stable/modules/preprocessing.html\n",
      "Please also refer to the documentation for alternative solver options:\n",
      "    https://scikit-learn.org/stable/modules/linear_model.html#logistic-regression\n",
      "  extra_warning_msg=_LOGISTIC_SOLVER_CONVERGENCE_MSG)\n",
      "/usr/local/lib/python3.6/dist-packages/sklearn/linear_model/_logistic.py:940: ConvergenceWarning: lbfgs failed to converge (status=1):\n",
      "STOP: TOTAL NO. of ITERATIONS REACHED LIMIT.\n",
      "\n",
      "Increase the number of iterations (max_iter) or scale the data as shown in:\n",
      "    https://scikit-learn.org/stable/modules/preprocessing.html\n",
      "Please also refer to the documentation for alternative solver options:\n",
      "    https://scikit-learn.org/stable/modules/linear_model.html#logistic-regression\n",
      "  extra_warning_msg=_LOGISTIC_SOLVER_CONVERGENCE_MSG)\n",
      "/usr/local/lib/python3.6/dist-packages/sklearn/linear_model/_logistic.py:940: ConvergenceWarning: lbfgs failed to converge (status=1):\n",
      "STOP: TOTAL NO. of ITERATIONS REACHED LIMIT.\n",
      "\n",
      "Increase the number of iterations (max_iter) or scale the data as shown in:\n",
      "    https://scikit-learn.org/stable/modules/preprocessing.html\n",
      "Please also refer to the documentation for alternative solver options:\n",
      "    https://scikit-learn.org/stable/modules/linear_model.html#logistic-regression\n",
      "  extra_warning_msg=_LOGISTIC_SOLVER_CONVERGENCE_MSG)\n",
      "/usr/local/lib/python3.6/dist-packages/sklearn/linear_model/_logistic.py:940: ConvergenceWarning: lbfgs failed to converge (status=1):\n",
      "STOP: TOTAL NO. of ITERATIONS REACHED LIMIT.\n",
      "\n",
      "Increase the number of iterations (max_iter) or scale the data as shown in:\n",
      "    https://scikit-learn.org/stable/modules/preprocessing.html\n",
      "Please also refer to the documentation for alternative solver options:\n",
      "    https://scikit-learn.org/stable/modules/linear_model.html#logistic-regression\n",
      "  extra_warning_msg=_LOGISTIC_SOLVER_CONVERGENCE_MSG)\n",
      "/usr/local/lib/python3.6/dist-packages/sklearn/linear_model/_logistic.py:940: ConvergenceWarning: lbfgs failed to converge (status=1):\n",
      "STOP: TOTAL NO. of ITERATIONS REACHED LIMIT.\n",
      "\n",
      "Increase the number of iterations (max_iter) or scale the data as shown in:\n",
      "    https://scikit-learn.org/stable/modules/preprocessing.html\n",
      "Please also refer to the documentation for alternative solver options:\n",
      "    https://scikit-learn.org/stable/modules/linear_model.html#logistic-regression\n",
      "  extra_warning_msg=_LOGISTIC_SOLVER_CONVERGENCE_MSG)\n",
      "/usr/local/lib/python3.6/dist-packages/sklearn/linear_model/_logistic.py:940: ConvergenceWarning: lbfgs failed to converge (status=1):\n",
      "STOP: TOTAL NO. of ITERATIONS REACHED LIMIT.\n",
      "\n",
      "Increase the number of iterations (max_iter) or scale the data as shown in:\n",
      "    https://scikit-learn.org/stable/modules/preprocessing.html\n",
      "Please also refer to the documentation for alternative solver options:\n",
      "    https://scikit-learn.org/stable/modules/linear_model.html#logistic-regression\n",
      "  extra_warning_msg=_LOGISTIC_SOLVER_CONVERGENCE_MSG)\n",
      "/usr/local/lib/python3.6/dist-packages/sklearn/linear_model/_logistic.py:940: ConvergenceWarning: lbfgs failed to converge (status=1):\n",
      "STOP: TOTAL NO. of ITERATIONS REACHED LIMIT.\n",
      "\n",
      "Increase the number of iterations (max_iter) or scale the data as shown in:\n",
      "    https://scikit-learn.org/stable/modules/preprocessing.html\n",
      "Please also refer to the documentation for alternative solver options:\n",
      "    https://scikit-learn.org/stable/modules/linear_model.html#logistic-regression\n",
      "  extra_warning_msg=_LOGISTIC_SOLVER_CONVERGENCE_MSG)\n",
      "/usr/local/lib/python3.6/dist-packages/sklearn/linear_model/_logistic.py:940: ConvergenceWarning: lbfgs failed to converge (status=1):\n",
      "STOP: TOTAL NO. of ITERATIONS REACHED LIMIT.\n",
      "\n",
      "Increase the number of iterations (max_iter) or scale the data as shown in:\n",
      "    https://scikit-learn.org/stable/modules/preprocessing.html\n",
      "Please also refer to the documentation for alternative solver options:\n",
      "    https://scikit-learn.org/stable/modules/linear_model.html#logistic-regression\n",
      "  extra_warning_msg=_LOGISTIC_SOLVER_CONVERGENCE_MSG)\n",
      "/usr/local/lib/python3.6/dist-packages/sklearn/linear_model/_logistic.py:940: ConvergenceWarning: lbfgs failed to converge (status=1):\n",
      "STOP: TOTAL NO. of ITERATIONS REACHED LIMIT.\n",
      "\n",
      "Increase the number of iterations (max_iter) or scale the data as shown in:\n",
      "    https://scikit-learn.org/stable/modules/preprocessing.html\n",
      "Please also refer to the documentation for alternative solver options:\n",
      "    https://scikit-learn.org/stable/modules/linear_model.html#logistic-regression\n",
      "  extra_warning_msg=_LOGISTIC_SOLVER_CONVERGENCE_MSG)\n",
      "/usr/local/lib/python3.6/dist-packages/sklearn/linear_model/_logistic.py:940: ConvergenceWarning: lbfgs failed to converge (status=1):\n",
      "STOP: TOTAL NO. of ITERATIONS REACHED LIMIT.\n",
      "\n",
      "Increase the number of iterations (max_iter) or scale the data as shown in:\n",
      "    https://scikit-learn.org/stable/modules/preprocessing.html\n",
      "Please also refer to the documentation for alternative solver options:\n",
      "    https://scikit-learn.org/stable/modules/linear_model.html#logistic-regression\n",
      "  extra_warning_msg=_LOGISTIC_SOLVER_CONVERGENCE_MSG)\n",
      "/usr/local/lib/python3.6/dist-packages/sklearn/linear_model/_logistic.py:940: ConvergenceWarning: lbfgs failed to converge (status=1):\n",
      "STOP: TOTAL NO. of ITERATIONS REACHED LIMIT.\n",
      "\n",
      "Increase the number of iterations (max_iter) or scale the data as shown in:\n",
      "    https://scikit-learn.org/stable/modules/preprocessing.html\n",
      "Please also refer to the documentation for alternative solver options:\n",
      "    https://scikit-learn.org/stable/modules/linear_model.html#logistic-regression\n",
      "  extra_warning_msg=_LOGISTIC_SOLVER_CONVERGENCE_MSG)\n",
      "/usr/local/lib/python3.6/dist-packages/sklearn/linear_model/_logistic.py:940: ConvergenceWarning: lbfgs failed to converge (status=1):\n",
      "STOP: TOTAL NO. of ITERATIONS REACHED LIMIT.\n",
      "\n",
      "Increase the number of iterations (max_iter) or scale the data as shown in:\n",
      "    https://scikit-learn.org/stable/modules/preprocessing.html\n",
      "Please also refer to the documentation for alternative solver options:\n",
      "    https://scikit-learn.org/stable/modules/linear_model.html#logistic-regression\n",
      "  extra_warning_msg=_LOGISTIC_SOLVER_CONVERGENCE_MSG)\n",
      "/usr/local/lib/python3.6/dist-packages/sklearn/linear_model/_logistic.py:940: ConvergenceWarning: lbfgs failed to converge (status=1):\n",
      "STOP: TOTAL NO. of ITERATIONS REACHED LIMIT.\n",
      "\n",
      "Increase the number of iterations (max_iter) or scale the data as shown in:\n",
      "    https://scikit-learn.org/stable/modules/preprocessing.html\n",
      "Please also refer to the documentation for alternative solver options:\n",
      "    https://scikit-learn.org/stable/modules/linear_model.html#logistic-regression\n",
      "  extra_warning_msg=_LOGISTIC_SOLVER_CONVERGENCE_MSG)\n",
      "/usr/local/lib/python3.6/dist-packages/sklearn/linear_model/_logistic.py:940: ConvergenceWarning: lbfgs failed to converge (status=1):\n",
      "STOP: TOTAL NO. of ITERATIONS REACHED LIMIT.\n",
      "\n",
      "Increase the number of iterations (max_iter) or scale the data as shown in:\n",
      "    https://scikit-learn.org/stable/modules/preprocessing.html\n",
      "Please also refer to the documentation for alternative solver options:\n",
      "    https://scikit-learn.org/stable/modules/linear_model.html#logistic-regression\n",
      "  extra_warning_msg=_LOGISTIC_SOLVER_CONVERGENCE_MSG)\n",
      "/usr/local/lib/python3.6/dist-packages/sklearn/linear_model/_logistic.py:940: ConvergenceWarning: lbfgs failed to converge (status=1):\n",
      "STOP: TOTAL NO. of ITERATIONS REACHED LIMIT.\n",
      "\n",
      "Increase the number of iterations (max_iter) or scale the data as shown in:\n",
      "    https://scikit-learn.org/stable/modules/preprocessing.html\n",
      "Please also refer to the documentation for alternative solver options:\n",
      "    https://scikit-learn.org/stable/modules/linear_model.html#logistic-regression\n",
      "  extra_warning_msg=_LOGISTIC_SOLVER_CONVERGENCE_MSG)\n",
      "/usr/local/lib/python3.6/dist-packages/sklearn/linear_model/_logistic.py:940: ConvergenceWarning: lbfgs failed to converge (status=1):\n",
      "STOP: TOTAL NO. of ITERATIONS REACHED LIMIT.\n",
      "\n",
      "Increase the number of iterations (max_iter) or scale the data as shown in:\n",
      "    https://scikit-learn.org/stable/modules/preprocessing.html\n",
      "Please also refer to the documentation for alternative solver options:\n",
      "    https://scikit-learn.org/stable/modules/linear_model.html#logistic-regression\n",
      "  extra_warning_msg=_LOGISTIC_SOLVER_CONVERGENCE_MSG)\n",
      "/usr/local/lib/python3.6/dist-packages/sklearn/linear_model/_logistic.py:940: ConvergenceWarning: lbfgs failed to converge (status=1):\n",
      "STOP: TOTAL NO. of ITERATIONS REACHED LIMIT.\n",
      "\n",
      "Increase the number of iterations (max_iter) or scale the data as shown in:\n",
      "    https://scikit-learn.org/stable/modules/preprocessing.html\n",
      "Please also refer to the documentation for alternative solver options:\n",
      "    https://scikit-learn.org/stable/modules/linear_model.html#logistic-regression\n",
      "  extra_warning_msg=_LOGISTIC_SOLVER_CONVERGENCE_MSG)\n",
      "/usr/local/lib/python3.6/dist-packages/sklearn/linear_model/_logistic.py:940: ConvergenceWarning: lbfgs failed to converge (status=1):\n",
      "STOP: TOTAL NO. of ITERATIONS REACHED LIMIT.\n",
      "\n",
      "Increase the number of iterations (max_iter) or scale the data as shown in:\n",
      "    https://scikit-learn.org/stable/modules/preprocessing.html\n",
      "Please also refer to the documentation for alternative solver options:\n",
      "    https://scikit-learn.org/stable/modules/linear_model.html#logistic-regression\n",
      "  extra_warning_msg=_LOGISTIC_SOLVER_CONVERGENCE_MSG)\n",
      "/usr/local/lib/python3.6/dist-packages/sklearn/linear_model/_logistic.py:940: ConvergenceWarning: lbfgs failed to converge (status=1):\n",
      "STOP: TOTAL NO. of ITERATIONS REACHED LIMIT.\n",
      "\n",
      "Increase the number of iterations (max_iter) or scale the data as shown in:\n",
      "    https://scikit-learn.org/stable/modules/preprocessing.html\n",
      "Please also refer to the documentation for alternative solver options:\n",
      "    https://scikit-learn.org/stable/modules/linear_model.html#logistic-regression\n",
      "  extra_warning_msg=_LOGISTIC_SOLVER_CONVERGENCE_MSG)\n",
      "/usr/local/lib/python3.6/dist-packages/sklearn/linear_model/_logistic.py:940: ConvergenceWarning: lbfgs failed to converge (status=1):\n",
      "STOP: TOTAL NO. of ITERATIONS REACHED LIMIT.\n",
      "\n",
      "Increase the number of iterations (max_iter) or scale the data as shown in:\n",
      "    https://scikit-learn.org/stable/modules/preprocessing.html\n",
      "Please also refer to the documentation for alternative solver options:\n",
      "    https://scikit-learn.org/stable/modules/linear_model.html#logistic-regression\n",
      "  extra_warning_msg=_LOGISTIC_SOLVER_CONVERGENCE_MSG)\n",
      "/usr/local/lib/python3.6/dist-packages/sklearn/linear_model/_logistic.py:940: ConvergenceWarning: lbfgs failed to converge (status=1):\n",
      "STOP: TOTAL NO. of ITERATIONS REACHED LIMIT.\n",
      "\n",
      "Increase the number of iterations (max_iter) or scale the data as shown in:\n",
      "    https://scikit-learn.org/stable/modules/preprocessing.html\n",
      "Please also refer to the documentation for alternative solver options:\n",
      "    https://scikit-learn.org/stable/modules/linear_model.html#logistic-regression\n",
      "  extra_warning_msg=_LOGISTIC_SOLVER_CONVERGENCE_MSG)\n",
      "/usr/local/lib/python3.6/dist-packages/sklearn/linear_model/_logistic.py:940: ConvergenceWarning: lbfgs failed to converge (status=1):\n",
      "STOP: TOTAL NO. of ITERATIONS REACHED LIMIT.\n",
      "\n",
      "Increase the number of iterations (max_iter) or scale the data as shown in:\n",
      "    https://scikit-learn.org/stable/modules/preprocessing.html\n",
      "Please also refer to the documentation for alternative solver options:\n",
      "    https://scikit-learn.org/stable/modules/linear_model.html#logistic-regression\n",
      "  extra_warning_msg=_LOGISTIC_SOLVER_CONVERGENCE_MSG)\n",
      "/usr/local/lib/python3.6/dist-packages/sklearn/linear_model/_logistic.py:940: ConvergenceWarning: lbfgs failed to converge (status=1):\n",
      "STOP: TOTAL NO. of ITERATIONS REACHED LIMIT.\n",
      "\n",
      "Increase the number of iterations (max_iter) or scale the data as shown in:\n",
      "    https://scikit-learn.org/stable/modules/preprocessing.html\n",
      "Please also refer to the documentation for alternative solver options:\n",
      "    https://scikit-learn.org/stable/modules/linear_model.html#logistic-regression\n",
      "  extra_warning_msg=_LOGISTIC_SOLVER_CONVERGENCE_MSG)\n",
      "/usr/local/lib/python3.6/dist-packages/sklearn/linear_model/_logistic.py:940: ConvergenceWarning: lbfgs failed to converge (status=1):\n",
      "STOP: TOTAL NO. of ITERATIONS REACHED LIMIT.\n",
      "\n",
      "Increase the number of iterations (max_iter) or scale the data as shown in:\n",
      "    https://scikit-learn.org/stable/modules/preprocessing.html\n",
      "Please also refer to the documentation for alternative solver options:\n",
      "    https://scikit-learn.org/stable/modules/linear_model.html#logistic-regression\n",
      "  extra_warning_msg=_LOGISTIC_SOLVER_CONVERGENCE_MSG)\n",
      "/usr/local/lib/python3.6/dist-packages/sklearn/linear_model/_logistic.py:940: ConvergenceWarning: lbfgs failed to converge (status=1):\n",
      "STOP: TOTAL NO. of ITERATIONS REACHED LIMIT.\n",
      "\n",
      "Increase the number of iterations (max_iter) or scale the data as shown in:\n",
      "    https://scikit-learn.org/stable/modules/preprocessing.html\n",
      "Please also refer to the documentation for alternative solver options:\n",
      "    https://scikit-learn.org/stable/modules/linear_model.html#logistic-regression\n",
      "  extra_warning_msg=_LOGISTIC_SOLVER_CONVERGENCE_MSG)\n",
      "/usr/local/lib/python3.6/dist-packages/sklearn/linear_model/_logistic.py:940: ConvergenceWarning: lbfgs failed to converge (status=1):\n",
      "STOP: TOTAL NO. of ITERATIONS REACHED LIMIT.\n",
      "\n",
      "Increase the number of iterations (max_iter) or scale the data as shown in:\n",
      "    https://scikit-learn.org/stable/modules/preprocessing.html\n",
      "Please also refer to the documentation for alternative solver options:\n",
      "    https://scikit-learn.org/stable/modules/linear_model.html#logistic-regression\n",
      "  extra_warning_msg=_LOGISTIC_SOLVER_CONVERGENCE_MSG)\n",
      "/usr/local/lib/python3.6/dist-packages/sklearn/linear_model/_logistic.py:940: ConvergenceWarning: lbfgs failed to converge (status=1):\n",
      "STOP: TOTAL NO. of ITERATIONS REACHED LIMIT.\n",
      "\n",
      "Increase the number of iterations (max_iter) or scale the data as shown in:\n",
      "    https://scikit-learn.org/stable/modules/preprocessing.html\n",
      "Please also refer to the documentation for alternative solver options:\n",
      "    https://scikit-learn.org/stable/modules/linear_model.html#logistic-regression\n",
      "  extra_warning_msg=_LOGISTIC_SOLVER_CONVERGENCE_MSG)\n"
     ]
    },
    {
     "data": {
      "text/plain": [
       "GridSearchCV(cv=5, error_score=nan,\n",
       "             estimator=LogisticRegression(C=1.0, class_weight=None, dual=False,\n",
       "                                          fit_intercept=True,\n",
       "                                          intercept_scaling=1, l1_ratio=None,\n",
       "                                          max_iter=100, multi_class='auto',\n",
       "                                          n_jobs=None, penalty='l2',\n",
       "                                          random_state=None, solver='lbfgs',\n",
       "                                          tol=0.0001, verbose=0,\n",
       "                                          warm_start=False),\n",
       "             iid='deprecated', n_jobs=None,\n",
       "             param_grid={'C': array([0.001     , 0.00114062, 0...\n",
       "       0.02682696, 0.0305995 , 0.03490255, 0.03981072, 0.0454091 ,\n",
       "       0.05179475, 0.05907838, 0.06738627, 0.07686246, 0.08767124,\n",
       "       0.1       , 0.11406249, 0.13010252, 0.14839818, 0.16926666,\n",
       "       0.19306977, 0.22022019, 0.25118864, 0.28651203, 0.32680276,\n",
       "       0.37275937, 0.42517863, 0.48496934, 0.55316812, 0.63095734]),\n",
       "                         'penalty': ['l2']},\n",
       "             pre_dispatch='2*n_jobs', refit=True, return_train_score=False,\n",
       "             scoring=None, verbose=0)"
      ]
     },
     "execution_count": 38,
     "metadata": {
      "tags": []
     },
     "output_type": "execute_result"
    }
   ],
   "source": [
    "# Possible hyperparamter options for Logistic Regression Regularization\n",
    "# Penalty is choosed from L1 or L2\n",
    "# C is the lambda value(weight) for L1 and L2\n",
    "\n",
    "parameters = {\n",
    "    'penalty':['l2'],\n",
    "    'C':np.logspace (-3, -0.2, num=50)\n",
    "}\n",
    "Grid_LR = GridSearchCV(LogisticRegression(),parameters, cv=5)\n",
    "Grid_LR.fit(model_train_x, model_train_y)"
   ]
  },
  {
   "cell_type": "code",
   "execution_count": null,
   "metadata": {
    "colab": {
     "base_uri": "https://localhost:8080/",
     "height": 90
    },
    "colab_type": "code",
    "id": "AzycqD6ArVfx",
    "outputId": "20da5b59-9e4b-4d0c-efab-cf8b44f730a4"
   },
   "outputs": [
    {
     "name": "stdout",
     "output_type": "stream",
     "text": [
      "Best score: 0.757\n",
      "Best parameters set:\n",
      "\tC: 0.08767123872968682\n",
      "\tpenalty: 'l2'\n"
     ]
    }
   ],
   "source": [
    "# the best hyperparameter combination\n",
    "print_grid_search_metrics(Grid_LR)"
   ]
  },
  {
   "cell_type": "code",
   "execution_count": null,
   "metadata": {
    "colab": {},
    "colab_type": "code",
    "id": "Gdprt6L9rVfy"
   },
   "outputs": [],
   "source": [
    "# best model\n",
    "best_LR_model = Grid_LR.best_estimator_"
   ]
  },
  {
   "cell_type": "markdown",
   "metadata": {
    "colab_type": "text",
    "id": "EQ1YV6fBjiLe"
   },
   "source": [
    "### Model evaluation"
   ]
  },
  {
   "cell_type": "markdown",
   "metadata": {
    "colab_type": "text",
    "id": "ULjDvVYHjiLf"
   },
   "source": [
    "#### Confusion matrix"
   ]
  },
  {
   "cell_type": "code",
   "execution_count": null,
   "metadata": {
    "colab": {},
    "colab_type": "code",
    "id": "VBYkSA8ajiLf"
   },
   "outputs": [],
   "source": [
    "from sklearn.metrics import confusion_matrix\n",
    "from sklearn.metrics import classification_report\n",
    "from sklearn.metrics import precision_score\n",
    "from sklearn.metrics import recall_score\n",
    "\n",
    "# calculate accuracy, precision and recall, [[tn, fp],[]]\n",
    "def cal_evaluation(classifier, cm):\n",
    "    tn = cm[0][0]\n",
    "    fp = cm[0][1]\n",
    "    fn = cm[1][0]\n",
    "    tp = cm[1][1]\n",
    "    accuracy  = (tp + tn) / (tp + fp + fn + tn + 0.0)\n",
    "    precision = tp / (tp + fp + 0.0)\n",
    "    recall = tp / (tp + fn + 0.0)\n",
    "    print (classifier)\n",
    "    print (\"Accuracy is: %0.3f\" % accuracy)\n",
    "    print (\"precision is: %0.3f\" % precision)\n",
    "    print (\"recall is: %0.3f\" % recall)\n",
    "\n",
    "# print out confusion matrices\n",
    "def draw_confusion_matrices(confusion_matricies):\n",
    "    class_names = ['Not_accepted','Accepted']\n",
    "    for cm in confusion_matrices:\n",
    "        classifier, cm = cm[0], cm[1]\n",
    "        cal_evaluation(classifier, cm)\n",
    "        fig = plt.figure()\n",
    "        ax = fig.add_subplot(111)\n",
    "        cax = ax.matshow(cm, interpolation='nearest',cmap=plt.get_cmap('Reds'))\n",
    "        plt.title('Confusion matrix for %s' % classifier)\n",
    "        fig.colorbar(cax)\n",
    "        ax.set_xticklabels([''] + class_names)\n",
    "        ax.set_yticklabels([''] + class_names)\n",
    "        plt.xlabel('Predicted')\n",
    "        plt.ylabel('True')\n",
    "        plt.show()"
   ]
  },
  {
   "cell_type": "code",
   "execution_count": null,
   "metadata": {
    "colab": {
     "base_uri": "https://localhost:8080/",
     "height": 54
    },
    "colab_type": "code",
    "id": "3oDJea7sjiLg",
    "outputId": "79b0beb9-1a3f-4317-d0e9-7b60b20e9516"
   },
   "outputs": [
    {
     "data": {
      "text/plain": [
       "array([[1291,   88],\n",
       "       [ 412,  329]])"
      ]
     },
     "execution_count": 42,
     "metadata": {
      "tags": []
     },
     "output_type": "execute_result"
    }
   ],
   "source": [
    "confusion_matrix(model_test_y, best_LR_model.predict(model_test_x))"
   ]
  },
  {
   "cell_type": "code",
   "execution_count": null,
   "metadata": {
    "colab": {
     "base_uri": "https://localhost:8080/",
     "height": 362
    },
    "colab_type": "code",
    "id": "-hEjInoPjiLi",
    "outputId": "bf3943ee-50f4-4e60-9c59-0986a2845a5a"
   },
   "outputs": [
    {
     "name": "stdout",
     "output_type": "stream",
     "text": [
      "Logistic Regression\n",
      "Accuracy is: 0.764\n",
      "precision is: 0.789\n",
      "recall is: 0.444\n"
     ]
    },
    {
     "data": {
      "image/png": "[encoded data removed]",
      "text/plain": [
       "<Figure size 432x288 with 2 Axes>"
      ]
     },
     "metadata": {
      "needs_background": "light",
      "tags": []
     },
     "output_type": "display_data"
    }
   ],
   "source": [
    "%matplotlib inline\n",
    "\n",
    "# Confusion matrix, accuracy, precison and recall for random forest and logistic regression\n",
    "confusion_matrices = [\n",
    "    (\"Logistic Regression\", confusion_matrix(model_test_y, best_LR_model.predict(model_test_x))),\n",
    "    #(\"Logistic Regression\", confusion_matrix(yc_test,best_LR_model.predict(Xc_test))),\n",
    "]\n",
    "\n",
    "draw_confusion_matrices(confusion_matrices)"
   ]
  },
  {
   "cell_type": "markdown",
   "metadata": {
    "colab_type": "text",
    "id": "mhmIwATSjiLj"
   },
   "source": [
    "#### ROC & AUC"
   ]
  },
  {
   "cell_type": "code",
   "execution_count": null,
   "metadata": {
    "colab": {},
    "colab_type": "code",
    "id": "d7WrVc1ZjiLj"
   },
   "outputs": [],
   "source": [
    "from sklearn.metrics import roc_curve\n",
    "from sklearn import metrics\n",
    "\n",
    "# Use predict_proba to get the probability results of Logistic Regression\n",
    "y_pred_lr = best_LR_model.predict_proba(model_test_x)[:, 1]\n",
    "fpr_lr, tpr_lr, _ = roc_curve(model_test_y, y_pred_lr)"
   ]
  },
  {
   "cell_type": "code",
   "execution_count": null,
   "metadata": {
    "colab": {
     "base_uri": "https://localhost:8080/",
     "height": 295
    },
    "colab_type": "code",
    "id": "6KBrCd6XjiLk",
    "outputId": "43faabef-9db5-40d4-c40a-57ec685b5e44"
   },
   "outputs": [
    {
     "data": {
      "image/png": "[encoded data removed]",
      "text/plain": [
       "<Figure size 432x288 with 1 Axes>"
      ]
     },
     "metadata": {
      "needs_background": "light",
      "tags": []
     },
     "output_type": "display_data"
    }
   ],
   "source": [
    "# ROC Curve\n",
    "plt.figure(1)\n",
    "plt.plot([0, 1], [0, 1], 'k--')\n",
    "plt.plot(fpr_lr, tpr_lr, label='LR')\n",
    "plt.xlabel('False positive rate')\n",
    "plt.ylabel('True positive rate')\n",
    "plt.title('ROC curve - LR Model')\n",
    "plt.legend(loc='best')\n",
    "plt.show()"
   ]
  },
  {
   "cell_type": "code",
   "execution_count": null,
   "metadata": {
    "colab": {
     "base_uri": "https://localhost:8080/",
     "height": 35
    },
    "colab_type": "code",
    "id": "rqjTgYI5jiLm",
    "outputId": "b91f5046-93f4-409d-d200-41947efa0992"
   },
   "outputs": [
    {
     "data": {
      "text/plain": [
       "0.7855200281061889"
      ]
     },
     "execution_count": 46,
     "metadata": {
      "tags": []
     },
     "output_type": "execute_result"
    }
   ],
   "source": [
    "# AUC score\n",
    "metrics.auc(fpr_lr,tpr_lr)"
   ]
  },
  {
   "cell_type": "markdown",
   "metadata": {
    "colab_type": "text",
    "id": "IBkmn8xFjlXb"
   },
   "source": [
    "### Results interpretation"
   ]
  },
  {
   "cell_type": "code",
   "execution_count": null,
   "metadata": {
    "colab": {
     "base_uri": "https://localhost:8080/",
     "height": 1000
    },
    "colab_type": "code",
    "id": "keaLptTUjlXc",
    "outputId": "c5c8cfa0-db99-473a-f5ff-657e70ec6e02",
    "scrolled": true
   },
   "outputs": [
    {
     "name": "stdout",
     "output_type": "stream",
     "text": [
      "interactions_1-10: -1.2413\n",
      "reviews_0: -0.8786\n",
      "lead_time_>90d*interactions_1-10: -0.6769\n",
      "interactions_>30: 0.6351\n",
      "days_of_stay_1-5d*interactions_1-10: -0.5989\n",
      "interactions_21-30: 0.5396\n",
      "contact_me*lead_time_>90d: 0.5028\n",
      "guest_size_1*rt_Shared room: 0.4907\n",
      "reviews_>30: 0.4812\n",
      "contact_me: 0.4304\n",
      "days_of_stay_6-10d*interactions_1-10: -0.4006\n",
      "days_of_stay_>15d*interactions_>30: 0.3974\n",
      "guest_size_3-4*rt_Shared room: -0.3974\n",
      "reviews_21-30: 0.394\n",
      "contact_me*lead_time_1-30d: -0.3753\n",
      "reviews_11-20: 0.3172\n",
      "lead_time_>90d: -0.3171\n",
      "reviews_1-10: -0.3133\n",
      "days_of_stay_11-15d*interactions_21-30: 0.305\n",
      "days_of_stay_1-5d*interactions_11-20: 0.2947\n",
      "lead_time_>90d*interactions_21-30: 0.2864\n",
      "days_of_stay_6-10d*interactions_21-30: 0.2638\n",
      "lead_time_>90d*interactions_>30: 0.2576\n",
      "reply_t: -0.2506\n",
      "days_of_stay_>15d*interactions_21-30: -0.2449\n",
      "contact_me*lead_time_61-90d: 0.2343\n",
      "lead_time_61-90d*interactions_1-10: -0.2172\n",
      "lead_time_31-60d*interactions_1-10: -0.2162\n",
      "days_of_stay_1-5d*interactions_21-30: 0.2158\n",
      "days_of_stay_>15d*interactions_11-20: -0.2019\n",
      "days_of_stay_1-5d*interactions_>30: 0.2008\n",
      "guest_size_1*rt_Entire_home/apt: -0.1985\n",
      "days_of_stay_>15d: -0.1893\n",
      "lead_time_>90d*interactions_11-20: -0.1841\n",
      "guest_size_3-4*rt_Entire_home/apt: 0.1826\n",
      "guest_size_1: 0.1755\n",
      "lead_time_31-60d*interactions_>30: 0.1724\n",
      "lead_time_31-60d: 0.1707\n",
      "lead_time_>90d*message_length_151-300: -0.1666\n",
      "lead_time_1-30d*interactions_>30: 0.1483\n",
      "days_of_stay_>15d*interactions_1-10: -0.14\n",
      "lead_time_1-30d*interactions_1-10: -0.131\n",
      "lead_time_31-60d*interactions_11-20: 0.1289\n",
      "guest_size_3-4: -0.1228\n",
      "guest_size_1*rt_Private room: -0.1167\n",
      "days_of_stay_1-5d: 0.1123\n",
      "lead_time_61-90d*interactions_21-30: 0.1076\n",
      "guest_size_>6*rt_Entire_home/apt: 0.1019\n",
      "days_of_stay_11-15d*interactions_1-10: -0.1018\n",
      "lead_time_1-30d: 0.1015\n",
      "lead_time_61-90d*interactions_11-20: 0.0981\n",
      "lead_time_61-90d*message_length_151-300: 0.0971\n",
      "lead_time_31-60d*message_length_301-450: 0.0965\n",
      "days_of_stay_6-10d*interactions_>30: 0.0942\n",
      "guest_size_3-4*rt_Private room: 0.092\n",
      "guest_size_5-6*rt_Entire_home/apt: -0.0877\n",
      "days_of_stay_11-15d*interactions_11-20: -0.0859\n",
      "lead_time_31-60d*interactions_21-30: 0.0856\n",
      "guest_size_>6*rt_Private room: -0.0843\n",
      "rt_Shared room: 0.0705\n",
      "guest_size_>6*rt_Shared room: -0.0692\n",
      "contact_me*lead_time_31-60d: 0.0687\n",
      "message_length_>450: -0.0682\n",
      "interactions_11-20: 0.067\n",
      "lead_time_61-90d*message_length_0-150: -0.0662\n",
      "message_length_301-450: 0.0624\n",
      "lead_time_31-60d*message_length_0-150: 0.0613\n",
      "lead_time_1-30d*message_length_151-300: 0.0605\n",
      "days_of_stay_6-10d*interactions_11-20: 0.0602\n",
      "lead_time_1-30d*interactions_21-30: 0.0601\n",
      "lead_time_>90d*message_length_>450: -0.06\n",
      "days_of_stay_11-15d: 0.0599\n",
      "lead_time_>90d*message_length_301-450: -0.0577\n",
      "days_of_stay_11-15d*interactions_>30: -0.0573\n",
      "lead_time_61-90d*interactions_>30: 0.0569\n",
      "rt_Entire_home/apt: -0.0522\n",
      "guest_size_>6: -0.0516\n",
      "guest_size_2*rt_Entire_home/apt: -0.0504\n",
      "lead_time_31-60d*message_length_151-300: 0.0487\n",
      "guest_size_5-6*rt_Private room: 0.0457\n",
      "guest_size_2*rt_Private room: 0.0454\n",
      "lead_time_61-90d: 0.0453\n",
      "message_length_151-300: 0.0398\n",
      "lead_time_31-60d*message_length_>450: -0.0358\n",
      "message_length_0-150: -0.0335\n",
      "lead_time_>90d*message_length_0-150: -0.0328\n",
      "guest_size_5-6*rt_Shared room: 0.0285\n",
      "lead_time_1-30d*interactions_11-20: 0.0241\n",
      "lead_time_1-30d*message_length_>450: 0.0192\n",
      "guest_size_2*rt_Shared room: 0.018\n",
      "rt_Private room: -0.0179\n",
      "lead_time_1-30d*message_length_301-450: 0.0176\n",
      "days_of_stay_6-10d: 0.0175\n",
      "guest_size_5-6: -0.0135\n",
      "guest_size_2: 0.013\n",
      "lead_time_61-90d*message_length_>450: 0.0085\n",
      "lead_time_61-90d*message_length_301-450: 0.006\n",
      "lead_time_1-30d*message_length_0-150: 0.0042\n"
     ]
    }
   ],
   "source": [
    "# Store the coef for results interpretation\n",
    "res = pd.DataFrame(columns=['Feature', 'Coef'])\n",
    "\n",
    "for k,v in sorted(zip(map(lambda x: round(x, 4), best_LR_model.fit(model_train_x, model_train_y).coef_[0]), \\\n",
    "                      model_train_x.columns), key=lambda k_v:(-abs(k_v[0]),k_v[1])):\n",
    "    print (v + \": \" + str(k))\n",
    "    res = res.append({'Feature': v, 'Coef': k}, ignore_index=True)\n"
   ]
  },
  {
   "cell_type": "code",
   "execution_count": null,
   "metadata": {
    "colab": {},
    "colab_type": "code",
    "id": "laYYMn8kpqd4"
   },
   "outputs": [],
   "source": [
    "res = res.set_index('Feature')"
   ]
  },
  {
   "cell_type": "code",
   "execution_count": null,
   "metadata": {
    "colab": {
     "base_uri": "https://localhost:8080/",
     "height": 35
    },
    "colab_type": "code",
    "id": "C5LkRGzPoDS0",
    "outputId": "671b0853-c68c-45fd-e90d-674ded7a3d29"
   },
   "outputs": [
    {
     "name": "stdout",
     "output_type": "stream",
     "text": [
      "reply_t: -0.2506\n"
     ]
    }
   ],
   "source": [
    " print('reply_t: ' + str(res.Coef.loc['reply_t'])) "
   ]
  },
  {
   "cell_type": "markdown",
   "metadata": {
    "colab_type": "text",
    "id": "VTTM0wcur9SL"
   },
   "source": [
    "\n",
    "Inquiries with shorter reply times are more likely to be accepted "
   ]
  },
  {
   "cell_type": "code",
   "execution_count": null,
   "metadata": {
    "colab": {
     "base_uri": "https://localhost:8080/",
     "height": 490
    },
    "colab_type": "code",
    "id": "8wGGT8-Wpjsu",
    "outputId": "12025792-cca3-4fa4-d2ce-66d33a997ad9"
   },
   "outputs": [
    {
     "name": "stdout",
     "output_type": "stream",
     "text": [
      "interactions_1-10: -1.2413\n",
      "interactions_11-20: 0.067\n",
      "interactions_21-30: 0.5396\n",
      "interactions_>30: 0.6351\n",
      "reviews_0: -0.8786\n",
      "reviews_1-10: -0.3133\n",
      "reviews_11-20: 0.3172\n",
      "reviews_21-30: 0.394\n",
      "reviews_>30: 0.4812\n",
      "lead_time_1-30d: 0.1015\n",
      "lead_time_31-60d: 0.1707\n",
      "lead_time_61-90d: 0.0453\n",
      "lead_time_>90d: -0.3171\n",
      "days_of_stay_1-5d: 0.1123\n",
      "days_of_stay_6-10d: 0.0175\n",
      "days_of_stay_11-15d: 0.0599\n",
      "days_of_stay_>15d: -0.1893\n",
      "message_length_0-150: -0.0335\n",
      "message_length_151-300: 0.0398\n",
      "message_length_301-450: 0.0624\n",
      "message_length_>450: -0.0682\n",
      "guest_size_1: 0.1755\n",
      "guest_size_2: 0.013\n",
      "guest_size_3-4: -0.1228\n",
      "guest_size_5-6: -0.0135\n",
      "guest_size_>6: -0.0516\n"
     ]
    }
   ],
   "source": [
    "for i in list(interactions):\n",
    "  print(i + \": \" + str(res.Coef.loc[i]))\n",
    "\n",
    "for i in list(reviews):\n",
    "  print(i + \": \" + str(res.Coef.loc[i]))\n",
    "\n",
    "for i in list(lead_times):\n",
    "  print(i + \": \" + str(res.Coef.loc[i]))\n",
    "\n",
    "for i in list(stays):\n",
    "  print(i + \": \" + str(res.Coef.loc[i]))\n",
    "\n",
    "for i in list(message_lengths):\n",
    "  print(i + \": \" + str(res.Coef.loc[i]))\n",
    "\n",
    "for i in list(guest_sizes):\n",
    "  print(i + \": \" + str(res.Coef.loc[i]))"
   ]
  },
  {
   "cell_type": "markdown",
   "metadata": {
    "colab_type": "text",
    "id": "27YtzxbCXc3p"
   },
   "source": [
    "*   More than 20 interactions significantly increases the probability of acceptance, and having less than 10 interactions decreases it\n",
    "*   Hosts whose listings have more than 10 reviews are more likely to accept the inquiries than those whose listings have less than 10 reviews\n",
    "*   Inquiries made 31-60 days before check-in most likely to be accepted, and inquiries made more than 90 days before check-in are likely to be rejected\n",
    "*   Inquiries for 1-5 days are most likely to be accepted, and inquiries for more than 15 days are likely to be rejected\n",
    "*   Inquiries with message between 150 and 450 characters are more likely to be accepted\n",
    "*   Inquiries for single guest are most likely to be accepted, and inquirie for more than 2 guests are less likely to be booked\n"
   ]
  },
  {
   "cell_type": "code",
   "execution_count": null,
   "metadata": {
    "colab": {
     "base_uri": "https://localhost:8080/",
     "height": 308
    },
    "colab_type": "code",
    "id": "XiURhbWWp9zP",
    "outputId": "496d35e2-6abb-40a4-96c3-0050dc6efa42"
   },
   "outputs": [
    {
     "name": "stdout",
     "output_type": "stream",
     "text": [
      "lead_time_1-30d*interactions_1-10: -0.131\n",
      "lead_time_1-30d*interactions_11-20: 0.0241\n",
      "lead_time_1-30d*interactions_21-30: 0.0601\n",
      "lead_time_1-30d*interactions_>30: 0.1483\n",
      "lead_time_31-60d*interactions_1-10: -0.2162\n",
      "lead_time_31-60d*interactions_11-20: 0.1289\n",
      "lead_time_31-60d*interactions_21-30: 0.0856\n",
      "lead_time_31-60d*interactions_>30: 0.1724\n",
      "lead_time_61-90d*interactions_1-10: -0.2172\n",
      "lead_time_61-90d*interactions_11-20: 0.0981\n",
      "lead_time_61-90d*interactions_21-30: 0.1076\n",
      "lead_time_61-90d*interactions_>30: 0.0569\n",
      "lead_time_>90d*interactions_1-10: -0.6769\n",
      "lead_time_>90d*interactions_11-20: -0.1841\n",
      "lead_time_>90d*interactions_21-30: 0.2864\n",
      "lead_time_>90d*interactions_>30: 0.2576\n"
     ]
    }
   ],
   "source": [
    "for i in list(lead_times):\n",
    "  for j in list(interactions):\n",
    "    print(i + \"*\" + j + \": \" + str(res.Coef.loc[i + \"*\" + j ]))"
   ]
  },
  {
   "cell_type": "markdown",
   "metadata": {
    "colab_type": "text",
    "id": "uweMZPRwY0ea"
   },
   "source": [
    "Having more than 10 interactions drives up the probability of acceptance from negative to positive across all lead times\n",
    "\n",
    "For inquiries with lead time >90 days, need more than 20 interactions to drive accpetance\n"
   ]
  },
  {
   "cell_type": "code",
   "execution_count": null,
   "metadata": {
    "colab": {
     "base_uri": "https://localhost:8080/",
     "height": 308
    },
    "colab_type": "code",
    "id": "b-DOa58tqiQR",
    "outputId": "d18d7c4b-efcb-4d3e-d7c5-6cef8d8b2761"
   },
   "outputs": [
    {
     "name": "stdout",
     "output_type": "stream",
     "text": [
      "days_of_stay_1-5d*interactions_1-10: -0.5989\n",
      "days_of_stay_1-5d*interactions_11-20: 0.2947\n",
      "days_of_stay_1-5d*interactions_21-30: 0.2158\n",
      "days_of_stay_1-5d*interactions_>30: 0.2008\n",
      "days_of_stay_6-10d*interactions_1-10: -0.4006\n",
      "days_of_stay_6-10d*interactions_11-20: 0.0602\n",
      "days_of_stay_6-10d*interactions_21-30: 0.2638\n",
      "days_of_stay_6-10d*interactions_>30: 0.0942\n",
      "days_of_stay_11-15d*interactions_1-10: -0.1018\n",
      "days_of_stay_11-15d*interactions_11-20: -0.0859\n",
      "days_of_stay_11-15d*interactions_21-30: 0.305\n",
      "days_of_stay_11-15d*interactions_>30: -0.0573\n",
      "days_of_stay_>15d*interactions_1-10: -0.14\n",
      "days_of_stay_>15d*interactions_11-20: -0.2019\n",
      "days_of_stay_>15d*interactions_21-30: -0.2449\n",
      "days_of_stay_>15d*interactions_>30: 0.3974\n"
     ]
    }
   ],
   "source": [
    "for i in list(stays):\n",
    "  for j in list(interactions):\n",
    "    print(i + \"*\" + j + \": \" + str(res.Coef.loc[i + \"*\" + j ]))"
   ]
  },
  {
   "cell_type": "markdown",
   "metadata": {
    "colab_type": "text",
    "id": "dw-ol1X-ZOCr"
   },
   "source": [
    "Having less than 10 interactions decreases the probability of acceptance across all lengths of stay\n",
    "\n",
    "When stay <= 5 days, interaction between 11 - 20 benefits acceptance the most\n",
    "\n",
    "When stay between 6 - 15 days, interaction between 21- - 30 benefits acceptance the most\n",
    "\n",
    "When stay > 15 days, need more than 30 interactions to drive acceptance\n",
    "\n"
   ]
  },
  {
   "cell_type": "code",
   "execution_count": null,
   "metadata": {
    "colab": {
     "base_uri": "https://localhost:8080/",
     "height": 108
    },
    "colab_type": "code",
    "id": "O4ahvXuvtBf7",
    "outputId": "57fb8fab-11a9-474e-b776-2e93dc19736a"
   },
   "outputs": [
    {
     "name": "stdout",
     "output_type": "stream",
     "text": [
      "contact_me: 0.4304\n",
      "contact_me*lead_time_1-30d: -0.3753\n",
      "contact_me*lead_time_31-60d: 0.0687\n",
      "contact_me*lead_time_61-90d: 0.2343\n",
      "contact_me*lead_time_>90d: 0.5028\n"
     ]
    }
   ],
   "source": [
    "print('contact_me: ' + str(res.Coef.loc['contact_me']))\n",
    "for i in list(lead_times):\n",
    "  print('contact_me*'+ i + \": \" + str(res.Coef.loc['contact_me*'+ i]))"
   ]
  },
  {
   "cell_type": "markdown",
   "metadata": {
    "colab_type": "text",
    "id": "BSk_fTiQWtLx"
   },
   "source": [
    "Inquiries that are replied in contact me channel are more likely to be accepted.\n",
    "\n",
    "Inquiries made within 30 days before checkin are more likely to be accepted in Book it channel\n",
    "\n",
    "Inquiries made more than 30 days before checkin are more likely to be accepted in Contact Me channel\n",
    "\n"
   ]
  },
  {
   "cell_type": "code",
   "execution_count": null,
   "metadata": {
    "colab": {
     "base_uri": "https://localhost:8080/",
     "height": 308
    },
    "colab_type": "code",
    "id": "wDUz0q76tCBX",
    "outputId": "c233469b-7f01-469c-f0e2-abeab40a01f8"
   },
   "outputs": [
    {
     "name": "stdout",
     "output_type": "stream",
     "text": [
      "lead_time_1-30d*message_length_0-150: 0.0042\n",
      "lead_time_1-30d*message_length_151-300: 0.0605\n",
      "lead_time_1-30d*message_length_301-450: 0.0176\n",
      "lead_time_1-30d*message_length_>450: 0.0192\n",
      "lead_time_31-60d*message_length_0-150: 0.0613\n",
      "lead_time_31-60d*message_length_151-300: 0.0487\n",
      "lead_time_31-60d*message_length_301-450: 0.0965\n",
      "lead_time_31-60d*message_length_>450: -0.0358\n",
      "lead_time_61-90d*message_length_0-150: -0.0662\n",
      "lead_time_61-90d*message_length_151-300: 0.0971\n",
      "lead_time_61-90d*message_length_301-450: 0.006\n",
      "lead_time_61-90d*message_length_>450: 0.0085\n",
      "lead_time_>90d*message_length_0-150: -0.0328\n",
      "lead_time_>90d*message_length_151-300: -0.1666\n",
      "lead_time_>90d*message_length_301-450: -0.0577\n",
      "lead_time_>90d*message_length_>450: -0.06\n"
     ]
    }
   ],
   "source": [
    "for i in list(lead_times):\n",
    "  for j in list(message_lengths):\n",
    "    print(i + \"*\" + j + \": \" + str(res.Coef.loc[i + \"*\" + j ]))"
   ]
  },
  {
   "cell_type": "markdown",
   "metadata": {
    "colab_type": "text",
    "id": "iXB0lFhqyDkC"
   },
   "source": [
    "When lead time between 31 - 60 days, sending long messages(> 450 char) drags down acceptance rate\n",
    "\n",
    "When lead time between 61 - 90 days, sending short messages(< 150 char) drags down acceptance rate"
   ]
  },
  {
   "cell_type": "code",
   "execution_count": null,
   "metadata": {
    "colab": {
     "base_uri": "https://localhost:8080/",
     "height": 290
    },
    "colab_type": "code",
    "id": "eznqHtPRx_i_",
    "outputId": "b9e2f699-205c-4396-a8eb-c0a7481eafa7"
   },
   "outputs": [
    {
     "name": "stdout",
     "output_type": "stream",
     "text": [
      "guest_size_1*rt_Entire_home/apt: -0.1985\n",
      "guest_size_1*rt_Private room: -0.1167\n",
      "guest_size_1*rt_Shared room: 0.4907\n",
      "guest_size_2*rt_Entire_home/apt: -0.0504\n",
      "guest_size_2*rt_Private room: 0.0454\n",
      "guest_size_2*rt_Shared room: 0.018\n",
      "guest_size_3-4*rt_Entire_home/apt: 0.1826\n",
      "guest_size_3-4*rt_Private room: 0.092\n",
      "guest_size_3-4*rt_Shared room: -0.3974\n",
      "guest_size_5-6*rt_Entire_home/apt: -0.0877\n",
      "guest_size_5-6*rt_Private room: 0.0457\n",
      "guest_size_5-6*rt_Shared room: 0.0285\n",
      "guest_size_>6*rt_Entire_home/apt: 0.1019\n",
      "guest_size_>6*rt_Private room: -0.0843\n",
      "guest_size_>6*rt_Shared room: -0.0692\n"
     ]
    }
   ],
   "source": [
    "for i in list(guest_sizes):\n",
    "  for j in list(room_types):\n",
    "    print(i + \"*\" + j + \": \" + str(res.Coef.loc[i + \"*\" + j ]))"
   ]
  },
  {
   "cell_type": "markdown",
   "metadata": {
    "colab_type": "text",
    "id": "h4OCEmoYyEmP"
   },
   "source": [
    "When guest size = 1, inquiries for a shared room are most likely to be accepted\n",
    "\n",
    "When guest size = 2, inquiries for a private room are most likely to be accepted\n",
    "\n",
    "When guest size between 3 - 4 or > 6, inquiries for an entire_home/apt are most likely to be accepted\n",
    "\n",
    "When guest size between 5 - 6, inquiries for an entire_home/apt are less likely to be accepted\n",
    "\n",
    "\n"
   ]
  },
  {
   "cell_type": "code",
   "execution_count": null,
   "metadata": {
    "colab": {
     "base_uri": "https://localhost:8080/",
     "height": 17
    },
    "colab_type": "code",
    "id": "ce7s8RLXBsaL",
    "outputId": "95cb7f4a-46d5-4f09-e113-49bf827e757c"
   },
   "outputs": [
    {
     "data": {
      "application/javascript": [
       "\n",
       "    async function download(id, filename, size) {\n",
       "      if (!google.colab.kernel.accessAllowed) {\n",
       "        return;\n",
       "      }\n",
       "      const div = document.createElement('div');\n",
       "      const label = document.createElement('label');\n",
       "      label.textContent = `Downloading \"${filename}\": `;\n",
       "      div.appendChild(label);\n",
       "      const progress = document.createElement('progress');\n",
       "      progress.max = size;\n",
       "      div.appendChild(progress);\n",
       "      document.body.appendChild(div);\n",
       "\n",
       "      const buffers = [];\n",
       "      let downloaded = 0;\n",
       "\n",
       "      const channel = await google.colab.kernel.comms.open(id);\n",
       "      // Send a message to notify the kernel that we're ready.\n",
       "      channel.send({})\n",
       "\n",
       "      for await (const message of channel.messages) {\n",
       "        // Send a message to notify the kernel that we're ready.\n",
       "        channel.send({})\n",
       "        if (message.buffers) {\n",
       "          for (const buffer of message.buffers) {\n",
       "            buffers.push(buffer);\n",
       "            downloaded += buffer.byteLength;\n",
       "            progress.value = downloaded;\n",
       "          }\n",
       "        }\n",
       "      }\n",
       "      const blob = new Blob(buffers, {type: 'application/binary'});\n",
       "      const a = document.createElement('a');\n",
       "      a.href = window.URL.createObjectURL(blob);\n",
       "      a.download = filename;\n",
       "      div.appendChild(a);\n",
       "      a.click();\n",
       "      div.remove();\n",
       "    }\n",
       "  "
      ],
      "text/plain": [
       "<IPython.core.display.Javascript object>"
      ]
     },
     "metadata": {
      "tags": []
     },
     "output_type": "display_data"
    },
    {
     "data": {
      "application/javascript": [
       "download(\"download_545ca6cb-7dee-4025-910c-f8a52a6e08cb\", \"mod2_res.csv\", 3550)"
      ],
      "text/plain": [
       "<IPython.core.display.Javascript object>"
      ]
     },
     "metadata": {
      "tags": []
     },
     "output_type": "display_data"
    }
   ],
   "source": [
    "from google.colab import files\n",
    "\n",
    "res.to_csv('mod2_res.csv')\n",
    "files.download('mod2_res.csv')"
   ]
  },
  {
   "cell_type": "markdown",
   "metadata": {
    "colab_type": "text",
    "id": "sImetvd5KvDA"
   },
   "source": [
    "# Accepted inquiries"
   ]
  },
  {
   "cell_type": "markdown",
   "metadata": {
    "colab_type": "text",
    "id": "ekHQq8O_KvDE"
   },
   "source": [
    "The goal in this section is to find **what drives guests' confirmation for booking** for accepted inquiries in Contact Me channel using ML models."
   ]
  },
  {
   "cell_type": "code",
   "execution_count": null,
   "metadata": {
    "colab": {
     "base_uri": "https://localhost:8080/",
     "height": 35
    },
    "colab_type": "code",
    "id": "LoKW_QioKvDE",
    "outputId": "22829667-7fc0-47d5-fc6c-ba3aa3116b62"
   },
   "outputs": [
    {
     "name": "stdout",
     "output_type": "stream",
     "text": [
      "[16.71503192]\n"
     ]
    }
   ],
   "source": [
    "# check the propotion of replied = 1\n",
    "y = accepted_inquiries_df['booked']\n",
    "print(y.sum() / y.shape * 100)"
   ]
  },
  {
   "cell_type": "markdown",
   "metadata": {
    "colab_type": "text",
    "id": "s97LlJDlKvDH"
   },
   "source": [
    "The number of inquiries that were confirmed(booked) by guests are less than those weren't"
   ]
  },
  {
   "cell_type": "markdown",
   "metadata": {
    "colab_type": "text",
    "id": "oAPsm1us_Sqg"
   },
   "source": [
    "## Results form previous models"
   ]
  },
  {
   "cell_type": "markdown",
   "metadata": {
    "colab_type": "text",
    "id": "dfHH3b4vKvEQ"
   },
   "source": [
    "* RF model results: **Interactions**, **message_length**, **accept_t**, **lead_time**, **reviews**, and **days_of_stay** are the most important features\n",
    "\n",
    "* Logistic regression model with numerical features: **Interactions**, **days_of_stay**, **lead_time**, **reviews**, **accept_t** and **user_stage** are important features \n",
    "\n",
    "* Logistic regression model fore binned numerical features:: **interactions**, **user_stage**, **message length**, **days_of_stay**, and **reviews** are the most important features\n",
    "\n",
    "\n",
    "\n",
    "Logistic regression model with numerical features has the best performance(AUC score: 0.90), but in order to see the interactions between features more clearly, I would still use logistic regression model with binned numerical features(AUC score: 0.86) as the final model"
   ]
  },
  {
   "cell_type": "markdown",
   "metadata": {
    "colab_type": "text",
    "id": "-H_RrXJvKvEQ"
   },
   "source": [
    "## Final model"
   ]
  },
  {
   "cell_type": "code",
   "execution_count": null,
   "metadata": {
    "colab": {
     "base_uri": "https://localhost:8080/",
     "height": 290
    },
    "colab_type": "code",
    "id": "CmHzou1zKvEQ",
    "outputId": "92181a13-0e96-4f1a-e021-204cf7ecca10"
   },
   "outputs": [
    {
     "name": "stdout",
     "output_type": "stream",
     "text": [
      "<class 'pandas.core.frame.DataFrame'>\n",
      "RangeIndex: 5169 entries, 0 to 5168\n",
      "Data columns (total 8 columns):\n",
      " #   Column              Non-Null Count  Dtype  \n",
      "---  ------              --------------  -----  \n",
      " 0   total_interactions  5169 non-null   int64  \n",
      " 1   total_reviews       5169 non-null   float64\n",
      " 2   lead_time           5169 non-null   int64  \n",
      " 3   days_of_stay        5169 non-null   int64  \n",
      " 4   accept_t            5169 non-null   float64\n",
      " 5   message_length      5169 non-null   float64\n",
      " 6   past_booker         5169 non-null   int64  \n",
      " 7   booked              5169 non-null   int64  \n",
      "dtypes: float64(3), int64(5)\n",
      "memory usage: 323.2 KB\n"
     ]
    }
   ],
   "source": [
    "# Check what features are included\n",
    "accepted_inquiries = accepted_inquiries_df.copy() \n",
    "accepted_inquiries = accepted_inquiries[['total_interactions', 'total_reviews', 'lead_time', 'days_of_stay', 'accept_t', 'message_length', 'past_booker', 'booked']]\n",
    "\n",
    "accepted_inquiries.info()"
   ]
  },
  {
   "cell_type": "markdown",
   "metadata": {
    "colab_type": "text",
    "id": "uuXWSQnpKvES"
   },
   "source": [
    "### Feature Preprocessing"
   ]
  },
  {
   "cell_type": "markdown",
   "metadata": {
    "colab_type": "text",
    "id": "o_IeZYiqKvET"
   },
   "source": [
    "#### Feature encoding"
   ]
  },
  {
   "cell_type": "code",
   "execution_count": null,
   "metadata": {
    "colab": {},
    "colab_type": "code",
    "id": "mDPNAz4DULkX"
   },
   "outputs": [],
   "source": [
    "# Binning interactions\n",
    "interaction = [0,10,20,30,1000]\n",
    "interaction_range = ['1-10','11-20','21-30','>30']\n",
    "interactions_bin = pd.cut(accepted_inquiries['total_interactions'], bins = interaction, labels= interaction_range)\n",
    "accepted_inquiries['interactions'] = interactions_bin\n",
    "\n",
    "# Binning reviews\n",
    "review = [-1,0,10,20,30,1000]\n",
    "review_range = ['0','1-10','11-20','21-30','>30']\n",
    "reviews_bin = pd.cut(accepted_inquiries['total_reviews'], bins = review, labels=review_range)\n",
    "accepted_inquiries['reviews'] = reviews_bin\n",
    "\n",
    "# Binning lead time\n",
    "lead = [-1,30,60,90,1000]\n",
    "lead_range = ['1-30d','31-60d','61-90d', '>90d']\n",
    "lead_bin = pd.cut(accepted_inquiries['lead_time'], bins = lead, labels=lead_range)\n",
    "accepted_inquiries['lead_time'] = lead_bin\n",
    "\n",
    "# Binning days_of_stay\n",
    "stay = [-1,5,10,15,1000]\n",
    "stay_range = ['1-5d','6-10d','11-15d','>15d']\n",
    "stay_bin = pd.cut(accepted_inquiries['days_of_stay'], bins = stay, labels=stay_range)\n",
    "accepted_inquiries['days_of_stay'] = stay_bin\n",
    "\n",
    "# Binning message_length\n",
    "length = [-1,150,300,450,3000]\n",
    "length_range = ['0-150','151-300','301-450','>450']\n",
    "length_bin = pd.cut(accepted_inquiries['message_length'], bins = length, labels=length_range)\n",
    "accepted_inquiries['message_length'] = length_bin\n"
   ]
  },
  {
   "cell_type": "code",
   "execution_count": null,
   "metadata": {
    "colab": {},
    "colab_type": "code",
    "id": "fravrP4aKvEU"
   },
   "outputs": [],
   "source": [
    "# generate binary values using get_dummies \n",
    "accepted_inquiries = pd.get_dummies(accepted_inquiries, columns=[\"interactions\", \"reviews\", \"lead_time\", \"days_of_stay\", \"message_length\"] )"
   ]
  },
  {
   "cell_type": "code",
   "execution_count": null,
   "metadata": {
    "colab": {},
    "colab_type": "code",
    "id": "Pi6Ht4UlKvEV"
   },
   "outputs": [],
   "source": [
    "# Drop columns not to be used\n",
    "accepted_inquiries = accepted_inquiries.drop(['total_interactions', 'total_reviews'], axis = 1)"
   ]
  },
  {
   "cell_type": "code",
   "execution_count": null,
   "metadata": {
    "colab": {
     "base_uri": "https://localhost:8080/",
     "height": 581
    },
    "colab_type": "code",
    "id": "vLMJuYQyKvEW",
    "outputId": "82e15d24-cc41-4373-af58-92d62fc25de1"
   },
   "outputs": [
    {
     "name": "stdout",
     "output_type": "stream",
     "text": [
      "<class 'pandas.core.frame.DataFrame'>\n",
      "RangeIndex: 5169 entries, 0 to 5168\n",
      "Data columns (total 24 columns):\n",
      " #   Column                  Non-Null Count  Dtype  \n",
      "---  ------                  --------------  -----  \n",
      " 0   accept_t                5169 non-null   float64\n",
      " 1   past_booker             5169 non-null   int64  \n",
      " 2   booked                  5169 non-null   int64  \n",
      " 3   interactions_1-10       5169 non-null   uint8  \n",
      " 4   interactions_11-20      5169 non-null   uint8  \n",
      " 5   interactions_21-30      5169 non-null   uint8  \n",
      " 6   interactions_>30        5169 non-null   uint8  \n",
      " 7   reviews_0               5169 non-null   uint8  \n",
      " 8   reviews_1-10            5169 non-null   uint8  \n",
      " 9   reviews_11-20           5169 non-null   uint8  \n",
      " 10  reviews_21-30           5169 non-null   uint8  \n",
      " 11  reviews_>30             5169 non-null   uint8  \n",
      " 12  lead_time_1-30d         5169 non-null   uint8  \n",
      " 13  lead_time_31-60d        5169 non-null   uint8  \n",
      " 14  lead_time_61-90d        5169 non-null   uint8  \n",
      " 15  lead_time_>90d          5169 non-null   uint8  \n",
      " 16  days_of_stay_1-5d       5169 non-null   uint8  \n",
      " 17  days_of_stay_6-10d      5169 non-null   uint8  \n",
      " 18  days_of_stay_11-15d     5169 non-null   uint8  \n",
      " 19  days_of_stay_>15d       5169 non-null   uint8  \n",
      " 20  message_length_0-150    5169 non-null   uint8  \n",
      " 21  message_length_151-300  5169 non-null   uint8  \n",
      " 22  message_length_301-450  5169 non-null   uint8  \n",
      " 23  message_length_>450     5169 non-null   uint8  \n",
      "dtypes: float64(1), int64(2), uint8(21)\n",
      "memory usage: 227.3 KB\n"
     ]
    }
   ],
   "source": [
    "accepted_inquiries.info()"
   ]
  },
  {
   "cell_type": "markdown",
   "metadata": {
    "colab_type": "text",
    "id": "qoTEilwdKvEX"
   },
   "source": [
    "#### Interaction features"
   ]
  },
  {
   "cell_type": "markdown",
   "metadata": {
    "colab_type": "text",
    "id": "ZaA1Ib51KvEX"
   },
   "source": [
    "Creat interaction features to discover combined effects of independent variables"
   ]
  },
  {
   "cell_type": "code",
   "execution_count": null,
   "metadata": {
    "colab": {},
    "colab_type": "code",
    "id": "Ragm-TEDKvEX"
   },
   "outputs": [],
   "source": [
    "# Interaction features\n",
    "\n",
    "interactions = accepted_inquiries.columns[3:7]\n",
    "reviews = accepted_inquiries.columns[7:12]\n",
    "lead_times = accepted_inquiries.columns[12:16]\n",
    "stays = accepted_inquiries.columns[16:20]\n",
    "message_lengths = accepted_inquiries.columns[20:24]\n",
    "\n",
    "\n",
    "# Lead_time * interaction \n",
    "for i in lead_times:\n",
    "  for j in interactions:\n",
    "    accepted_inquiries[i+'*'+j] = accepted_inquiries[i] * accepted_inquiries[j]\n",
    "\n",
    "# Message_length * interaction \n",
    "for i in message_lengths:\n",
    "  for j in interactions:\n",
    "    accepted_inquiries[i+'*'+j] = accepted_inquiries[i] * accepted_inquiries[j]\n",
    "\n",
    "# Lead_time * message_length\n",
    "for i in lead_times:\n",
    "  for j in message_lengths:\n",
    "    accepted_inquiries[i+'*'+j] = accepted_inquiries[i] * accepted_inquiries[j]\n"
   ]
  },
  {
   "cell_type": "code",
   "execution_count": null,
   "metadata": {
    "colab": {
     "base_uri": "https://localhost:8080/",
     "height": 1000
    },
    "colab_type": "code",
    "id": "yUlpyhTiKvEY",
    "outputId": "1f159149-9797-4666-c4f2-4fa9881e3608"
   },
   "outputs": [
    {
     "name": "stdout",
     "output_type": "stream",
     "text": [
      "<class 'pandas.core.frame.DataFrame'>\n",
      "RangeIndex: 5169 entries, 0 to 5168\n",
      "Data columns (total 72 columns):\n",
      " #   Column                                     Non-Null Count  Dtype  \n",
      "---  ------                                     --------------  -----  \n",
      " 0   accept_t                                   5169 non-null   float64\n",
      " 1   past_booker                                5169 non-null   int64  \n",
      " 2   booked                                     5169 non-null   int64  \n",
      " 3   interactions_1-10                          5169 non-null   uint8  \n",
      " 4   interactions_11-20                         5169 non-null   uint8  \n",
      " 5   interactions_21-30                         5169 non-null   uint8  \n",
      " 6   interactions_>30                           5169 non-null   uint8  \n",
      " 7   reviews_0                                  5169 non-null   uint8  \n",
      " 8   reviews_1-10                               5169 non-null   uint8  \n",
      " 9   reviews_11-20                              5169 non-null   uint8  \n",
      " 10  reviews_21-30                              5169 non-null   uint8  \n",
      " 11  reviews_>30                                5169 non-null   uint8  \n",
      " 12  lead_time_1-30d                            5169 non-null   uint8  \n",
      " 13  lead_time_31-60d                           5169 non-null   uint8  \n",
      " 14  lead_time_61-90d                           5169 non-null   uint8  \n",
      " 15  lead_time_>90d                             5169 non-null   uint8  \n",
      " 16  days_of_stay_1-5d                          5169 non-null   uint8  \n",
      " 17  days_of_stay_6-10d                         5169 non-null   uint8  \n",
      " 18  days_of_stay_11-15d                        5169 non-null   uint8  \n",
      " 19  days_of_stay_>15d                          5169 non-null   uint8  \n",
      " 20  message_length_0-150                       5169 non-null   uint8  \n",
      " 21  message_length_151-300                     5169 non-null   uint8  \n",
      " 22  message_length_301-450                     5169 non-null   uint8  \n",
      " 23  message_length_>450                        5169 non-null   uint8  \n",
      " 24  lead_time_1-30d*interactions_1-10          5169 non-null   uint8  \n",
      " 25  lead_time_1-30d*interactions_11-20         5169 non-null   uint8  \n",
      " 26  lead_time_1-30d*interactions_21-30         5169 non-null   uint8  \n",
      " 27  lead_time_1-30d*interactions_>30           5169 non-null   uint8  \n",
      " 28  lead_time_31-60d*interactions_1-10         5169 non-null   uint8  \n",
      " 29  lead_time_31-60d*interactions_11-20        5169 non-null   uint8  \n",
      " 30  lead_time_31-60d*interactions_21-30        5169 non-null   uint8  \n",
      " 31  lead_time_31-60d*interactions_>30          5169 non-null   uint8  \n",
      " 32  lead_time_61-90d*interactions_1-10         5169 non-null   uint8  \n",
      " 33  lead_time_61-90d*interactions_11-20        5169 non-null   uint8  \n",
      " 34  lead_time_61-90d*interactions_21-30        5169 non-null   uint8  \n",
      " 35  lead_time_61-90d*interactions_>30          5169 non-null   uint8  \n",
      " 36  lead_time_>90d*interactions_1-10           5169 non-null   uint8  \n",
      " 37  lead_time_>90d*interactions_11-20          5169 non-null   uint8  \n",
      " 38  lead_time_>90d*interactions_21-30          5169 non-null   uint8  \n",
      " 39  lead_time_>90d*interactions_>30            5169 non-null   uint8  \n",
      " 40  message_length_0-150*interactions_1-10     5169 non-null   uint8  \n",
      " 41  message_length_0-150*interactions_11-20    5169 non-null   uint8  \n",
      " 42  message_length_0-150*interactions_21-30    5169 non-null   uint8  \n",
      " 43  message_length_0-150*interactions_>30      5169 non-null   uint8  \n",
      " 44  message_length_151-300*interactions_1-10   5169 non-null   uint8  \n",
      " 45  message_length_151-300*interactions_11-20  5169 non-null   uint8  \n",
      " 46  message_length_151-300*interactions_21-30  5169 non-null   uint8  \n",
      " 47  message_length_151-300*interactions_>30    5169 non-null   uint8  \n",
      " 48  message_length_301-450*interactions_1-10   5169 non-null   uint8  \n",
      " 49  message_length_301-450*interactions_11-20  5169 non-null   uint8  \n",
      " 50  message_length_301-450*interactions_21-30  5169 non-null   uint8  \n",
      " 51  message_length_301-450*interactions_>30    5169 non-null   uint8  \n",
      " 52  message_length_>450*interactions_1-10      5169 non-null   uint8  \n",
      " 53  message_length_>450*interactions_11-20     5169 non-null   uint8  \n",
      " 54  message_length_>450*interactions_21-30     5169 non-null   uint8  \n",
      " 55  message_length_>450*interactions_>30       5169 non-null   uint8  \n",
      " 56  lead_time_1-30d*message_length_0-150       5169 non-null   uint8  \n",
      " 57  lead_time_1-30d*message_length_151-300     5169 non-null   uint8  \n",
      " 58  lead_time_1-30d*message_length_301-450     5169 non-null   uint8  \n",
      " 59  lead_time_1-30d*message_length_>450        5169 non-null   uint8  \n",
      " 60  lead_time_31-60d*message_length_0-150      5169 non-null   uint8  \n",
      " 61  lead_time_31-60d*message_length_151-300    5169 non-null   uint8  \n",
      " 62  lead_time_31-60d*message_length_301-450    5169 non-null   uint8  \n",
      " 63  lead_time_31-60d*message_length_>450       5169 non-null   uint8  \n",
      " 64  lead_time_61-90d*message_length_0-150      5169 non-null   uint8  \n",
      " 65  lead_time_61-90d*message_length_151-300    5169 non-null   uint8  \n",
      " 66  lead_time_61-90d*message_length_301-450    5169 non-null   uint8  \n",
      " 67  lead_time_61-90d*message_length_>450       5169 non-null   uint8  \n",
      " 68  lead_time_>90d*message_length_0-150        5169 non-null   uint8  \n",
      " 69  lead_time_>90d*message_length_151-300      5169 non-null   uint8  \n",
      " 70  lead_time_>90d*message_length_301-450      5169 non-null   uint8  \n",
      " 71  lead_time_>90d*message_length_>450         5169 non-null   uint8  \n",
      "dtypes: float64(1), int64(2), uint8(69)\n",
      "memory usage: 469.6 KB\n"
     ]
    }
   ],
   "source": [
    "accepted_inquiries.info()"
   ]
  },
  {
   "cell_type": "markdown",
   "metadata": {
    "colab_type": "text",
    "id": "-MpRWzGlKvEa"
   },
   "source": [
    "#### Feature scaling"
   ]
  },
  {
   "cell_type": "code",
   "execution_count": null,
   "metadata": {
    "colab": {},
    "colab_type": "code",
    "id": "nPeKfs7dVZ4x"
   },
   "outputs": [],
   "source": [
    "# Scale accept_t (MinMax scaling)\n",
    "sc_scale = preprocessing.MinMaxScaler().fit(accepted_inquiries[['accept_t']])\n",
    "accepted_inquiries[['accept_t']] = sc_scale.transform(accepted_inquiries[['accept_t']])\n"
   ]
  },
  {
   "cell_type": "markdown",
   "metadata": {
    "colab_type": "text",
    "id": "_DrMU83fKvEb"
   },
   "source": [
    "#### Split training and test data"
   ]
  },
  {
   "cell_type": "code",
   "execution_count": null,
   "metadata": {
    "colab": {},
    "colab_type": "code",
    "id": "GYZNpLyI3yR8"
   },
   "outputs": [],
   "source": [
    "from sklearn.model_selection import train_test_split\n",
    "\n",
    "X = accepted_inquiries.drop(['booked'], axis = 1)\n",
    "y = accepted_inquiries['booked']\n",
    "\n",
    "model_train_x, model_test_x, model_train_y, model_test_y = train_test_split(X, y, stratify=y, test_size=0.15, random_state = 3) "
   ]
  },
  {
   "cell_type": "markdown",
   "metadata": {
    "colab_type": "text",
    "id": "v-zZ3HQAG0QA"
   },
   "source": [
    "### Train model and find optimal hypermarameters"
   ]
  },
  {
   "cell_type": "code",
   "execution_count": null,
   "metadata": {
    "colab": {
     "base_uri": "https://localhost:8080/",
     "height": 1000
    },
    "colab_type": "code",
    "id": "E7GDxqflG0QB",
    "outputId": "f720f54e-2441-4e8b-c8d3-c5d2ad9b80e9",
    "scrolled": true
   },
   "outputs": [
    {
     "name": "stderr",
     "output_type": "stream",
     "text": [
      "/usr/local/lib/python3.6/dist-packages/sklearn/linear_model/_logistic.py:940: ConvergenceWarning: lbfgs failed to converge (status=1):\n",
      "STOP: TOTAL NO. of ITERATIONS REACHED LIMIT.\n",
      "\n",
      "Increase the number of iterations (max_iter) or scale the data as shown in:\n",
      "    https://scikit-learn.org/stable/modules/preprocessing.html\n",
      "Please also refer to the documentation for alternative solver options:\n",
      "    https://scikit-learn.org/stable/modules/linear_model.html#logistic-regression\n",
      "  extra_warning_msg=_LOGISTIC_SOLVER_CONVERGENCE_MSG)\n",
      "/usr/local/lib/python3.6/dist-packages/sklearn/linear_model/_logistic.py:940: ConvergenceWarning: lbfgs failed to converge (status=1):\n",
      "STOP: TOTAL NO. of ITERATIONS REACHED LIMIT.\n",
      "\n",
      "Increase the number of iterations (max_iter) or scale the data as shown in:\n",
      "    https://scikit-learn.org/stable/modules/preprocessing.html\n",
      "Please also refer to the documentation for alternative solver options:\n",
      "    https://scikit-learn.org/stable/modules/linear_model.html#logistic-regression\n",
      "  extra_warning_msg=_LOGISTIC_SOLVER_CONVERGENCE_MSG)\n",
      "/usr/local/lib/python3.6/dist-packages/sklearn/linear_model/_logistic.py:940: ConvergenceWarning: lbfgs failed to converge (status=1):\n",
      "STOP: TOTAL NO. of ITERATIONS REACHED LIMIT.\n",
      "\n",
      "Increase the number of iterations (max_iter) or scale the data as shown in:\n",
      "    https://scikit-learn.org/stable/modules/preprocessing.html\n",
      "Please also refer to the documentation for alternative solver options:\n",
      "    https://scikit-learn.org/stable/modules/linear_model.html#logistic-regression\n",
      "  extra_warning_msg=_LOGISTIC_SOLVER_CONVERGENCE_MSG)\n",
      "/usr/local/lib/python3.6/dist-packages/sklearn/linear_model/_logistic.py:940: ConvergenceWarning: lbfgs failed to converge (status=1):\n",
      "STOP: TOTAL NO. of ITERATIONS REACHED LIMIT.\n",
      "\n",
      "Increase the number of iterations (max_iter) or scale the data as shown in:\n",
      "    https://scikit-learn.org/stable/modules/preprocessing.html\n",
      "Please also refer to the documentation for alternative solver options:\n",
      "    https://scikit-learn.org/stable/modules/linear_model.html#logistic-regression\n",
      "  extra_warning_msg=_LOGISTIC_SOLVER_CONVERGENCE_MSG)\n",
      "/usr/local/lib/python3.6/dist-packages/sklearn/linear_model/_logistic.py:940: ConvergenceWarning: lbfgs failed to converge (status=1):\n",
      "STOP: TOTAL NO. of ITERATIONS REACHED LIMIT.\n",
      "\n",
      "Increase the number of iterations (max_iter) or scale the data as shown in:\n",
      "    https://scikit-learn.org/stable/modules/preprocessing.html\n",
      "Please also refer to the documentation for alternative solver options:\n",
      "    https://scikit-learn.org/stable/modules/linear_model.html#logistic-regression\n",
      "  extra_warning_msg=_LOGISTIC_SOLVER_CONVERGENCE_MSG)\n",
      "/usr/local/lib/python3.6/dist-packages/sklearn/linear_model/_logistic.py:940: ConvergenceWarning: lbfgs failed to converge (status=1):\n",
      "STOP: TOTAL NO. of ITERATIONS REACHED LIMIT.\n",
      "\n",
      "Increase the number of iterations (max_iter) or scale the data as shown in:\n",
      "    https://scikit-learn.org/stable/modules/preprocessing.html\n",
      "Please also refer to the documentation for alternative solver options:\n",
      "    https://scikit-learn.org/stable/modules/linear_model.html#logistic-regression\n",
      "  extra_warning_msg=_LOGISTIC_SOLVER_CONVERGENCE_MSG)\n",
      "/usr/local/lib/python3.6/dist-packages/sklearn/linear_model/_logistic.py:940: ConvergenceWarning: lbfgs failed to converge (status=1):\n",
      "STOP: TOTAL NO. of ITERATIONS REACHED LIMIT.\n",
      "\n",
      "Increase the number of iterations (max_iter) or scale the data as shown in:\n",
      "    https://scikit-learn.org/stable/modules/preprocessing.html\n",
      "Please also refer to the documentation for alternative solver options:\n",
      "    https://scikit-learn.org/stable/modules/linear_model.html#logistic-regression\n",
      "  extra_warning_msg=_LOGISTIC_SOLVER_CONVERGENCE_MSG)\n",
      "/usr/local/lib/python3.6/dist-packages/sklearn/linear_model/_logistic.py:940: ConvergenceWarning: lbfgs failed to converge (status=1):\n",
      "STOP: TOTAL NO. of ITERATIONS REACHED LIMIT.\n",
      "\n",
      "Increase the number of iterations (max_iter) or scale the data as shown in:\n",
      "    https://scikit-learn.org/stable/modules/preprocessing.html\n",
      "Please also refer to the documentation for alternative solver options:\n",
      "    https://scikit-learn.org/stable/modules/linear_model.html#logistic-regression\n",
      "  extra_warning_msg=_LOGISTIC_SOLVER_CONVERGENCE_MSG)\n",
      "/usr/local/lib/python3.6/dist-packages/sklearn/linear_model/_logistic.py:940: ConvergenceWarning: lbfgs failed to converge (status=1):\n",
      "STOP: TOTAL NO. of ITERATIONS REACHED LIMIT.\n",
      "\n",
      "Increase the number of iterations (max_iter) or scale the data as shown in:\n",
      "    https://scikit-learn.org/stable/modules/preprocessing.html\n",
      "Please also refer to the documentation for alternative solver options:\n",
      "    https://scikit-learn.org/stable/modules/linear_model.html#logistic-regression\n",
      "  extra_warning_msg=_LOGISTIC_SOLVER_CONVERGENCE_MSG)\n",
      "/usr/local/lib/python3.6/dist-packages/sklearn/linear_model/_logistic.py:940: ConvergenceWarning: lbfgs failed to converge (status=1):\n",
      "STOP: TOTAL NO. of ITERATIONS REACHED LIMIT.\n",
      "\n",
      "Increase the number of iterations (max_iter) or scale the data as shown in:\n",
      "    https://scikit-learn.org/stable/modules/preprocessing.html\n",
      "Please also refer to the documentation for alternative solver options:\n",
      "    https://scikit-learn.org/stable/modules/linear_model.html#logistic-regression\n",
      "  extra_warning_msg=_LOGISTIC_SOLVER_CONVERGENCE_MSG)\n",
      "/usr/local/lib/python3.6/dist-packages/sklearn/linear_model/_logistic.py:940: ConvergenceWarning: lbfgs failed to converge (status=1):\n",
      "STOP: TOTAL NO. of ITERATIONS REACHED LIMIT.\n",
      "\n",
      "Increase the number of iterations (max_iter) or scale the data as shown in:\n",
      "    https://scikit-learn.org/stable/modules/preprocessing.html\n",
      "Please also refer to the documentation for alternative solver options:\n",
      "    https://scikit-learn.org/stable/modules/linear_model.html#logistic-regression\n",
      "  extra_warning_msg=_LOGISTIC_SOLVER_CONVERGENCE_MSG)\n",
      "/usr/local/lib/python3.6/dist-packages/sklearn/linear_model/_logistic.py:940: ConvergenceWarning: lbfgs failed to converge (status=1):\n",
      "STOP: TOTAL NO. of ITERATIONS REACHED LIMIT.\n",
      "\n",
      "Increase the number of iterations (max_iter) or scale the data as shown in:\n",
      "    https://scikit-learn.org/stable/modules/preprocessing.html\n",
      "Please also refer to the documentation for alternative solver options:\n",
      "    https://scikit-learn.org/stable/modules/linear_model.html#logistic-regression\n",
      "  extra_warning_msg=_LOGISTIC_SOLVER_CONVERGENCE_MSG)\n",
      "/usr/local/lib/python3.6/dist-packages/sklearn/linear_model/_logistic.py:940: ConvergenceWarning: lbfgs failed to converge (status=1):\n",
      "STOP: TOTAL NO. of ITERATIONS REACHED LIMIT.\n",
      "\n",
      "Increase the number of iterations (max_iter) or scale the data as shown in:\n",
      "    https://scikit-learn.org/stable/modules/preprocessing.html\n",
      "Please also refer to the documentation for alternative solver options:\n",
      "    https://scikit-learn.org/stable/modules/linear_model.html#logistic-regression\n",
      "  extra_warning_msg=_LOGISTIC_SOLVER_CONVERGENCE_MSG)\n",
      "/usr/local/lib/python3.6/dist-packages/sklearn/linear_model/_logistic.py:940: ConvergenceWarning: lbfgs failed to converge (status=1):\n",
      "STOP: TOTAL NO. of ITERATIONS REACHED LIMIT.\n",
      "\n",
      "Increase the number of iterations (max_iter) or scale the data as shown in:\n",
      "    https://scikit-learn.org/stable/modules/preprocessing.html\n",
      "Please also refer to the documentation for alternative solver options:\n",
      "    https://scikit-learn.org/stable/modules/linear_model.html#logistic-regression\n",
      "  extra_warning_msg=_LOGISTIC_SOLVER_CONVERGENCE_MSG)\n",
      "/usr/local/lib/python3.6/dist-packages/sklearn/linear_model/_logistic.py:940: ConvergenceWarning: lbfgs failed to converge (status=1):\n",
      "STOP: TOTAL NO. of ITERATIONS REACHED LIMIT.\n",
      "\n",
      "Increase the number of iterations (max_iter) or scale the data as shown in:\n",
      "    https://scikit-learn.org/stable/modules/preprocessing.html\n",
      "Please also refer to the documentation for alternative solver options:\n",
      "    https://scikit-learn.org/stable/modules/linear_model.html#logistic-regression\n",
      "  extra_warning_msg=_LOGISTIC_SOLVER_CONVERGENCE_MSG)\n",
      "/usr/local/lib/python3.6/dist-packages/sklearn/linear_model/_logistic.py:940: ConvergenceWarning: lbfgs failed to converge (status=1):\n",
      "STOP: TOTAL NO. of ITERATIONS REACHED LIMIT.\n",
      "\n",
      "Increase the number of iterations (max_iter) or scale the data as shown in:\n",
      "    https://scikit-learn.org/stable/modules/preprocessing.html\n",
      "Please also refer to the documentation for alternative solver options:\n",
      "    https://scikit-learn.org/stable/modules/linear_model.html#logistic-regression\n",
      "  extra_warning_msg=_LOGISTIC_SOLVER_CONVERGENCE_MSG)\n",
      "/usr/local/lib/python3.6/dist-packages/sklearn/linear_model/_logistic.py:940: ConvergenceWarning: lbfgs failed to converge (status=1):\n",
      "STOP: TOTAL NO. of ITERATIONS REACHED LIMIT.\n",
      "\n",
      "Increase the number of iterations (max_iter) or scale the data as shown in:\n",
      "    https://scikit-learn.org/stable/modules/preprocessing.html\n",
      "Please also refer to the documentation for alternative solver options:\n",
      "    https://scikit-learn.org/stable/modules/linear_model.html#logistic-regression\n",
      "  extra_warning_msg=_LOGISTIC_SOLVER_CONVERGENCE_MSG)\n",
      "/usr/local/lib/python3.6/dist-packages/sklearn/linear_model/_logistic.py:940: ConvergenceWarning: lbfgs failed to converge (status=1):\n",
      "STOP: TOTAL NO. of ITERATIONS REACHED LIMIT.\n",
      "\n",
      "Increase the number of iterations (max_iter) or scale the data as shown in:\n",
      "    https://scikit-learn.org/stable/modules/preprocessing.html\n",
      "Please also refer to the documentation for alternative solver options:\n",
      "    https://scikit-learn.org/stable/modules/linear_model.html#logistic-regression\n",
      "  extra_warning_msg=_LOGISTIC_SOLVER_CONVERGENCE_MSG)\n",
      "/usr/local/lib/python3.6/dist-packages/sklearn/linear_model/_logistic.py:940: ConvergenceWarning: lbfgs failed to converge (status=1):\n",
      "STOP: TOTAL NO. of ITERATIONS REACHED LIMIT.\n",
      "\n",
      "Increase the number of iterations (max_iter) or scale the data as shown in:\n",
      "    https://scikit-learn.org/stable/modules/preprocessing.html\n",
      "Please also refer to the documentation for alternative solver options:\n",
      "    https://scikit-learn.org/stable/modules/linear_model.html#logistic-regression\n",
      "  extra_warning_msg=_LOGISTIC_SOLVER_CONVERGENCE_MSG)\n",
      "/usr/local/lib/python3.6/dist-packages/sklearn/linear_model/_logistic.py:940: ConvergenceWarning: lbfgs failed to converge (status=1):\n",
      "STOP: TOTAL NO. of ITERATIONS REACHED LIMIT.\n",
      "\n",
      "Increase the number of iterations (max_iter) or scale the data as shown in:\n",
      "    https://scikit-learn.org/stable/modules/preprocessing.html\n",
      "Please also refer to the documentation for alternative solver options:\n",
      "    https://scikit-learn.org/stable/modules/linear_model.html#logistic-regression\n",
      "  extra_warning_msg=_LOGISTIC_SOLVER_CONVERGENCE_MSG)\n",
      "/usr/local/lib/python3.6/dist-packages/sklearn/linear_model/_logistic.py:940: ConvergenceWarning: lbfgs failed to converge (status=1):\n",
      "STOP: TOTAL NO. of ITERATIONS REACHED LIMIT.\n",
      "\n",
      "Increase the number of iterations (max_iter) or scale the data as shown in:\n",
      "    https://scikit-learn.org/stable/modules/preprocessing.html\n",
      "Please also refer to the documentation for alternative solver options:\n",
      "    https://scikit-learn.org/stable/modules/linear_model.html#logistic-regression\n",
      "  extra_warning_msg=_LOGISTIC_SOLVER_CONVERGENCE_MSG)\n",
      "/usr/local/lib/python3.6/dist-packages/sklearn/linear_model/_logistic.py:940: ConvergenceWarning: lbfgs failed to converge (status=1):\n",
      "STOP: TOTAL NO. of ITERATIONS REACHED LIMIT.\n",
      "\n",
      "Increase the number of iterations (max_iter) or scale the data as shown in:\n",
      "    https://scikit-learn.org/stable/modules/preprocessing.html\n",
      "Please also refer to the documentation for alternative solver options:\n",
      "    https://scikit-learn.org/stable/modules/linear_model.html#logistic-regression\n",
      "  extra_warning_msg=_LOGISTIC_SOLVER_CONVERGENCE_MSG)\n",
      "/usr/local/lib/python3.6/dist-packages/sklearn/linear_model/_logistic.py:940: ConvergenceWarning: lbfgs failed to converge (status=1):\n",
      "STOP: TOTAL NO. of ITERATIONS REACHED LIMIT.\n",
      "\n",
      "Increase the number of iterations (max_iter) or scale the data as shown in:\n",
      "    https://scikit-learn.org/stable/modules/preprocessing.html\n",
      "Please also refer to the documentation for alternative solver options:\n",
      "    https://scikit-learn.org/stable/modules/linear_model.html#logistic-regression\n",
      "  extra_warning_msg=_LOGISTIC_SOLVER_CONVERGENCE_MSG)\n",
      "/usr/local/lib/python3.6/dist-packages/sklearn/linear_model/_logistic.py:940: ConvergenceWarning: lbfgs failed to converge (status=1):\n",
      "STOP: TOTAL NO. of ITERATIONS REACHED LIMIT.\n",
      "\n",
      "Increase the number of iterations (max_iter) or scale the data as shown in:\n",
      "    https://scikit-learn.org/stable/modules/preprocessing.html\n",
      "Please also refer to the documentation for alternative solver options:\n",
      "    https://scikit-learn.org/stable/modules/linear_model.html#logistic-regression\n",
      "  extra_warning_msg=_LOGISTIC_SOLVER_CONVERGENCE_MSG)\n",
      "/usr/local/lib/python3.6/dist-packages/sklearn/linear_model/_logistic.py:940: ConvergenceWarning: lbfgs failed to converge (status=1):\n",
      "STOP: TOTAL NO. of ITERATIONS REACHED LIMIT.\n",
      "\n",
      "Increase the number of iterations (max_iter) or scale the data as shown in:\n",
      "    https://scikit-learn.org/stable/modules/preprocessing.html\n",
      "Please also refer to the documentation for alternative solver options:\n",
      "    https://scikit-learn.org/stable/modules/linear_model.html#logistic-regression\n",
      "  extra_warning_msg=_LOGISTIC_SOLVER_CONVERGENCE_MSG)\n",
      "/usr/local/lib/python3.6/dist-packages/sklearn/linear_model/_logistic.py:940: ConvergenceWarning: lbfgs failed to converge (status=1):\n",
      "STOP: TOTAL NO. of ITERATIONS REACHED LIMIT.\n",
      "\n",
      "Increase the number of iterations (max_iter) or scale the data as shown in:\n",
      "    https://scikit-learn.org/stable/modules/preprocessing.html\n",
      "Please also refer to the documentation for alternative solver options:\n",
      "    https://scikit-learn.org/stable/modules/linear_model.html#logistic-regression\n",
      "  extra_warning_msg=_LOGISTIC_SOLVER_CONVERGENCE_MSG)\n",
      "/usr/local/lib/python3.6/dist-packages/sklearn/linear_model/_logistic.py:940: ConvergenceWarning: lbfgs failed to converge (status=1):\n",
      "STOP: TOTAL NO. of ITERATIONS REACHED LIMIT.\n",
      "\n",
      "Increase the number of iterations (max_iter) or scale the data as shown in:\n",
      "    https://scikit-learn.org/stable/modules/preprocessing.html\n",
      "Please also refer to the documentation for alternative solver options:\n",
      "    https://scikit-learn.org/stable/modules/linear_model.html#logistic-regression\n",
      "  extra_warning_msg=_LOGISTIC_SOLVER_CONVERGENCE_MSG)\n",
      "/usr/local/lib/python3.6/dist-packages/sklearn/linear_model/_logistic.py:940: ConvergenceWarning: lbfgs failed to converge (status=1):\n",
      "STOP: TOTAL NO. of ITERATIONS REACHED LIMIT.\n",
      "\n",
      "Increase the number of iterations (max_iter) or scale the data as shown in:\n",
      "    https://scikit-learn.org/stable/modules/preprocessing.html\n",
      "Please also refer to the documentation for alternative solver options:\n",
      "    https://scikit-learn.org/stable/modules/linear_model.html#logistic-regression\n",
      "  extra_warning_msg=_LOGISTIC_SOLVER_CONVERGENCE_MSG)\n",
      "/usr/local/lib/python3.6/dist-packages/sklearn/linear_model/_logistic.py:940: ConvergenceWarning: lbfgs failed to converge (status=1):\n",
      "STOP: TOTAL NO. of ITERATIONS REACHED LIMIT.\n",
      "\n",
      "Increase the number of iterations (max_iter) or scale the data as shown in:\n",
      "    https://scikit-learn.org/stable/modules/preprocessing.html\n",
      "Please also refer to the documentation for alternative solver options:\n",
      "    https://scikit-learn.org/stable/modules/linear_model.html#logistic-regression\n",
      "  extra_warning_msg=_LOGISTIC_SOLVER_CONVERGENCE_MSG)\n",
      "/usr/local/lib/python3.6/dist-packages/sklearn/linear_model/_logistic.py:940: ConvergenceWarning: lbfgs failed to converge (status=1):\n",
      "STOP: TOTAL NO. of ITERATIONS REACHED LIMIT.\n",
      "\n",
      "Increase the number of iterations (max_iter) or scale the data as shown in:\n",
      "    https://scikit-learn.org/stable/modules/preprocessing.html\n",
      "Please also refer to the documentation for alternative solver options:\n",
      "    https://scikit-learn.org/stable/modules/linear_model.html#logistic-regression\n",
      "  extra_warning_msg=_LOGISTIC_SOLVER_CONVERGENCE_MSG)\n",
      "/usr/local/lib/python3.6/dist-packages/sklearn/linear_model/_logistic.py:940: ConvergenceWarning: lbfgs failed to converge (status=1):\n",
      "STOP: TOTAL NO. of ITERATIONS REACHED LIMIT.\n",
      "\n",
      "Increase the number of iterations (max_iter) or scale the data as shown in:\n",
      "    https://scikit-learn.org/stable/modules/preprocessing.html\n",
      "Please also refer to the documentation for alternative solver options:\n",
      "    https://scikit-learn.org/stable/modules/linear_model.html#logistic-regression\n",
      "  extra_warning_msg=_LOGISTIC_SOLVER_CONVERGENCE_MSG)\n",
      "/usr/local/lib/python3.6/dist-packages/sklearn/linear_model/_logistic.py:940: ConvergenceWarning: lbfgs failed to converge (status=1):\n",
      "STOP: TOTAL NO. of ITERATIONS REACHED LIMIT.\n",
      "\n",
      "Increase the number of iterations (max_iter) or scale the data as shown in:\n",
      "    https://scikit-learn.org/stable/modules/preprocessing.html\n",
      "Please also refer to the documentation for alternative solver options:\n",
      "    https://scikit-learn.org/stable/modules/linear_model.html#logistic-regression\n",
      "  extra_warning_msg=_LOGISTIC_SOLVER_CONVERGENCE_MSG)\n",
      "/usr/local/lib/python3.6/dist-packages/sklearn/linear_model/_logistic.py:940: ConvergenceWarning: lbfgs failed to converge (status=1):\n",
      "STOP: TOTAL NO. of ITERATIONS REACHED LIMIT.\n",
      "\n",
      "Increase the number of iterations (max_iter) or scale the data as shown in:\n",
      "    https://scikit-learn.org/stable/modules/preprocessing.html\n",
      "Please also refer to the documentation for alternative solver options:\n",
      "    https://scikit-learn.org/stable/modules/linear_model.html#logistic-regression\n",
      "  extra_warning_msg=_LOGISTIC_SOLVER_CONVERGENCE_MSG)\n",
      "/usr/local/lib/python3.6/dist-packages/sklearn/linear_model/_logistic.py:940: ConvergenceWarning: lbfgs failed to converge (status=1):\n",
      "STOP: TOTAL NO. of ITERATIONS REACHED LIMIT.\n",
      "\n",
      "Increase the number of iterations (max_iter) or scale the data as shown in:\n",
      "    https://scikit-learn.org/stable/modules/preprocessing.html\n",
      "Please also refer to the documentation for alternative solver options:\n",
      "    https://scikit-learn.org/stable/modules/linear_model.html#logistic-regression\n",
      "  extra_warning_msg=_LOGISTIC_SOLVER_CONVERGENCE_MSG)\n",
      "/usr/local/lib/python3.6/dist-packages/sklearn/linear_model/_logistic.py:940: ConvergenceWarning: lbfgs failed to converge (status=1):\n",
      "STOP: TOTAL NO. of ITERATIONS REACHED LIMIT.\n",
      "\n",
      "Increase the number of iterations (max_iter) or scale the data as shown in:\n",
      "    https://scikit-learn.org/stable/modules/preprocessing.html\n",
      "Please also refer to the documentation for alternative solver options:\n",
      "    https://scikit-learn.org/stable/modules/linear_model.html#logistic-regression\n",
      "  extra_warning_msg=_LOGISTIC_SOLVER_CONVERGENCE_MSG)\n",
      "/usr/local/lib/python3.6/dist-packages/sklearn/linear_model/_logistic.py:940: ConvergenceWarning: lbfgs failed to converge (status=1):\n",
      "STOP: TOTAL NO. of ITERATIONS REACHED LIMIT.\n",
      "\n",
      "Increase the number of iterations (max_iter) or scale the data as shown in:\n",
      "    https://scikit-learn.org/stable/modules/preprocessing.html\n",
      "Please also refer to the documentation for alternative solver options:\n",
      "    https://scikit-learn.org/stable/modules/linear_model.html#logistic-regression\n",
      "  extra_warning_msg=_LOGISTIC_SOLVER_CONVERGENCE_MSG)\n",
      "/usr/local/lib/python3.6/dist-packages/sklearn/linear_model/_logistic.py:940: ConvergenceWarning: lbfgs failed to converge (status=1):\n",
      "STOP: TOTAL NO. of ITERATIONS REACHED LIMIT.\n",
      "\n",
      "Increase the number of iterations (max_iter) or scale the data as shown in:\n",
      "    https://scikit-learn.org/stable/modules/preprocessing.html\n",
      "Please also refer to the documentation for alternative solver options:\n",
      "    https://scikit-learn.org/stable/modules/linear_model.html#logistic-regression\n",
      "  extra_warning_msg=_LOGISTIC_SOLVER_CONVERGENCE_MSG)\n",
      "/usr/local/lib/python3.6/dist-packages/sklearn/linear_model/_logistic.py:940: ConvergenceWarning: lbfgs failed to converge (status=1):\n",
      "STOP: TOTAL NO. of ITERATIONS REACHED LIMIT.\n",
      "\n",
      "Increase the number of iterations (max_iter) or scale the data as shown in:\n",
      "    https://scikit-learn.org/stable/modules/preprocessing.html\n",
      "Please also refer to the documentation for alternative solver options:\n",
      "    https://scikit-learn.org/stable/modules/linear_model.html#logistic-regression\n",
      "  extra_warning_msg=_LOGISTIC_SOLVER_CONVERGENCE_MSG)\n",
      "/usr/local/lib/python3.6/dist-packages/sklearn/linear_model/_logistic.py:940: ConvergenceWarning: lbfgs failed to converge (status=1):\n",
      "STOP: TOTAL NO. of ITERATIONS REACHED LIMIT.\n",
      "\n",
      "Increase the number of iterations (max_iter) or scale the data as shown in:\n",
      "    https://scikit-learn.org/stable/modules/preprocessing.html\n",
      "Please also refer to the documentation for alternative solver options:\n",
      "    https://scikit-learn.org/stable/modules/linear_model.html#logistic-regression\n",
      "  extra_warning_msg=_LOGISTIC_SOLVER_CONVERGENCE_MSG)\n",
      "/usr/local/lib/python3.6/dist-packages/sklearn/linear_model/_logistic.py:940: ConvergenceWarning: lbfgs failed to converge (status=1):\n",
      "STOP: TOTAL NO. of ITERATIONS REACHED LIMIT.\n",
      "\n",
      "Increase the number of iterations (max_iter) or scale the data as shown in:\n",
      "    https://scikit-learn.org/stable/modules/preprocessing.html\n",
      "Please also refer to the documentation for alternative solver options:\n",
      "    https://scikit-learn.org/stable/modules/linear_model.html#logistic-regression\n",
      "  extra_warning_msg=_LOGISTIC_SOLVER_CONVERGENCE_MSG)\n",
      "/usr/local/lib/python3.6/dist-packages/sklearn/linear_model/_logistic.py:940: ConvergenceWarning: lbfgs failed to converge (status=1):\n",
      "STOP: TOTAL NO. of ITERATIONS REACHED LIMIT.\n",
      "\n",
      "Increase the number of iterations (max_iter) or scale the data as shown in:\n",
      "    https://scikit-learn.org/stable/modules/preprocessing.html\n",
      "Please also refer to the documentation for alternative solver options:\n",
      "    https://scikit-learn.org/stable/modules/linear_model.html#logistic-regression\n",
      "  extra_warning_msg=_LOGISTIC_SOLVER_CONVERGENCE_MSG)\n",
      "/usr/local/lib/python3.6/dist-packages/sklearn/linear_model/_logistic.py:940: ConvergenceWarning: lbfgs failed to converge (status=1):\n",
      "STOP: TOTAL NO. of ITERATIONS REACHED LIMIT.\n",
      "\n",
      "Increase the number of iterations (max_iter) or scale the data as shown in:\n",
      "    https://scikit-learn.org/stable/modules/preprocessing.html\n",
      "Please also refer to the documentation for alternative solver options:\n",
      "    https://scikit-learn.org/stable/modules/linear_model.html#logistic-regression\n",
      "  extra_warning_msg=_LOGISTIC_SOLVER_CONVERGENCE_MSG)\n",
      "/usr/local/lib/python3.6/dist-packages/sklearn/linear_model/_logistic.py:940: ConvergenceWarning: lbfgs failed to converge (status=1):\n",
      "STOP: TOTAL NO. of ITERATIONS REACHED LIMIT.\n",
      "\n",
      "Increase the number of iterations (max_iter) or scale the data as shown in:\n",
      "    https://scikit-learn.org/stable/modules/preprocessing.html\n",
      "Please also refer to the documentation for alternative solver options:\n",
      "    https://scikit-learn.org/stable/modules/linear_model.html#logistic-regression\n",
      "  extra_warning_msg=_LOGISTIC_SOLVER_CONVERGENCE_MSG)\n",
      "/usr/local/lib/python3.6/dist-packages/sklearn/linear_model/_logistic.py:940: ConvergenceWarning: lbfgs failed to converge (status=1):\n",
      "STOP: TOTAL NO. of ITERATIONS REACHED LIMIT.\n",
      "\n",
      "Increase the number of iterations (max_iter) or scale the data as shown in:\n",
      "    https://scikit-learn.org/stable/modules/preprocessing.html\n",
      "Please also refer to the documentation for alternative solver options:\n",
      "    https://scikit-learn.org/stable/modules/linear_model.html#logistic-regression\n",
      "  extra_warning_msg=_LOGISTIC_SOLVER_CONVERGENCE_MSG)\n",
      "/usr/local/lib/python3.6/dist-packages/sklearn/linear_model/_logistic.py:940: ConvergenceWarning: lbfgs failed to converge (status=1):\n",
      "STOP: TOTAL NO. of ITERATIONS REACHED LIMIT.\n",
      "\n",
      "Increase the number of iterations (max_iter) or scale the data as shown in:\n",
      "    https://scikit-learn.org/stable/modules/preprocessing.html\n",
      "Please also refer to the documentation for alternative solver options:\n",
      "    https://scikit-learn.org/stable/modules/linear_model.html#logistic-regression\n",
      "  extra_warning_msg=_LOGISTIC_SOLVER_CONVERGENCE_MSG)\n",
      "/usr/local/lib/python3.6/dist-packages/sklearn/linear_model/_logistic.py:940: ConvergenceWarning: lbfgs failed to converge (status=1):\n",
      "STOP: TOTAL NO. of ITERATIONS REACHED LIMIT.\n",
      "\n",
      "Increase the number of iterations (max_iter) or scale the data as shown in:\n",
      "    https://scikit-learn.org/stable/modules/preprocessing.html\n",
      "Please also refer to the documentation for alternative solver options:\n",
      "    https://scikit-learn.org/stable/modules/linear_model.html#logistic-regression\n",
      "  extra_warning_msg=_LOGISTIC_SOLVER_CONVERGENCE_MSG)\n",
      "/usr/local/lib/python3.6/dist-packages/sklearn/linear_model/_logistic.py:940: ConvergenceWarning: lbfgs failed to converge (status=1):\n",
      "STOP: TOTAL NO. of ITERATIONS REACHED LIMIT.\n",
      "\n",
      "Increase the number of iterations (max_iter) or scale the data as shown in:\n",
      "    https://scikit-learn.org/stable/modules/preprocessing.html\n",
      "Please also refer to the documentation for alternative solver options:\n",
      "    https://scikit-learn.org/stable/modules/linear_model.html#logistic-regression\n",
      "  extra_warning_msg=_LOGISTIC_SOLVER_CONVERGENCE_MSG)\n",
      "/usr/local/lib/python3.6/dist-packages/sklearn/linear_model/_logistic.py:940: ConvergenceWarning: lbfgs failed to converge (status=1):\n",
      "STOP: TOTAL NO. of ITERATIONS REACHED LIMIT.\n",
      "\n",
      "Increase the number of iterations (max_iter) or scale the data as shown in:\n",
      "    https://scikit-learn.org/stable/modules/preprocessing.html\n",
      "Please also refer to the documentation for alternative solver options:\n",
      "    https://scikit-learn.org/stable/modules/linear_model.html#logistic-regression\n",
      "  extra_warning_msg=_LOGISTIC_SOLVER_CONVERGENCE_MSG)\n",
      "/usr/local/lib/python3.6/dist-packages/sklearn/linear_model/_logistic.py:940: ConvergenceWarning: lbfgs failed to converge (status=1):\n",
      "STOP: TOTAL NO. of ITERATIONS REACHED LIMIT.\n",
      "\n",
      "Increase the number of iterations (max_iter) or scale the data as shown in:\n",
      "    https://scikit-learn.org/stable/modules/preprocessing.html\n",
      "Please also refer to the documentation for alternative solver options:\n",
      "    https://scikit-learn.org/stable/modules/linear_model.html#logistic-regression\n",
      "  extra_warning_msg=_LOGISTIC_SOLVER_CONVERGENCE_MSG)\n",
      "/usr/local/lib/python3.6/dist-packages/sklearn/linear_model/_logistic.py:940: ConvergenceWarning: lbfgs failed to converge (status=1):\n",
      "STOP: TOTAL NO. of ITERATIONS REACHED LIMIT.\n",
      "\n",
      "Increase the number of iterations (max_iter) or scale the data as shown in:\n",
      "    https://scikit-learn.org/stable/modules/preprocessing.html\n",
      "Please also refer to the documentation for alternative solver options:\n",
      "    https://scikit-learn.org/stable/modules/linear_model.html#logistic-regression\n",
      "  extra_warning_msg=_LOGISTIC_SOLVER_CONVERGENCE_MSG)\n",
      "/usr/local/lib/python3.6/dist-packages/sklearn/linear_model/_logistic.py:940: ConvergenceWarning: lbfgs failed to converge (status=1):\n",
      "STOP: TOTAL NO. of ITERATIONS REACHED LIMIT.\n",
      "\n",
      "Increase the number of iterations (max_iter) or scale the data as shown in:\n",
      "    https://scikit-learn.org/stable/modules/preprocessing.html\n",
      "Please also refer to the documentation for alternative solver options:\n",
      "    https://scikit-learn.org/stable/modules/linear_model.html#logistic-regression\n",
      "  extra_warning_msg=_LOGISTIC_SOLVER_CONVERGENCE_MSG)\n",
      "/usr/local/lib/python3.6/dist-packages/sklearn/linear_model/_logistic.py:940: ConvergenceWarning: lbfgs failed to converge (status=1):\n",
      "STOP: TOTAL NO. of ITERATIONS REACHED LIMIT.\n",
      "\n",
      "Increase the number of iterations (max_iter) or scale the data as shown in:\n",
      "    https://scikit-learn.org/stable/modules/preprocessing.html\n",
      "Please also refer to the documentation for alternative solver options:\n",
      "    https://scikit-learn.org/stable/modules/linear_model.html#logistic-regression\n",
      "  extra_warning_msg=_LOGISTIC_SOLVER_CONVERGENCE_MSG)\n",
      "/usr/local/lib/python3.6/dist-packages/sklearn/linear_model/_logistic.py:940: ConvergenceWarning: lbfgs failed to converge (status=1):\n",
      "STOP: TOTAL NO. of ITERATIONS REACHED LIMIT.\n",
      "\n",
      "Increase the number of iterations (max_iter) or scale the data as shown in:\n",
      "    https://scikit-learn.org/stable/modules/preprocessing.html\n",
      "Please also refer to the documentation for alternative solver options:\n",
      "    https://scikit-learn.org/stable/modules/linear_model.html#logistic-regression\n",
      "  extra_warning_msg=_LOGISTIC_SOLVER_CONVERGENCE_MSG)\n",
      "/usr/local/lib/python3.6/dist-packages/sklearn/linear_model/_logistic.py:940: ConvergenceWarning: lbfgs failed to converge (status=1):\n",
      "STOP: TOTAL NO. of ITERATIONS REACHED LIMIT.\n",
      "\n",
      "Increase the number of iterations (max_iter) or scale the data as shown in:\n",
      "    https://scikit-learn.org/stable/modules/preprocessing.html\n",
      "Please also refer to the documentation for alternative solver options:\n",
      "    https://scikit-learn.org/stable/modules/linear_model.html#logistic-regression\n",
      "  extra_warning_msg=_LOGISTIC_SOLVER_CONVERGENCE_MSG)\n",
      "/usr/local/lib/python3.6/dist-packages/sklearn/linear_model/_logistic.py:940: ConvergenceWarning: lbfgs failed to converge (status=1):\n",
      "STOP: TOTAL NO. of ITERATIONS REACHED LIMIT.\n",
      "\n",
      "Increase the number of iterations (max_iter) or scale the data as shown in:\n",
      "    https://scikit-learn.org/stable/modules/preprocessing.html\n",
      "Please also refer to the documentation for alternative solver options:\n",
      "    https://scikit-learn.org/stable/modules/linear_model.html#logistic-regression\n",
      "  extra_warning_msg=_LOGISTIC_SOLVER_CONVERGENCE_MSG)\n",
      "/usr/local/lib/python3.6/dist-packages/sklearn/linear_model/_logistic.py:940: ConvergenceWarning: lbfgs failed to converge (status=1):\n",
      "STOP: TOTAL NO. of ITERATIONS REACHED LIMIT.\n",
      "\n",
      "Increase the number of iterations (max_iter) or scale the data as shown in:\n",
      "    https://scikit-learn.org/stable/modules/preprocessing.html\n",
      "Please also refer to the documentation for alternative solver options:\n",
      "    https://scikit-learn.org/stable/modules/linear_model.html#logistic-regression\n",
      "  extra_warning_msg=_LOGISTIC_SOLVER_CONVERGENCE_MSG)\n",
      "/usr/local/lib/python3.6/dist-packages/sklearn/linear_model/_logistic.py:940: ConvergenceWarning: lbfgs failed to converge (status=1):\n",
      "STOP: TOTAL NO. of ITERATIONS REACHED LIMIT.\n",
      "\n",
      "Increase the number of iterations (max_iter) or scale the data as shown in:\n",
      "    https://scikit-learn.org/stable/modules/preprocessing.html\n",
      "Please also refer to the documentation for alternative solver options:\n",
      "    https://scikit-learn.org/stable/modules/linear_model.html#logistic-regression\n",
      "  extra_warning_msg=_LOGISTIC_SOLVER_CONVERGENCE_MSG)\n",
      "/usr/local/lib/python3.6/dist-packages/sklearn/linear_model/_logistic.py:940: ConvergenceWarning: lbfgs failed to converge (status=1):\n",
      "STOP: TOTAL NO. of ITERATIONS REACHED LIMIT.\n",
      "\n",
      "Increase the number of iterations (max_iter) or scale the data as shown in:\n",
      "    https://scikit-learn.org/stable/modules/preprocessing.html\n",
      "Please also refer to the documentation for alternative solver options:\n",
      "    https://scikit-learn.org/stable/modules/linear_model.html#logistic-regression\n",
      "  extra_warning_msg=_LOGISTIC_SOLVER_CONVERGENCE_MSG)\n",
      "/usr/local/lib/python3.6/dist-packages/sklearn/linear_model/_logistic.py:940: ConvergenceWarning: lbfgs failed to converge (status=1):\n",
      "STOP: TOTAL NO. of ITERATIONS REACHED LIMIT.\n",
      "\n",
      "Increase the number of iterations (max_iter) or scale the data as shown in:\n",
      "    https://scikit-learn.org/stable/modules/preprocessing.html\n",
      "Please also refer to the documentation for alternative solver options:\n",
      "    https://scikit-learn.org/stable/modules/linear_model.html#logistic-regression\n",
      "  extra_warning_msg=_LOGISTIC_SOLVER_CONVERGENCE_MSG)\n",
      "/usr/local/lib/python3.6/dist-packages/sklearn/linear_model/_logistic.py:940: ConvergenceWarning: lbfgs failed to converge (status=1):\n",
      "STOP: TOTAL NO. of ITERATIONS REACHED LIMIT.\n",
      "\n",
      "Increase the number of iterations (max_iter) or scale the data as shown in:\n",
      "    https://scikit-learn.org/stable/modules/preprocessing.html\n",
      "Please also refer to the documentation for alternative solver options:\n",
      "    https://scikit-learn.org/stable/modules/linear_model.html#logistic-regression\n",
      "  extra_warning_msg=_LOGISTIC_SOLVER_CONVERGENCE_MSG)\n",
      "/usr/local/lib/python3.6/dist-packages/sklearn/linear_model/_logistic.py:940: ConvergenceWarning: lbfgs failed to converge (status=1):\n",
      "STOP: TOTAL NO. of ITERATIONS REACHED LIMIT.\n",
      "\n",
      "Increase the number of iterations (max_iter) or scale the data as shown in:\n",
      "    https://scikit-learn.org/stable/modules/preprocessing.html\n",
      "Please also refer to the documentation for alternative solver options:\n",
      "    https://scikit-learn.org/stable/modules/linear_model.html#logistic-regression\n",
      "  extra_warning_msg=_LOGISTIC_SOLVER_CONVERGENCE_MSG)\n",
      "/usr/local/lib/python3.6/dist-packages/sklearn/linear_model/_logistic.py:940: ConvergenceWarning: lbfgs failed to converge (status=1):\n",
      "STOP: TOTAL NO. of ITERATIONS REACHED LIMIT.\n",
      "\n",
      "Increase the number of iterations (max_iter) or scale the data as shown in:\n",
      "    https://scikit-learn.org/stable/modules/preprocessing.html\n",
      "Please also refer to the documentation for alternative solver options:\n",
      "    https://scikit-learn.org/stable/modules/linear_model.html#logistic-regression\n",
      "  extra_warning_msg=_LOGISTIC_SOLVER_CONVERGENCE_MSG)\n",
      "/usr/local/lib/python3.6/dist-packages/sklearn/linear_model/_logistic.py:940: ConvergenceWarning: lbfgs failed to converge (status=1):\n",
      "STOP: TOTAL NO. of ITERATIONS REACHED LIMIT.\n",
      "\n",
      "Increase the number of iterations (max_iter) or scale the data as shown in:\n",
      "    https://scikit-learn.org/stable/modules/preprocessing.html\n",
      "Please also refer to the documentation for alternative solver options:\n",
      "    https://scikit-learn.org/stable/modules/linear_model.html#logistic-regression\n",
      "  extra_warning_msg=_LOGISTIC_SOLVER_CONVERGENCE_MSG)\n",
      "/usr/local/lib/python3.6/dist-packages/sklearn/linear_model/_logistic.py:940: ConvergenceWarning: lbfgs failed to converge (status=1):\n",
      "STOP: TOTAL NO. of ITERATIONS REACHED LIMIT.\n",
      "\n",
      "Increase the number of iterations (max_iter) or scale the data as shown in:\n",
      "    https://scikit-learn.org/stable/modules/preprocessing.html\n",
      "Please also refer to the documentation for alternative solver options:\n",
      "    https://scikit-learn.org/stable/modules/linear_model.html#logistic-regression\n",
      "  extra_warning_msg=_LOGISTIC_SOLVER_CONVERGENCE_MSG)\n",
      "/usr/local/lib/python3.6/dist-packages/sklearn/linear_model/_logistic.py:940: ConvergenceWarning: lbfgs failed to converge (status=1):\n",
      "STOP: TOTAL NO. of ITERATIONS REACHED LIMIT.\n",
      "\n",
      "Increase the number of iterations (max_iter) or scale the data as shown in:\n",
      "    https://scikit-learn.org/stable/modules/preprocessing.html\n",
      "Please also refer to the documentation for alternative solver options:\n",
      "    https://scikit-learn.org/stable/modules/linear_model.html#logistic-regression\n",
      "  extra_warning_msg=_LOGISTIC_SOLVER_CONVERGENCE_MSG)\n",
      "/usr/local/lib/python3.6/dist-packages/sklearn/linear_model/_logistic.py:940: ConvergenceWarning: lbfgs failed to converge (status=1):\n",
      "STOP: TOTAL NO. of ITERATIONS REACHED LIMIT.\n",
      "\n",
      "Increase the number of iterations (max_iter) or scale the data as shown in:\n",
      "    https://scikit-learn.org/stable/modules/preprocessing.html\n",
      "Please also refer to the documentation for alternative solver options:\n",
      "    https://scikit-learn.org/stable/modules/linear_model.html#logistic-regression\n",
      "  extra_warning_msg=_LOGISTIC_SOLVER_CONVERGENCE_MSG)\n",
      "/usr/local/lib/python3.6/dist-packages/sklearn/linear_model/_logistic.py:940: ConvergenceWarning: lbfgs failed to converge (status=1):\n",
      "STOP: TOTAL NO. of ITERATIONS REACHED LIMIT.\n",
      "\n",
      "Increase the number of iterations (max_iter) or scale the data as shown in:\n",
      "    https://scikit-learn.org/stable/modules/preprocessing.html\n",
      "Please also refer to the documentation for alternative solver options:\n",
      "    https://scikit-learn.org/stable/modules/linear_model.html#logistic-regression\n",
      "  extra_warning_msg=_LOGISTIC_SOLVER_CONVERGENCE_MSG)\n",
      "/usr/local/lib/python3.6/dist-packages/sklearn/linear_model/_logistic.py:940: ConvergenceWarning: lbfgs failed to converge (status=1):\n",
      "STOP: TOTAL NO. of ITERATIONS REACHED LIMIT.\n",
      "\n",
      "Increase the number of iterations (max_iter) or scale the data as shown in:\n",
      "    https://scikit-learn.org/stable/modules/preprocessing.html\n",
      "Please also refer to the documentation for alternative solver options:\n",
      "    https://scikit-learn.org/stable/modules/linear_model.html#logistic-regression\n",
      "  extra_warning_msg=_LOGISTIC_SOLVER_CONVERGENCE_MSG)\n",
      "/usr/local/lib/python3.6/dist-packages/sklearn/linear_model/_logistic.py:940: ConvergenceWarning: lbfgs failed to converge (status=1):\n",
      "STOP: TOTAL NO. of ITERATIONS REACHED LIMIT.\n",
      "\n",
      "Increase the number of iterations (max_iter) or scale the data as shown in:\n",
      "    https://scikit-learn.org/stable/modules/preprocessing.html\n",
      "Please also refer to the documentation for alternative solver options:\n",
      "    https://scikit-learn.org/stable/modules/linear_model.html#logistic-regression\n",
      "  extra_warning_msg=_LOGISTIC_SOLVER_CONVERGENCE_MSG)\n"
     ]
    },
    {
     "data": {
      "text/plain": [
       "GridSearchCV(cv=5, error_score=nan,\n",
       "             estimator=LogisticRegression(C=1.0, class_weight=None, dual=False,\n",
       "                                          fit_intercept=True,\n",
       "                                          intercept_scaling=1, l1_ratio=None,\n",
       "                                          max_iter=100, multi_class='auto',\n",
       "                                          n_jobs=None, penalty='l2',\n",
       "                                          random_state=None, solver='lbfgs',\n",
       "                                          tol=0.0001, verbose=0,\n",
       "                                          warm_start=False),\n",
       "             iid='deprecated', n_jobs=None,\n",
       "             param_grid={'C': array([1.58489319e-02, 1.7...\n",
       "       1.86512125e+01, 2.03746853e+01, 2.22574162e+01, 2.43141217e+01,\n",
       "       2.65608778e+01, 2.90152464e+01, 3.16964118e+01, 3.46253315e+01,\n",
       "       3.78248991e+01, 4.13201240e+01, 4.51383266e+01, 4.93093517e+01,\n",
       "       5.38658021e+01, 5.88432931e+01, 6.42807312e+01, 7.02206179e+01,\n",
       "       7.67093822e+01, 8.37977433e+01, 9.15411073e+01, 1.00000000e+02]),\n",
       "                         'penalty': ['l2']},\n",
       "             pre_dispatch='2*n_jobs', refit=True, return_train_score=False,\n",
       "             scoring=None, verbose=0)"
      ]
     },
     "execution_count": 67,
     "metadata": {
      "tags": []
     },
     "output_type": "execute_result"
    }
   ],
   "source": [
    "# Possible hyperparamter options for Logistic Regression Regularization\n",
    "# Penalty is choosed from L1 or L2\n",
    "# C is the lambda value(weight) for L1 and L2\n",
    "\n",
    "parameters = {\n",
    "    # ('l1', 'l2')\n",
    "    'penalty':['l2'],\n",
    "    'C':np.logspace (-1.8, 2, num=100)\n",
    "}\n",
    "Grid_LR = GridSearchCV(LogisticRegression(),parameters, cv=5)\n",
    "Grid_LR.fit(model_train_x, model_train_y)"
   ]
  },
  {
   "cell_type": "code",
   "execution_count": null,
   "metadata": {
    "colab": {
     "base_uri": "https://localhost:8080/",
     "height": 90
    },
    "colab_type": "code",
    "id": "wB4_6n1hG0QD",
    "outputId": "6c1f87d4-502f-406f-b80f-0e8bfe0b7dd3"
   },
   "outputs": [
    {
     "name": "stdout",
     "output_type": "stream",
     "text": [
      "Best score: 0.885\n",
      "Best parameters set:\n",
      "\tC: 0.09282752422641029\n",
      "\tpenalty: 'l2'\n"
     ]
    }
   ],
   "source": [
    "# the best hyperparameter combination\n",
    "print_grid_search_metrics(Grid_LR)"
   ]
  },
  {
   "cell_type": "code",
   "execution_count": null,
   "metadata": {
    "colab": {},
    "colab_type": "code",
    "id": "TrSxPEYQG0QE"
   },
   "outputs": [],
   "source": [
    "# best model\n",
    "best_LR_model = Grid_LR.best_estimator_"
   ]
  },
  {
   "cell_type": "markdown",
   "metadata": {
    "colab_type": "text",
    "id": "uMv9dXBGKvEe"
   },
   "source": [
    "### Model evaluation"
   ]
  },
  {
   "cell_type": "markdown",
   "metadata": {
    "colab_type": "text",
    "id": "PfErIdH3KvEe"
   },
   "source": [
    "#### Confusion matrix"
   ]
  },
  {
   "cell_type": "code",
   "execution_count": null,
   "metadata": {
    "colab": {},
    "colab_type": "code",
    "id": "6wRM8GpDKvEe"
   },
   "outputs": [],
   "source": [
    "from sklearn.metrics import confusion_matrix\n",
    "from sklearn.metrics import classification_report\n",
    "from sklearn.metrics import precision_score\n",
    "from sklearn.metrics import recall_score\n",
    "\n",
    "# calculate accuracy, precision and recall, [[tn, fp],[]]\n",
    "def cal_evaluation(classifier, cm):\n",
    "    tn = cm[0][0]\n",
    "    fp = cm[0][1]\n",
    "    fn = cm[1][0]\n",
    "    tp = cm[1][1]\n",
    "    accuracy  = (tp + tn) / (tp + fp + fn + tn + 0.0)\n",
    "    precision = tp / (tp + fp + 0.0)\n",
    "    recall = tp / (tp + fn + 0.0)\n",
    "    print (classifier)\n",
    "    print (\"Accuracy is: %0.3f\" % accuracy)\n",
    "    print (\"precision is: %0.3f\" % precision)\n",
    "    print (\"recall is: %0.3f\" % recall)\n",
    "\n",
    "# print out confusion matrices\n",
    "def draw_confusion_matrices(confusion_matricies):\n",
    "    class_names = ['Not_booked','Booked']\n",
    "    for cm in confusion_matrices:\n",
    "        classifier, cm = cm[0], cm[1]\n",
    "        cal_evaluation(classifier, cm)\n",
    "        fig = plt.figure()\n",
    "        ax = fig.add_subplot(111)\n",
    "        cax = ax.matshow(cm, interpolation='nearest',cmap=plt.get_cmap('Reds'))\n",
    "        plt.title('Confusion matrix for %s' % classifier)\n",
    "        fig.colorbar(cax)\n",
    "        ax.set_xticklabels([''] + class_names)\n",
    "        ax.set_yticklabels([''] + class_names)\n",
    "        plt.xlabel('Predicted')\n",
    "        plt.ylabel('True')\n",
    "        plt.show()"
   ]
  },
  {
   "cell_type": "code",
   "execution_count": null,
   "metadata": {
    "colab": {
     "base_uri": "https://localhost:8080/",
     "height": 54
    },
    "colab_type": "code",
    "id": "bC9hgz12KvEf",
    "outputId": "f74e003b-de5a-4634-cfe7-a45ee52307cf"
   },
   "outputs": [
    {
     "data": {
      "text/plain": [
       "array([[617,  29],\n",
       "       [ 60,  70]])"
      ]
     },
     "execution_count": 71,
     "metadata": {
      "tags": []
     },
     "output_type": "execute_result"
    }
   ],
   "source": [
    "confusion_matrix(model_test_y, best_LR_model.predict(model_test_x))"
   ]
  },
  {
   "cell_type": "code",
   "execution_count": null,
   "metadata": {
    "colab": {
     "base_uri": "https://localhost:8080/",
     "height": 362
    },
    "colab_type": "code",
    "id": "VU4Ns3EmKvEg",
    "outputId": "5c1a15a6-eaf1-4624-9665-1a10f9811159"
   },
   "outputs": [
    {
     "name": "stdout",
     "output_type": "stream",
     "text": [
      "Logistic Regression\n",
      "Accuracy is: 0.885\n",
      "precision is: 0.707\n",
      "recall is: 0.538\n"
     ]
    },
    {
     "data": {
      "image/png": "[encoded data removed]",
      "text/plain": [
       "<Figure size 432x288 with 2 Axes>"
      ]
     },
     "metadata": {
      "needs_background": "light",
      "tags": []
     },
     "output_type": "display_data"
    }
   ],
   "source": [
    "%matplotlib inline\n",
    "\n",
    "# Confusion matrix, accuracy, precison and recall for random forest and logistic regression\n",
    "confusion_matrices = [\n",
    "    (\"Logistic Regression\", confusion_matrix(model_test_y, best_LR_model.predict(model_test_x))),\n",
    "    #(\"Logistic Regression\", confusion_matrix(yc_test,best_LR_model.predict(Xc_test))),\n",
    "]\n",
    "\n",
    "draw_confusion_matrices(confusion_matrices)"
   ]
  },
  {
   "cell_type": "markdown",
   "metadata": {
    "colab_type": "text",
    "id": "JHxT8nguKvEh"
   },
   "source": [
    "#### ROC & AUC"
   ]
  },
  {
   "cell_type": "code",
   "execution_count": null,
   "metadata": {
    "colab": {},
    "colab_type": "code",
    "id": "ThCQHZobKvEi"
   },
   "outputs": [],
   "source": [
    "from sklearn.metrics import roc_curve\n",
    "from sklearn import metrics\n",
    "\n",
    "# Use predict_proba to get the probability results of Logistic Regression\n",
    "y_pred_lr = best_LR_model.predict_proba(model_test_x)[:, 1]\n",
    "fpr_lr, tpr_lr, _ = roc_curve(model_test_y, y_pred_lr)"
   ]
  },
  {
   "cell_type": "code",
   "execution_count": null,
   "metadata": {
    "colab": {
     "base_uri": "https://localhost:8080/",
     "height": 295
    },
    "colab_type": "code",
    "id": "L5rKloQfKvEi",
    "outputId": "ac7816b9-8d4e-47c2-991f-0621797a69f5"
   },
   "outputs": [
    {
     "data": {
      "image/png": "[encoded data removed]",
      "text/plain": [
       "<Figure size 432x288 with 1 Axes>"
      ]
     },
     "metadata": {
      "needs_background": "light",
      "tags": []
     },
     "output_type": "display_data"
    }
   ],
   "source": [
    "# ROC Curve\n",
    "plt.figure(1)\n",
    "plt.plot([0, 1], [0, 1], 'k--')\n",
    "plt.plot(fpr_lr, tpr_lr, label='LR')\n",
    "plt.xlabel('False positive rate')\n",
    "plt.ylabel('True positive rate')\n",
    "plt.title('ROC curve - LR Model')\n",
    "plt.legend(loc='best')\n",
    "plt.show()"
   ]
  },
  {
   "cell_type": "code",
   "execution_count": null,
   "metadata": {
    "colab": {
     "base_uri": "https://localhost:8080/",
     "height": 35
    },
    "colab_type": "code",
    "id": "mi7_8KW2KvEl",
    "outputId": "e6c72997-7204-4e34-eedc-4fea6cc88d5d"
   },
   "outputs": [
    {
     "data": {
      "text/plain": [
       "0.8835853774708263"
      ]
     },
     "execution_count": 75,
     "metadata": {
      "tags": []
     },
     "output_type": "execute_result"
    }
   ],
   "source": [
    "# AUC score\n",
    "metrics.auc(fpr_lr,tpr_lr)"
   ]
  },
  {
   "cell_type": "markdown",
   "metadata": {
    "colab_type": "text",
    "id": "9s9CbxYjKvEm"
   },
   "source": [
    "### Results interpretation"
   ]
  },
  {
   "cell_type": "code",
   "execution_count": null,
   "metadata": {
    "colab": {
     "base_uri": "https://localhost:8080/",
     "height": 1000
    },
    "colab_type": "code",
    "id": "OpxahuODKvEm",
    "outputId": "90e395f6-6c97-4248-c2e4-60ba100b8bc2",
    "scrolled": true
   },
   "outputs": [
    {
     "name": "stdout",
     "output_type": "stream",
     "text": [
      "interactions_1-10: -1.7255\n",
      "interactions_>30: 0.9256\n",
      "lead_time_>90d*interactions_1-10: -0.6576\n",
      "interactions_21-30: 0.6503\n",
      "past_booker: 0.5745\n",
      "message_length_151-300*interactions_1-10: -0.5744\n",
      "message_length_0-150*interactions_1-10: -0.5106\n",
      "days_of_stay_>15d: -0.5073\n",
      "message_length_151-300*interactions_>30: 0.4228\n",
      "message_length_301-450*interactions_1-10: -0.4189\n",
      "reviews_0: -0.4183\n",
      "lead_time_1-30d*interactions_1-10: -0.3997\n",
      "lead_time_>90d*interactions_>30: 0.3908\n",
      "days_of_stay_1-5d: 0.355\n",
      "lead_time_61-90d*interactions_1-10: -0.3507\n",
      "message_length_0-150: -0.3504\n",
      "message_length_301-450*interactions_21-30: 0.3285\n",
      "lead_time_31-60d*interactions_1-10: -0.3174\n",
      "message_length_>450*interactions_11-20: 0.2991\n",
      "message_length_0-150*interactions_21-30: 0.2938\n",
      "message_length_>450*interactions_>30: 0.2541\n",
      "days_of_stay_6-10d: 0.2539\n",
      "message_length_301-450*interactions_>30: 0.2461\n",
      "lead_time_>90d*interactions_21-30: 0.241\n",
      "message_length_>450: 0.2256\n",
      "message_length_>450*interactions_1-10: -0.2216\n",
      "lead_time_1-30d*interactions_>30: 0.217\n",
      "reviews_>30: 0.2112\n",
      "lead_time_>90d*message_length_151-300: 0.1976\n",
      "lead_time_31-60d*interactions_>30: 0.1893\n",
      "lead_time_61-90d*message_length_0-150: -0.1863\n",
      "lead_time_1-30d*message_length_151-300: -0.1742\n",
      "lead_time_31-60d*message_length_>450: 0.1674\n",
      "lead_time_61-90d*message_length_301-450: 0.1659\n",
      "lead_time_61-90d*interactions_21-30: 0.156\n",
      "lead_time_1-30d*message_length_>450: 0.1533\n",
      "lead_time_1-30d*interactions_21-30: 0.1517\n",
      "interactions_11-20: 0.1496\n",
      "message_length_0-150*interactions_11-20: -0.1362\n",
      "message_length_151-300*interactions_21-30: 0.1339\n",
      "lead_time_61-90d*interactions_>30: 0.1286\n",
      "message_length_301-450: 0.1286\n",
      "lead_time_1-30d*message_length_301-450: 0.1216\n",
      "message_length_>450*interactions_21-30: -0.106\n",
      "days_of_stay_11-15d: -0.1016\n",
      "lead_time_31-60d*interactions_21-30: 0.1016\n",
      "lead_time_>90d*message_length_301-450: -0.0998\n",
      "lead_time_1-30d*message_length_0-150: -0.0904\n",
      "lead_time_61-90d*interactions_11-20: 0.0892\n",
      "reviews_11-20: 0.0887\n",
      "lead_time_31-60d*message_length_151-300: -0.0833\n",
      "reviews_21-30: 0.0832\n",
      "lead_time_>90d*message_length_>450: -0.0824\n",
      "accept_t: 0.0656\n",
      "lead_time_>90d*message_length_0-150: -0.0601\n",
      "lead_time_31-60d*message_length_301-450: -0.0591\n",
      "lead_time_61-90d*message_length_151-300: 0.0561\n",
      "lead_time_>90d: -0.0447\n",
      "lead_time_1-30d*interactions_11-20: 0.0414\n",
      "lead_time_31-60d*interactions_11-20: 0.0379\n",
      "reviews_1-10: 0.0352\n",
      "message_length_301-450*interactions_11-20: -0.0272\n",
      "lead_time_61-90d: 0.0229\n",
      "lead_time_>90d*interactions_11-20: -0.0189\n",
      "message_length_151-300*interactions_11-20: 0.0139\n",
      "lead_time_31-60d*message_length_0-150: -0.0136\n",
      "lead_time_61-90d*message_length_>450: -0.0128\n",
      "lead_time_31-60d: 0.0114\n",
      "lead_time_1-30d: 0.0104\n",
      "message_length_151-300: -0.0038\n",
      "message_length_0-150*interactions_>30: 0.0026\n"
     ]
    }
   ],
   "source": [
    "# Store the coef for results interpretation\n",
    "res = pd.DataFrame(columns=['Feature', 'Coef'])\n",
    "\n",
    "for k,v in sorted(zip(map(lambda x: round(x, 4), best_LR_model.fit(model_train_x, model_train_y).coef_[0]), \\\n",
    "                      model_train_x.columns), key=lambda k_v:(-abs(k_v[0]),k_v[1])):\n",
    "    print (v + \": \" + str(k))\n",
    "    res = res.append({'Feature': v, 'Coef': k}, ignore_index=True)\n"
   ]
  },
  {
   "cell_type": "code",
   "execution_count": null,
   "metadata": {
    "colab": {},
    "colab_type": "code",
    "id": "itkcsQMXKvEn"
   },
   "outputs": [],
   "source": [
    "res = res.set_index('Feature')"
   ]
  },
  {
   "cell_type": "code",
   "execution_count": null,
   "metadata": {
    "colab": {
     "base_uri": "https://localhost:8080/",
     "height": 54
    },
    "colab_type": "code",
    "id": "I1Z6u5a_KvEp",
    "outputId": "df2d732d-c105-4551-c176-3b5ce95dbe4d"
   },
   "outputs": [
    {
     "name": "stdout",
     "output_type": "stream",
     "text": [
      "past_booker: 0.5745\n",
      "accept_t: 0.0656\n"
     ]
    }
   ],
   "source": [
    "print('past_booker: ' + str(res.Coef.loc['past_booker'])) \n",
    "print('accept_t: ' + str(res.Coef.loc['accept_t'])) \n"
   ]
  },
  {
   "cell_type": "markdown",
   "metadata": {
    "colab_type": "text",
    "id": "kG7H3WgAZeT-"
   },
   "source": [
    "Past bookers are more likely to confirm bookings after the inquiries are accepted\n",
    "\n",
    "Longer accept time slightly increases the probability of confirmation"
   ]
  },
  {
   "cell_type": "code",
   "execution_count": null,
   "metadata": {
    "colab": {
     "base_uri": "https://localhost:8080/",
     "height": 326
    },
    "colab_type": "code",
    "id": "HcJgG6JoKvEq",
    "outputId": "1c8bf199-da53-4391-f2e6-7f6da764e7ec"
   },
   "outputs": [
    {
     "name": "stdout",
     "output_type": "stream",
     "text": [
      "interactions_1-10: -1.7255\n",
      "interactions_11-20: 0.1496\n",
      "interactions_21-30: 0.6503\n",
      "interactions_>30: 0.9256\n",
      "reviews_0: -0.4183\n",
      "reviews_1-10: 0.0352\n",
      "reviews_11-20: 0.0887\n",
      "reviews_21-30: 0.0832\n",
      "reviews_>30: 0.2112\n",
      "days_of_stay_1-5d: 0.355\n",
      "days_of_stay_6-10d: 0.2539\n",
      "days_of_stay_11-15d: -0.1016\n",
      "days_of_stay_>15d: -0.5073\n",
      "lead_time_1-30d: 0.0104\n",
      "lead_time_31-60d: 0.0114\n",
      "lead_time_61-90d: 0.0229\n",
      "lead_time_>90d: -0.0447\n"
     ]
    }
   ],
   "source": [
    "for i in list(interactions):\n",
    "  print(i + \": \" + str(res.Coef.loc[i]))\n",
    "\n",
    "for i in list(reviews):\n",
    "  print(i + \": \" + str(res.Coef.loc[i]))\n",
    "\n",
    "for i in list(stays):\n",
    "  print(i + \": \" + str(res.Coef.loc[i]))\n",
    "\n",
    "for i in list(lead_times):\n",
    "  print(i + \": \" + str(res.Coef.loc[i]))"
   ]
  },
  {
   "cell_type": "markdown",
   "metadata": {
    "colab_type": "text",
    "id": "e2zCZ5XaZ0-D"
   },
   "source": [
    "*   More than 20 interactions significantly increases the probability of confirmation from hosts, and having less than 10 interactions decreases it\n",
    "*   Guests are less likely to confirm the booking if the listings have 0 reviews but more likely to confirm those with more 30 reviews\n",
    "*   Inquiries for less than 10 days of stays are more likely to be confirmed, but inquiries for more than 15 days of stays are less likely to be confirmed\n",
    "*   Guests are less likely to confirm accepted inquiries if they are made more than 90 days before checkin "
   ]
  },
  {
   "cell_type": "code",
   "execution_count": null,
   "metadata": {
    "colab": {
     "base_uri": "https://localhost:8080/",
     "height": 308
    },
    "colab_type": "code",
    "id": "wIQ7kXvKH-lw",
    "outputId": "ee575738-dbe4-4312-8cf2-e5f3ae662f9c"
   },
   "outputs": [
    {
     "name": "stdout",
     "output_type": "stream",
     "text": [
      "lead_time_1-30d*interactions_1-10: -0.3997\n",
      "lead_time_1-30d*interactions_11-20: 0.0414\n",
      "lead_time_1-30d*interactions_21-30: 0.1517\n",
      "lead_time_1-30d*interactions_>30: 0.217\n",
      "lead_time_31-60d*interactions_1-10: -0.3174\n",
      "lead_time_31-60d*interactions_11-20: 0.0379\n",
      "lead_time_31-60d*interactions_21-30: 0.1016\n",
      "lead_time_31-60d*interactions_>30: 0.1893\n",
      "lead_time_61-90d*interactions_1-10: -0.3507\n",
      "lead_time_61-90d*interactions_11-20: 0.0892\n",
      "lead_time_61-90d*interactions_21-30: 0.156\n",
      "lead_time_61-90d*interactions_>30: 0.1286\n",
      "lead_time_>90d*interactions_1-10: -0.6576\n",
      "lead_time_>90d*interactions_11-20: -0.0189\n",
      "lead_time_>90d*interactions_21-30: 0.241\n",
      "lead_time_>90d*interactions_>30: 0.3908\n"
     ]
    }
   ],
   "source": [
    "for i in list(lead_times):\n",
    "  for j in list(interactions):\n",
    "    print(i + \"*\" + j + \": \" + str(res.Coef.loc[i + \"*\" + j ]))"
   ]
  },
  {
   "cell_type": "markdown",
   "metadata": {
    "colab_type": "text",
    "id": "WwkES1h6Iou9"
   },
   "source": [
    "Having more than 10 interactions drives up the probability of confirmation from negative to positive for lead time within 90 days \n",
    "\n",
    "For inquiries with lead time >90 days, need more than 20 interactions to drive confirmation\n"
   ]
  },
  {
   "cell_type": "code",
   "execution_count": null,
   "metadata": {
    "colab": {
     "base_uri": "https://localhost:8080/",
     "height": 308
    },
    "colab_type": "code",
    "id": "bEch7CPTH_h8",
    "outputId": "f46ea7dc-73de-4ef7-8639-ffa748fdb983"
   },
   "outputs": [
    {
     "name": "stdout",
     "output_type": "stream",
     "text": [
      "message_length_0-150*interactions_1-10: -0.5106\n",
      "message_length_0-150*interactions_11-20: -0.1362\n",
      "message_length_0-150*interactions_21-30: 0.2938\n",
      "message_length_0-150*interactions_>30: 0.0026\n",
      "message_length_151-300*interactions_1-10: -0.5744\n",
      "message_length_151-300*interactions_11-20: 0.0139\n",
      "message_length_151-300*interactions_21-30: 0.1339\n",
      "message_length_151-300*interactions_>30: 0.4228\n",
      "message_length_301-450*interactions_1-10: -0.4189\n",
      "message_length_301-450*interactions_11-20: -0.0272\n",
      "message_length_301-450*interactions_21-30: 0.3285\n",
      "message_length_301-450*interactions_>30: 0.2461\n",
      "message_length_>450*interactions_1-10: -0.2216\n",
      "message_length_>450*interactions_11-20: 0.2991\n",
      "message_length_>450*interactions_21-30: -0.106\n",
      "message_length_>450*interactions_>30: 0.2541\n"
     ]
    }
   ],
   "source": [
    "for i in list(message_lengths):\n",
    "  for j in list(interactions):\n",
    "    print(i + \"*\" + j + \": \" + str(res.Coef.loc[i + \"*\" + j ]))"
   ]
  },
  {
   "cell_type": "markdown",
   "metadata": {
    "colab_type": "text",
    "id": "BpuWPk6JJBR9"
   },
   "source": [
    "When message length <= 150 char, 21-30 interactions benefits confirmation the most\n",
    "\n",
    "When message length between 151 - 300 char, > 30 interactions benefits confirmation the most\n",
    "\n",
    "When message length between 301 - 450 char, need more than 20 interactions to drive confirmation \n",
    "\n",
    "When message length > 450 char, 21-30 interactions doesn't benefit confirmation but 11 - 20 does the most "
   ]
  },
  {
   "cell_type": "code",
   "execution_count": null,
   "metadata": {
    "colab": {
     "base_uri": "https://localhost:8080/",
     "height": 308
    },
    "colab_type": "code",
    "id": "9_mRZPP3IAGH",
    "outputId": "1639a810-5f4a-4ce2-ed36-b2ab14cf6838"
   },
   "outputs": [
    {
     "name": "stdout",
     "output_type": "stream",
     "text": [
      "lead_time_1-30d*message_length_0-150: -0.0904\n",
      "lead_time_1-30d*message_length_151-300: -0.1742\n",
      "lead_time_1-30d*message_length_301-450: 0.1216\n",
      "lead_time_1-30d*message_length_>450: 0.1533\n",
      "lead_time_31-60d*message_length_0-150: -0.0136\n",
      "lead_time_31-60d*message_length_151-300: -0.0833\n",
      "lead_time_31-60d*message_length_301-450: -0.0591\n",
      "lead_time_31-60d*message_length_>450: 0.1674\n",
      "lead_time_61-90d*message_length_0-150: -0.1863\n",
      "lead_time_61-90d*message_length_151-300: 0.0561\n",
      "lead_time_61-90d*message_length_301-450: 0.1659\n",
      "lead_time_61-90d*message_length_>450: -0.0128\n",
      "lead_time_>90d*message_length_0-150: -0.0601\n",
      "lead_time_>90d*message_length_151-300: 0.1976\n",
      "lead_time_>90d*message_length_301-450: -0.0998\n",
      "lead_time_>90d*message_length_>450: -0.0824\n"
     ]
    }
   ],
   "source": [
    "for i in list(lead_times):\n",
    "  for j in list(message_lengths):\n",
    "    print(i + \"*\" + j + \": \" + str(res.Coef.loc[i + \"*\" + j ]))"
   ]
  },
  {
   "cell_type": "markdown",
   "metadata": {
    "colab_type": "text",
    "id": "_qf_oY7mKATs"
   },
   "source": [
    "When lead_time <= 60 days, long messages(>450 char) benefits confirmation \n",
    "\n",
    "When lead_time between 60 - 90 days, long messages(>450 char) don't benefits confirmation, but intermediate length messages (301- 450 char) do \n",
    "\n",
    "When lead_time >90 days, only messages between 150 - 300 char benefit confirmation\n"
   ]
  },
  {
   "cell_type": "code",
   "execution_count": null,
   "metadata": {
    "colab": {
     "base_uri": "https://localhost:8080/",
     "height": 17
    },
    "colab_type": "code",
    "id": "T24AiFk-KvEt",
    "outputId": "5de7a5fb-8378-4941-ef3e-17c793f2e472"
   },
   "outputs": [
    {
     "data": {
      "application/javascript": [
       "\n",
       "    async function download(id, filename, size) {\n",
       "      if (!google.colab.kernel.accessAllowed) {\n",
       "        return;\n",
       "      }\n",
       "      const div = document.createElement('div');\n",
       "      const label = document.createElement('label');\n",
       "      label.textContent = `Downloading \"${filename}\": `;\n",
       "      div.appendChild(label);\n",
       "      const progress = document.createElement('progress');\n",
       "      progress.max = size;\n",
       "      div.appendChild(progress);\n",
       "      document.body.appendChild(div);\n",
       "\n",
       "      const buffers = [];\n",
       "      let downloaded = 0;\n",
       "\n",
       "      const channel = await google.colab.kernel.comms.open(id);\n",
       "      // Send a message to notify the kernel that we're ready.\n",
       "      channel.send({})\n",
       "\n",
       "      for await (const message of channel.messages) {\n",
       "        // Send a message to notify the kernel that we're ready.\n",
       "        channel.send({})\n",
       "        if (message.buffers) {\n",
       "          for (const buffer of message.buffers) {\n",
       "            buffers.push(buffer);\n",
       "            downloaded += buffer.byteLength;\n",
       "            progress.value = downloaded;\n",
       "          }\n",
       "        }\n",
       "      }\n",
       "      const blob = new Blob(buffers, {type: 'application/binary'});\n",
       "      const a = document.createElement('a');\n",
       "      a.href = window.URL.createObjectURL(blob);\n",
       "      a.download = filename;\n",
       "      div.appendChild(a);\n",
       "      a.click();\n",
       "      div.remove();\n",
       "    }\n",
       "  "
      ],
      "text/plain": [
       "<IPython.core.display.Javascript object>"
      ]
     },
     "metadata": {
      "tags": []
     },
     "output_type": "display_data"
    },
    {
     "data": {
      "application/javascript": [
       "download(\"download_371148fd-d8c9-4e55-9d17-e3ad9eecffda\", \"mod3_res.csv\", 2718)"
      ],
      "text/plain": [
       "<IPython.core.display.Javascript object>"
      ]
     },
     "metadata": {
      "tags": []
     },
     "output_type": "display_data"
    }
   ],
   "source": [
    "from google.colab import files\n",
    "\n",
    "res.to_csv('mod3_res.csv')\n",
    "files.download('mod3_res.csv')"
   ]
  }
 ],
 "metadata": {
  "colab": {
   "name": "Airbnb_Model_Ver_3.ipynb",
   "provenance": [],
   "toc_visible": true
  },
  "kernelspec": {
   "display_name": "Python 3",
   "language": "python",
   "name": "python3"
  },
  "language_info": {
   "codemirror_mode": {
    "name": "ipython",
    "version": 3
   },
   "file_extension": ".py",
   "mimetype": "text/x-python",
   "name": "python",
   "nbconvert_exporter": "python",
   "pygments_lexer": "ipython3",
   "version": "3.7.3"
  }
 },
 "nbformat": 4,
 "nbformat_minor": 1
}
